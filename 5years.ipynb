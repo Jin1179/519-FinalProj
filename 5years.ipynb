{
  "cells": [
    {
      "cell_type": "code",
      "execution_count": 146,
      "metadata": {
        "id": "6akgIjHksg0N"
      },
      "outputs": [],
      "source": [
        "import random\n",
        "import numpy as np\n",
        "import tensorflow as tf\n",
        "import pandas as pd\n",
        "import numpy as np\n",
        "import matplotlib.pyplot as plt\n",
        "import math\n",
        "import datetime as dt\n",
        "import seaborn as sns\n",
        "\n",
        "from sklearn.model_selection import train_test_split\n",
        "from sklearn.utils import resample\n",
        "from sklearn.metrics import accuracy_score, precision_score, recall_score, f1_score\n",
        "from sklearn.metrics import mean_squared_error, mean_absolute_error, explained_variance_score, r2_score \n",
        "from sklearn.metrics import mean_poisson_deviance, mean_gamma_deviance\n",
        "from sklearn.metrics import confusion_matrix\n",
        "from sklearn.preprocessing import StandardScaler,MinMaxScaler\n",
        "\n",
        "import tensorflow as tf\n",
        "from tensorflow.keras.models import Sequential\n",
        "from tensorflow.keras.layers import Dense\n",
        "from tensorflow.keras.layers import LSTM, GRU\n",
        "\n",
        "from itertools import cycle\n",
        "# ! pip install plotly\n",
        "import plotly.graph_objects as go\n",
        "import plotly.express as px\n",
        "from plotly.subplots import make_subplots\n",
        "\n",
        "# Set the random seeds\n",
        "random_seed = 42\n",
        "random.seed(random_seed)\n",
        "np.random.seed(random_seed)\n",
        "tf.random.set_seed(random_seed)"
      ]
    },
    {
      "cell_type": "code",
      "execution_count": 147,
      "metadata": {
        "id": "d-vBwxNCdRLK",
        "colab": {
          "base_uri": "https://localhost:8080/"
        },
        "outputId": "4a0862f4-3f1d-4c31-f387-cf8dbb9a6164"
      },
      "outputs": [
        {
          "output_type": "stream",
          "name": "stdout",
          "text": [
            "Looking in indexes: https://pypi.org/simple, https://us-python.pkg.dev/colab-wheels/public/simple/\n",
            "Requirement already satisfied: geopandas in /usr/local/lib/python3.9/dist-packages (0.12.2)\n",
            "Requirement already satisfied: packaging in /usr/local/lib/python3.9/dist-packages (from geopandas) (23.1)\n",
            "Requirement already satisfied: pyproj>=2.6.1.post1 in /usr/local/lib/python3.9/dist-packages (from geopandas) (3.5.0)\n",
            "Requirement already satisfied: pandas>=1.0.0 in /usr/local/lib/python3.9/dist-packages (from geopandas) (1.5.3)\n",
            "Requirement already satisfied: shapely>=1.7 in /usr/local/lib/python3.9/dist-packages (from geopandas) (2.0.1)\n",
            "Requirement already satisfied: fiona>=1.8 in /usr/local/lib/python3.9/dist-packages (from geopandas) (1.9.3)\n",
            "Requirement already satisfied: cligj>=0.5 in /usr/local/lib/python3.9/dist-packages (from fiona>=1.8->geopandas) (0.7.2)\n",
            "Requirement already satisfied: click-plugins>=1.0 in /usr/local/lib/python3.9/dist-packages (from fiona>=1.8->geopandas) (1.1.1)\n",
            "Requirement already satisfied: munch>=2.3.2 in /usr/local/lib/python3.9/dist-packages (from fiona>=1.8->geopandas) (2.5.0)\n",
            "Requirement already satisfied: importlib-metadata in /usr/local/lib/python3.9/dist-packages (from fiona>=1.8->geopandas) (6.6.0)\n",
            "Requirement already satisfied: attrs>=19.2.0 in /usr/local/lib/python3.9/dist-packages (from fiona>=1.8->geopandas) (23.1.0)\n",
            "Requirement already satisfied: certifi in /usr/local/lib/python3.9/dist-packages (from fiona>=1.8->geopandas) (2022.12.7)\n",
            "Requirement already satisfied: click~=8.0 in /usr/local/lib/python3.9/dist-packages (from fiona>=1.8->geopandas) (8.1.3)\n",
            "Requirement already satisfied: python-dateutil>=2.8.1 in /usr/local/lib/python3.9/dist-packages (from pandas>=1.0.0->geopandas) (2.8.2)\n",
            "Requirement already satisfied: numpy>=1.20.3 in /usr/local/lib/python3.9/dist-packages (from pandas>=1.0.0->geopandas) (1.22.4)\n",
            "Requirement already satisfied: pytz>=2020.1 in /usr/local/lib/python3.9/dist-packages (from pandas>=1.0.0->geopandas) (2022.7.1)\n",
            "Requirement already satisfied: six in /usr/local/lib/python3.9/dist-packages (from munch>=2.3.2->fiona>=1.8->geopandas) (1.16.0)\n",
            "Requirement already satisfied: zipp>=0.5 in /usr/local/lib/python3.9/dist-packages (from importlib-metadata->fiona>=1.8->geopandas) (3.15.0)\n",
            "Looking in indexes: https://pypi.org/simple, https://us-python.pkg.dev/colab-wheels/public/simple/\n",
            "Requirement already satisfied: simpletransformers in /usr/local/lib/python3.9/dist-packages (0.63.11)\n",
            "Requirement already satisfied: regex in /usr/local/lib/python3.9/dist-packages (from simpletransformers) (2022.10.31)\n",
            "Requirement already satisfied: tokenizers in /usr/local/lib/python3.9/dist-packages (from simpletransformers) (0.13.3)\n",
            "Requirement already satisfied: requests in /usr/local/lib/python3.9/dist-packages (from simpletransformers) (2.27.1)\n",
            "Requirement already satisfied: scipy in /usr/local/lib/python3.9/dist-packages (from simpletransformers) (1.10.1)\n",
            "Requirement already satisfied: seqeval in /usr/local/lib/python3.9/dist-packages (from simpletransformers) (1.2.2)\n",
            "Requirement already satisfied: scikit-learn in /usr/local/lib/python3.9/dist-packages (from simpletransformers) (1.2.2)\n",
            "Requirement already satisfied: sentencepiece in /usr/local/lib/python3.9/dist-packages (from simpletransformers) (0.1.98)\n",
            "Requirement already satisfied: tqdm>=4.47.0 in /usr/local/lib/python3.9/dist-packages (from simpletransformers) (4.65.0)\n",
            "Requirement already satisfied: datasets in /usr/local/lib/python3.9/dist-packages (from simpletransformers) (2.11.0)\n",
            "Requirement already satisfied: wandb>=0.10.32 in /usr/local/lib/python3.9/dist-packages (from simpletransformers) (0.15.0)\n",
            "Requirement already satisfied: transformers>=4.6.0 in /usr/local/lib/python3.9/dist-packages (from simpletransformers) (4.28.1)\n",
            "Requirement already satisfied: numpy in /usr/local/lib/python3.9/dist-packages (from simpletransformers) (1.22.4)\n",
            "Requirement already satisfied: tensorboard in /usr/local/lib/python3.9/dist-packages (from simpletransformers) (2.12.2)\n",
            "Requirement already satisfied: streamlit in /usr/local/lib/python3.9/dist-packages (from simpletransformers) (1.21.0)\n",
            "Requirement already satisfied: pandas in /usr/local/lib/python3.9/dist-packages (from simpletransformers) (1.5.3)\n",
            "Requirement already satisfied: filelock in /usr/local/lib/python3.9/dist-packages (from transformers>=4.6.0->simpletransformers) (3.12.0)\n",
            "Requirement already satisfied: packaging>=20.0 in /usr/local/lib/python3.9/dist-packages (from transformers>=4.6.0->simpletransformers) (23.1)\n",
            "Requirement already satisfied: huggingface-hub<1.0,>=0.11.0 in /usr/local/lib/python3.9/dist-packages (from transformers>=4.6.0->simpletransformers) (0.14.1)\n",
            "Requirement already satisfied: pyyaml>=5.1 in /usr/local/lib/python3.9/dist-packages (from transformers>=4.6.0->simpletransformers) (6.0)\n",
            "Requirement already satisfied: protobuf!=4.21.0,<5,>=3.15.0 in /usr/local/lib/python3.9/dist-packages (from wandb>=0.10.32->simpletransformers) (3.20.3)\n",
            "Requirement already satisfied: docker-pycreds>=0.4.0 in /usr/local/lib/python3.9/dist-packages (from wandb>=0.10.32->simpletransformers) (0.4.0)\n",
            "Requirement already satisfied: typing-extensions in /usr/local/lib/python3.9/dist-packages (from wandb>=0.10.32->simpletransformers) (4.5.0)\n",
            "Requirement already satisfied: psutil>=5.0.0 in /usr/local/lib/python3.9/dist-packages (from wandb>=0.10.32->simpletransformers) (5.9.5)\n",
            "Requirement already satisfied: pathtools in /usr/local/lib/python3.9/dist-packages (from wandb>=0.10.32->simpletransformers) (0.1.2)\n",
            "Requirement already satisfied: appdirs>=1.4.3 in /usr/local/lib/python3.9/dist-packages (from wandb>=0.10.32->simpletransformers) (1.4.4)\n",
            "Requirement already satisfied: sentry-sdk>=1.0.0 in /usr/local/lib/python3.9/dist-packages (from wandb>=0.10.32->simpletransformers) (1.21.0)\n",
            "Requirement already satisfied: GitPython!=3.1.29,>=1.0.0 in /usr/local/lib/python3.9/dist-packages (from wandb>=0.10.32->simpletransformers) (3.1.31)\n",
            "Requirement already satisfied: Click!=8.0.0,>=7.0 in /usr/local/lib/python3.9/dist-packages (from wandb>=0.10.32->simpletransformers) (8.1.3)\n",
            "Requirement already satisfied: setuptools in /usr/local/lib/python3.9/dist-packages (from wandb>=0.10.32->simpletransformers) (67.7.2)\n",
            "Requirement already satisfied: setproctitle in /usr/local/lib/python3.9/dist-packages (from wandb>=0.10.32->simpletransformers) (1.3.2)\n",
            "Requirement already satisfied: urllib3<1.27,>=1.21.1 in /usr/local/lib/python3.9/dist-packages (from requests->simpletransformers) (1.26.15)\n",
            "Requirement already satisfied: certifi>=2017.4.17 in /usr/local/lib/python3.9/dist-packages (from requests->simpletransformers) (2022.12.7)\n",
            "Requirement already satisfied: charset-normalizer~=2.0.0 in /usr/local/lib/python3.9/dist-packages (from requests->simpletransformers) (2.0.12)\n",
            "Requirement already satisfied: idna<4,>=2.5 in /usr/local/lib/python3.9/dist-packages (from requests->simpletransformers) (3.4)\n",
            "Requirement already satisfied: multiprocess in /usr/local/lib/python3.9/dist-packages (from datasets->simpletransformers) (0.70.14)\n",
            "Requirement already satisfied: aiohttp in /usr/local/lib/python3.9/dist-packages (from datasets->simpletransformers) (3.8.4)\n",
            "Requirement already satisfied: responses<0.19 in /usr/local/lib/python3.9/dist-packages (from datasets->simpletransformers) (0.18.0)\n",
            "Requirement already satisfied: xxhash in /usr/local/lib/python3.9/dist-packages (from datasets->simpletransformers) (3.2.0)\n",
            "Requirement already satisfied: dill<0.3.7,>=0.3.0 in /usr/local/lib/python3.9/dist-packages (from datasets->simpletransformers) (0.3.6)\n",
            "Requirement already satisfied: fsspec[http]>=2021.11.1 in /usr/local/lib/python3.9/dist-packages (from datasets->simpletransformers) (2023.4.0)\n",
            "Requirement already satisfied: pyarrow>=8.0.0 in /usr/local/lib/python3.9/dist-packages (from datasets->simpletransformers) (9.0.0)\n",
            "Requirement already satisfied: pytz>=2020.1 in /usr/local/lib/python3.9/dist-packages (from pandas->simpletransformers) (2022.7.1)\n",
            "Requirement already satisfied: python-dateutil>=2.8.1 in /usr/local/lib/python3.9/dist-packages (from pandas->simpletransformers) (2.8.2)\n",
            "Requirement already satisfied: threadpoolctl>=2.0.0 in /usr/local/lib/python3.9/dist-packages (from scikit-learn->simpletransformers) (3.1.0)\n",
            "Requirement already satisfied: joblib>=1.1.1 in /usr/local/lib/python3.9/dist-packages (from scikit-learn->simpletransformers) (1.2.0)\n",
            "Requirement already satisfied: watchdog in /usr/local/lib/python3.9/dist-packages (from streamlit->simpletransformers) (3.0.0)\n",
            "Requirement already satisfied: tzlocal>=1.1 in /usr/local/lib/python3.9/dist-packages (from streamlit->simpletransformers) (4.3)\n",
            "Requirement already satisfied: validators>=0.2 in /usr/local/lib/python3.9/dist-packages (from streamlit->simpletransformers) (0.20.0)\n",
            "Requirement already satisfied: pydeck>=0.1.dev5 in /usr/local/lib/python3.9/dist-packages (from streamlit->simpletransformers) (0.8.1b0)\n",
            "Requirement already satisfied: pympler>=0.9 in /usr/local/lib/python3.9/dist-packages (from streamlit->simpletransformers) (1.0.1)\n",
            "Requirement already satisfied: blinker>=1.0.0 in /usr/local/lib/python3.9/dist-packages (from streamlit->simpletransformers) (1.6.2)\n",
            "Requirement already satisfied: altair<5,>=3.2.0 in /usr/local/lib/python3.9/dist-packages (from streamlit->simpletransformers) (4.2.2)\n",
            "Requirement already satisfied: cachetools>=4.0 in /usr/local/lib/python3.9/dist-packages (from streamlit->simpletransformers) (5.3.0)\n",
            "Requirement already satisfied: toml in /usr/local/lib/python3.9/dist-packages (from streamlit->simpletransformers) (0.10.2)\n",
            "Requirement already satisfied: rich>=10.11.0 in /usr/local/lib/python3.9/dist-packages (from streamlit->simpletransformers) (13.3.4)\n",
            "Requirement already satisfied: importlib-metadata>=1.4 in /usr/local/lib/python3.9/dist-packages (from streamlit->simpletransformers) (6.6.0)\n",
            "Requirement already satisfied: pillow>=6.2.0 in /usr/local/lib/python3.9/dist-packages (from streamlit->simpletransformers) (8.4.0)\n",
            "Requirement already satisfied: tornado>=6.0.3 in /usr/local/lib/python3.9/dist-packages (from streamlit->simpletransformers) (6.2)\n",
            "Requirement already satisfied: absl-py>=0.4 in /usr/local/lib/python3.9/dist-packages (from tensorboard->simpletransformers) (1.4.0)\n",
            "Requirement already satisfied: google-auth<3,>=1.6.3 in /usr/local/lib/python3.9/dist-packages (from tensorboard->simpletransformers) (2.17.3)\n",
            "Requirement already satisfied: wheel>=0.26 in /usr/local/lib/python3.9/dist-packages (from tensorboard->simpletransformers) (0.40.0)\n",
            "Requirement already satisfied: markdown>=2.6.8 in /usr/local/lib/python3.9/dist-packages (from tensorboard->simpletransformers) (3.4.3)\n",
            "Requirement already satisfied: grpcio>=1.48.2 in /usr/local/lib/python3.9/dist-packages (from tensorboard->simpletransformers) (1.54.0)\n",
            "Requirement already satisfied: tensorboard-data-server<0.8.0,>=0.7.0 in /usr/local/lib/python3.9/dist-packages (from tensorboard->simpletransformers) (0.7.0)\n",
            "Requirement already satisfied: google-auth-oauthlib<1.1,>=0.5 in /usr/local/lib/python3.9/dist-packages (from tensorboard->simpletransformers) (1.0.0)\n",
            "Requirement already satisfied: tensorboard-plugin-wit>=1.6.0 in /usr/local/lib/python3.9/dist-packages (from tensorboard->simpletransformers) (1.8.1)\n",
            "Requirement already satisfied: werkzeug>=1.0.1 in /usr/local/lib/python3.9/dist-packages (from tensorboard->simpletransformers) (2.2.3)\n",
            "Requirement already satisfied: jinja2 in /usr/local/lib/python3.9/dist-packages (from altair<5,>=3.2.0->streamlit->simpletransformers) (3.1.2)\n",
            "Requirement already satisfied: toolz in /usr/local/lib/python3.9/dist-packages (from altair<5,>=3.2.0->streamlit->simpletransformers) (0.12.0)\n",
            "Requirement already satisfied: jsonschema>=3.0 in /usr/local/lib/python3.9/dist-packages (from altair<5,>=3.2.0->streamlit->simpletransformers) (4.3.3)\n",
            "Requirement already satisfied: entrypoints in /usr/local/lib/python3.9/dist-packages (from altair<5,>=3.2.0->streamlit->simpletransformers) (0.4)\n",
            "Requirement already satisfied: six>=1.4.0 in /usr/local/lib/python3.9/dist-packages (from docker-pycreds>=0.4.0->wandb>=0.10.32->simpletransformers) (1.16.0)\n",
            "Requirement already satisfied: yarl<2.0,>=1.0 in /usr/local/lib/python3.9/dist-packages (from aiohttp->datasets->simpletransformers) (1.9.2)\n",
            "Requirement already satisfied: multidict<7.0,>=4.5 in /usr/local/lib/python3.9/dist-packages (from aiohttp->datasets->simpletransformers) (6.0.4)\n",
            "Requirement already satisfied: attrs>=17.3.0 in /usr/local/lib/python3.9/dist-packages (from aiohttp->datasets->simpletransformers) (23.1.0)\n",
            "Requirement already satisfied: frozenlist>=1.1.1 in /usr/local/lib/python3.9/dist-packages (from aiohttp->datasets->simpletransformers) (1.3.3)\n",
            "Requirement already satisfied: aiosignal>=1.1.2 in /usr/local/lib/python3.9/dist-packages (from aiohttp->datasets->simpletransformers) (1.3.1)\n",
            "Requirement already satisfied: async-timeout<5.0,>=4.0.0a3 in /usr/local/lib/python3.9/dist-packages (from aiohttp->datasets->simpletransformers) (4.0.2)\n",
            "Requirement already satisfied: gitdb<5,>=4.0.1 in /usr/local/lib/python3.9/dist-packages (from GitPython!=3.1.29,>=1.0.0->wandb>=0.10.32->simpletransformers) (4.0.10)\n",
            "Requirement already satisfied: rsa<5,>=3.1.4 in /usr/local/lib/python3.9/dist-packages (from google-auth<3,>=1.6.3->tensorboard->simpletransformers) (4.9)\n",
            "Requirement already satisfied: pyasn1-modules>=0.2.1 in /usr/local/lib/python3.9/dist-packages (from google-auth<3,>=1.6.3->tensorboard->simpletransformers) (0.3.0)\n",
            "Requirement already satisfied: requests-oauthlib>=0.7.0 in /usr/local/lib/python3.9/dist-packages (from google-auth-oauthlib<1.1,>=0.5->tensorboard->simpletransformers) (1.3.1)\n",
            "Requirement already satisfied: zipp>=0.5 in /usr/local/lib/python3.9/dist-packages (from importlib-metadata>=1.4->streamlit->simpletransformers) (3.15.0)\n",
            "Requirement already satisfied: pygments<3.0.0,>=2.13.0 in /usr/local/lib/python3.9/dist-packages (from rich>=10.11.0->streamlit->simpletransformers) (2.14.0)\n",
            "Requirement already satisfied: markdown-it-py<3.0.0,>=2.2.0 in /usr/local/lib/python3.9/dist-packages (from rich>=10.11.0->streamlit->simpletransformers) (2.2.0)\n",
            "Requirement already satisfied: pytz-deprecation-shim in /usr/local/lib/python3.9/dist-packages (from tzlocal>=1.1->streamlit->simpletransformers) (0.1.0.post0)\n",
            "Requirement already satisfied: decorator>=3.4.0 in /usr/local/lib/python3.9/dist-packages (from validators>=0.2->streamlit->simpletransformers) (4.4.2)\n",
            "Requirement already satisfied: MarkupSafe>=2.1.1 in /usr/local/lib/python3.9/dist-packages (from werkzeug>=1.0.1->tensorboard->simpletransformers) (2.1.2)\n",
            "Requirement already satisfied: smmap<6,>=3.0.1 in /usr/local/lib/python3.9/dist-packages (from gitdb<5,>=4.0.1->GitPython!=3.1.29,>=1.0.0->wandb>=0.10.32->simpletransformers) (5.0.0)\n",
            "Requirement already satisfied: pyrsistent!=0.17.0,!=0.17.1,!=0.17.2,>=0.14.0 in /usr/local/lib/python3.9/dist-packages (from jsonschema>=3.0->altair<5,>=3.2.0->streamlit->simpletransformers) (0.19.3)\n",
            "Requirement already satisfied: mdurl~=0.1 in /usr/local/lib/python3.9/dist-packages (from markdown-it-py<3.0.0,>=2.2.0->rich>=10.11.0->streamlit->simpletransformers) (0.1.2)\n",
            "Requirement already satisfied: pyasn1<0.6.0,>=0.4.6 in /usr/local/lib/python3.9/dist-packages (from pyasn1-modules>=0.2.1->google-auth<3,>=1.6.3->tensorboard->simpletransformers) (0.5.0)\n",
            "Requirement already satisfied: oauthlib>=3.0.0 in /usr/local/lib/python3.9/dist-packages (from requests-oauthlib>=0.7.0->google-auth-oauthlib<1.1,>=0.5->tensorboard->simpletransformers) (3.2.2)\n",
            "Requirement already satisfied: tzdata in /usr/local/lib/python3.9/dist-packages (from pytz-deprecation-shim->tzlocal>=1.1->streamlit->simpletransformers) (2023.3)\n",
            "Looking in indexes: https://pypi.org/simple, https://us-python.pkg.dev/colab-wheels/public/simple/\n",
            "Requirement already satisfied: transformers in /usr/local/lib/python3.9/dist-packages (4.28.1)\n",
            "Requirement already satisfied: requests in /usr/local/lib/python3.9/dist-packages (from transformers) (2.27.1)\n",
            "Requirement already satisfied: regex!=2019.12.17 in /usr/local/lib/python3.9/dist-packages (from transformers) (2022.10.31)\n",
            "Requirement already satisfied: numpy>=1.17 in /usr/local/lib/python3.9/dist-packages (from transformers) (1.22.4)\n",
            "Requirement already satisfied: filelock in /usr/local/lib/python3.9/dist-packages (from transformers) (3.12.0)\n",
            "Requirement already satisfied: packaging>=20.0 in /usr/local/lib/python3.9/dist-packages (from transformers) (23.1)\n",
            "Requirement already satisfied: tqdm>=4.27 in /usr/local/lib/python3.9/dist-packages (from transformers) (4.65.0)\n",
            "Requirement already satisfied: tokenizers!=0.11.3,<0.14,>=0.11.1 in /usr/local/lib/python3.9/dist-packages (from transformers) (0.13.3)\n",
            "Requirement already satisfied: pyyaml>=5.1 in /usr/local/lib/python3.9/dist-packages (from transformers) (6.0)\n",
            "Requirement already satisfied: huggingface-hub<1.0,>=0.11.0 in /usr/local/lib/python3.9/dist-packages (from transformers) (0.14.1)\n",
            "Requirement already satisfied: fsspec in /usr/local/lib/python3.9/dist-packages (from huggingface-hub<1.0,>=0.11.0->transformers) (2023.4.0)\n",
            "Requirement already satisfied: typing-extensions>=3.7.4.3 in /usr/local/lib/python3.9/dist-packages (from huggingface-hub<1.0,>=0.11.0->transformers) (4.5.0)\n",
            "Requirement already satisfied: charset-normalizer~=2.0.0 in /usr/local/lib/python3.9/dist-packages (from requests->transformers) (2.0.12)\n",
            "Requirement already satisfied: urllib3<1.27,>=1.21.1 in /usr/local/lib/python3.9/dist-packages (from requests->transformers) (1.26.15)\n",
            "Requirement already satisfied: certifi>=2017.4.17 in /usr/local/lib/python3.9/dist-packages (from requests->transformers) (2022.12.7)\n",
            "Requirement already satisfied: idna<4,>=2.5 in /usr/local/lib/python3.9/dist-packages (from requests->transformers) (3.4)\n"
          ]
        }
      ],
      "source": [
        "!pip install geopandas\n",
        "!pip install simpletransformers\n",
        "!pip install transformers"
      ]
    },
    {
      "cell_type": "markdown",
      "metadata": {
        "id": "_yalMIfId3GZ"
      },
      "source": [
        "# Preprocess"
      ]
    },
    {
      "cell_type": "code",
      "source": [
        "import yfinance as yf\n",
        "import pandas as pd\n",
        "import numpy as np\n",
        "\n",
        "# Define the stock symbol and the date range for which you want to download the data\n",
        "symbol = 'RELIANCE.NS'\n",
        "start_date = '2016-08-19'\n",
        "end_date = '2021-08-18'\n",
        "\n",
        "# Download the historical stock prices\n",
        "stock = yf.download(symbol, start=start_date, end=end_date)\n",
        "\n",
        "# Check if there are any zero values in the DataFrame\n",
        "if (stock == 0).any().any():\n",
        "    print(\"There are zero values in the DataFrame.\")\n",
        "else:\n",
        "    print(\"There are no zero values in the DataFrame.\")"
      ],
      "metadata": {
        "colab": {
          "base_uri": "https://localhost:8080/"
        },
        "id": "gMo1AsQyuuCB",
        "outputId": "e6bfd08b-070b-487a-8b4c-a4beb792df7a"
      },
      "execution_count": 148,
      "outputs": [
        {
          "output_type": "stream",
          "name": "stdout",
          "text": [
            "\r[*********************100%***********************]  1 of 1 completed\n",
            "There are no zero values in the DataFrame.\n"
          ]
        }
      ]
    },
    {
      "cell_type": "code",
      "execution_count": 149,
      "metadata": {
        "id": "21ZzHVfsdUOr"
      },
      "outputs": [],
      "source": [
        "\n",
        "# Rename columns\n",
        "stock = stock.reset_index()\n",
        "stock.rename(columns={\"Date\":\"date\",\"Open\":\"open\",\"High\":\"high\",\"Low\":\"low\",\"Close\":\"close\"}, inplace= True)"
      ]
    },
    {
      "cell_type": "markdown",
      "metadata": {
        "id": "ZhyDayrnnfH9"
      },
      "source": [
        "### Check null value"
      ]
    },
    {
      "cell_type": "code",
      "execution_count": 150,
      "metadata": {
        "colab": {
          "base_uri": "https://localhost:8080/"
        },
        "id": "CDZxvDc6ne00",
        "outputId": "f9f438ab-8dba-4361-d529-02a6b83ff7fd"
      },
      "outputs": [
        {
          "output_type": "execute_result",
          "data": {
            "text/plain": [
              "date         0\n",
              "open         0\n",
              "high         0\n",
              "low          0\n",
              "close        0\n",
              "Adj Close    0\n",
              "Volume       0\n",
              "dtype: int64"
            ]
          },
          "metadata": {},
          "execution_count": 150
        }
      ],
      "source": [
        "stock.isnull().sum()"
      ]
    },
    {
      "cell_type": "markdown",
      "metadata": {
        "id": "JDOx_qw3NvOS"
      },
      "source": [
        "### Drop null value"
      ]
    },
    {
      "cell_type": "code",
      "execution_count": 151,
      "metadata": {
        "colab": {
          "base_uri": "https://localhost:8080/"
        },
        "id": "eT7qJNkfNunP",
        "outputId": "7df7fb2a-6465-471d-bf91-f0850bc5b3f5"
      },
      "outputs": [
        {
          "output_type": "execute_result",
          "data": {
            "text/plain": [
              "date         False\n",
              "open         False\n",
              "high         False\n",
              "low          False\n",
              "close        False\n",
              "Adj Close    False\n",
              "Volume       False\n",
              "dtype: bool"
            ]
          },
          "metadata": {},
          "execution_count": 151
        }
      ],
      "source": [
        "stock.dropna(inplace=True)\n",
        "stock.isna().any()"
      ]
    },
    {
      "cell_type": "markdown",
      "metadata": {
        "id": "Kx4XTM79-YqN"
      },
      "source": [
        "### Check the dtypes of each variable"
      ]
    },
    {
      "cell_type": "code",
      "execution_count": 152,
      "metadata": {
        "id": "rD4b74Yo-0Up"
      },
      "outputs": [],
      "source": [
        "# Change the date variable to datetime variable\n",
        "stock['date'] = pd.to_datetime(stock['date'])"
      ]
    },
    {
      "cell_type": "markdown",
      "metadata": {
        "id": "wM7oPFrseBeG"
      },
      "source": [
        "# EDA"
      ]
    },
    {
      "cell_type": "markdown",
      "metadata": {
        "id": "KUqBYZCSE3eY"
      },
      "source": [
        "### Duration of the dataset"
      ]
    },
    {
      "cell_type": "markdown",
      "metadata": {
        "id": "saP2hQ1OGKWw"
      },
      "source": [
        "# Close price prediction preparation and preprocessing"
      ]
    },
    {
      "cell_type": "markdown",
      "metadata": {
        "id": "NjWA1b-vGTgL"
      },
      "source": [
        "### Make separate dataframe for close price"
      ]
    },
    {
      "cell_type": "code",
      "execution_count": 153,
      "metadata": {
        "colab": {
          "base_uri": "https://localhost:8080/"
        },
        "id": "JofY58aqGMoE",
        "outputId": "23fcc3ef-aa9b-4f3f-8c6a-d361f6d1dadf"
      },
      "outputs": [
        {
          "output_type": "stream",
          "name": "stdout",
          "text": [
            "Shape of close dataframe: (1233, 2)\n"
          ]
        }
      ],
      "source": [
        "closedf =stock[['date','close']]\n",
        "print(\"Shape of close dataframe:\", closedf.shape)"
      ]
    },
    {
      "cell_type": "markdown",
      "metadata": {
        "id": "8-knlHFUGcgG"
      },
      "source": [
        "### Plotting stock close price chart¶"
      ]
    },
    {
      "cell_type": "markdown",
      "metadata": {
        "id": "HWmLOl4fGfou"
      },
      "source": [
        "### Normalizing / scaling close value between 0 to 1"
      ]
    },
    {
      "cell_type": "code",
      "execution_count": 154,
      "metadata": {
        "colab": {
          "base_uri": "https://localhost:8080/"
        },
        "id": "9KWQAFx6GXka",
        "outputId": "fd874b1a-28a9-4902-e861-58a0e0d141b1"
      },
      "outputs": [
        {
          "output_type": "stream",
          "name": "stdout",
          "text": [
            "(1233, 1)\n"
          ]
        }
      ],
      "source": [
        "close_stock = closedf.copy()\n",
        "del closedf['date']\n",
        "scaler=MinMaxScaler(feature_range=(0,1))\n",
        "closedf=scaler.fit_transform(np.array(closedf).reshape(-1,1))\n",
        "print(closedf.shape)"
      ]
    },
    {
      "cell_type": "markdown",
      "metadata": {
        "id": "2SyPrVr4GhuD"
      },
      "source": [
        "### Split data for training and testing"
      ]
    },
    {
      "cell_type": "code",
      "execution_count": 155,
      "metadata": {
        "colab": {
          "base_uri": "https://localhost:8080/"
        },
        "id": "cw-Z8Xc6GkeC",
        "outputId": "aba8089f-3ded-4f50-add0-6f6b81a511db"
      },
      "outputs": [
        {
          "output_type": "stream",
          "name": "stdout",
          "text": [
            "train_data:  (801, 1)\n",
            "test_data:  (432, 1)\n"
          ]
        }
      ],
      "source": [
        "training_size=int(len(closedf)*0.65)\n",
        "test_size=len(closedf)-training_size\n",
        "train_data,test_data=closedf[0:training_size],closedf[training_size:len(closedf)]\n",
        "print(\"train_data: \", train_data.shape)\n",
        "print(\"test_data: \", test_data.shape)"
      ]
    },
    {
      "cell_type": "markdown",
      "metadata": {
        "id": "Tj6-MU9pIlVt"
      },
      "source": [
        "### Create new dataset according to requirement of time-series prediction"
      ]
    },
    {
      "cell_type": "code",
      "execution_count": 156,
      "metadata": {
        "id": "RtfK1CVfGp92"
      },
      "outputs": [],
      "source": [
        "# convert an array of values into a dataset matrix\n",
        "def create_dataset(dataset, time_step=1):\n",
        "    dataX, dataY = [], []\n",
        "    for i in range(len(dataset)-time_step-1):\n",
        "        a = dataset[i:(i+time_step), 0]   ###i=0, 0,1,2,3-----99   100 \n",
        "        dataX.append(a)\n",
        "        dataY.append(dataset[i + time_step, 0])\n",
        "    return np.array(dataX), np.array(dataY)"
      ]
    },
    {
      "cell_type": "code",
      "execution_count": 157,
      "metadata": {
        "colab": {
          "base_uri": "https://localhost:8080/"
        },
        "id": "GL9zKBgwG30q",
        "outputId": "bde65dfc-ff7d-4d1b-9913-6119ffdf31f8"
      },
      "outputs": [
        {
          "output_type": "stream",
          "name": "stdout",
          "text": [
            "X_train:  (700, 100)\n",
            "y_train:  (700,)\n",
            "X_test:  (331, 100)\n",
            "y_test (331,)\n"
          ]
        }
      ],
      "source": [
        "time_step = 100\n",
        "X_train, y_train = create_dataset(train_data, time_step)\n",
        "X_test, y_test = create_dataset(test_data, time_step)\n",
        "\n",
        "print(\"X_train: \", X_train.shape)\n",
        "print(\"y_train: \", y_train.shape)\n",
        "print(\"X_test: \", X_test.shape)\n",
        "print(\"y_test\", y_test.shape)"
      ]
    },
    {
      "cell_type": "markdown",
      "metadata": {
        "id": "aiaE0WnBezmR"
      },
      "source": [
        "# Model Construction"
      ]
    },
    {
      "cell_type": "markdown",
      "metadata": {
        "id": "qB4jy38KSSRY"
      },
      "source": [
        "## KNN(BASELINE)"
      ]
    },
    {
      "cell_type": "code",
      "execution_count": null,
      "metadata": {
        "colab": {
          "base_uri": "https://localhost:8080/",
          "height": 76
        },
        "id": "eTnEPGTLSV85",
        "outputId": "2744a922-1039-4395-bfdf-b6d29fb9bc25"
      },
      "outputs": [
        {
          "output_type": "execute_result",
          "data": {
            "text/plain": [
              "KNeighborsRegressor(n_neighbors=15)"
            ],
            "text/html": [
              "<style>#sk-container-id-1 {color: black;background-color: white;}#sk-container-id-1 pre{padding: 0;}#sk-container-id-1 div.sk-toggleable {background-color: white;}#sk-container-id-1 label.sk-toggleable__label {cursor: pointer;display: block;width: 100%;margin-bottom: 0;padding: 0.3em;box-sizing: border-box;text-align: center;}#sk-container-id-1 label.sk-toggleable__label-arrow:before {content: \"▸\";float: left;margin-right: 0.25em;color: #696969;}#sk-container-id-1 label.sk-toggleable__label-arrow:hover:before {color: black;}#sk-container-id-1 div.sk-estimator:hover label.sk-toggleable__label-arrow:before {color: black;}#sk-container-id-1 div.sk-toggleable__content {max-height: 0;max-width: 0;overflow: hidden;text-align: left;background-color: #f0f8ff;}#sk-container-id-1 div.sk-toggleable__content pre {margin: 0.2em;color: black;border-radius: 0.25em;background-color: #f0f8ff;}#sk-container-id-1 input.sk-toggleable__control:checked~div.sk-toggleable__content {max-height: 200px;max-width: 100%;overflow: auto;}#sk-container-id-1 input.sk-toggleable__control:checked~label.sk-toggleable__label-arrow:before {content: \"▾\";}#sk-container-id-1 div.sk-estimator input.sk-toggleable__control:checked~label.sk-toggleable__label {background-color: #d4ebff;}#sk-container-id-1 div.sk-label input.sk-toggleable__control:checked~label.sk-toggleable__label {background-color: #d4ebff;}#sk-container-id-1 input.sk-hidden--visually {border: 0;clip: rect(1px 1px 1px 1px);clip: rect(1px, 1px, 1px, 1px);height: 1px;margin: -1px;overflow: hidden;padding: 0;position: absolute;width: 1px;}#sk-container-id-1 div.sk-estimator {font-family: monospace;background-color: #f0f8ff;border: 1px dotted black;border-radius: 0.25em;box-sizing: border-box;margin-bottom: 0.5em;}#sk-container-id-1 div.sk-estimator:hover {background-color: #d4ebff;}#sk-container-id-1 div.sk-parallel-item::after {content: \"\";width: 100%;border-bottom: 1px solid gray;flex-grow: 1;}#sk-container-id-1 div.sk-label:hover label.sk-toggleable__label {background-color: #d4ebff;}#sk-container-id-1 div.sk-serial::before {content: \"\";position: absolute;border-left: 1px solid gray;box-sizing: border-box;top: 0;bottom: 0;left: 50%;z-index: 0;}#sk-container-id-1 div.sk-serial {display: flex;flex-direction: column;align-items: center;background-color: white;padding-right: 0.2em;padding-left: 0.2em;position: relative;}#sk-container-id-1 div.sk-item {position: relative;z-index: 1;}#sk-container-id-1 div.sk-parallel {display: flex;align-items: stretch;justify-content: center;background-color: white;position: relative;}#sk-container-id-1 div.sk-item::before, #sk-container-id-1 div.sk-parallel-item::before {content: \"\";position: absolute;border-left: 1px solid gray;box-sizing: border-box;top: 0;bottom: 0;left: 50%;z-index: -1;}#sk-container-id-1 div.sk-parallel-item {display: flex;flex-direction: column;z-index: 1;position: relative;background-color: white;}#sk-container-id-1 div.sk-parallel-item:first-child::after {align-self: flex-end;width: 50%;}#sk-container-id-1 div.sk-parallel-item:last-child::after {align-self: flex-start;width: 50%;}#sk-container-id-1 div.sk-parallel-item:only-child::after {width: 0;}#sk-container-id-1 div.sk-dashed-wrapped {border: 1px dashed gray;margin: 0 0.4em 0.5em 0.4em;box-sizing: border-box;padding-bottom: 0.4em;background-color: white;}#sk-container-id-1 div.sk-label label {font-family: monospace;font-weight: bold;display: inline-block;line-height: 1.2em;}#sk-container-id-1 div.sk-label-container {text-align: center;}#sk-container-id-1 div.sk-container {/* jupyter's `normalize.less` sets `[hidden] { display: none; }` but bootstrap.min.css set `[hidden] { display: none !important; }` so we also need the `!important` here to be able to override the default hidden behavior on the sphinx rendered scikit-learn.org. See: https://github.com/scikit-learn/scikit-learn/issues/21755 */display: inline-block !important;position: relative;}#sk-container-id-1 div.sk-text-repr-fallback {display: none;}</style><div id=\"sk-container-id-1\" class=\"sk-top-container\"><div class=\"sk-text-repr-fallback\"><pre>KNeighborsRegressor(n_neighbors=15)</pre><b>In a Jupyter environment, please rerun this cell to show the HTML representation or trust the notebook. <br />On GitHub, the HTML representation is unable to render, please try loading this page with nbviewer.org.</b></div><div class=\"sk-container\" hidden><div class=\"sk-item\"><div class=\"sk-estimator sk-toggleable\"><input class=\"sk-toggleable__control sk-hidden--visually\" id=\"sk-estimator-id-1\" type=\"checkbox\" checked><label for=\"sk-estimator-id-1\" class=\"sk-toggleable__label sk-toggleable__label-arrow\">KNeighborsRegressor</label><div class=\"sk-toggleable__content\"><pre>KNeighborsRegressor(n_neighbors=15)</pre></div></div></div></div></div>"
            ]
          },
          "metadata": {},
          "execution_count": 20
        }
      ],
      "source": [
        "from sklearn import neighbors\n",
        "\n",
        "K = time_step\n",
        "neighbor = neighbors.KNeighborsRegressor(n_neighbors = K)\n",
        "neighbor.fit(X_train, y_train)"
      ]
    },
    {
      "cell_type": "code",
      "execution_count": null,
      "metadata": {
        "colab": {
          "base_uri": "https://localhost:8080/"
        },
        "id": "9BB9fgtoSj0I",
        "outputId": "e5f50769-86ed-4b1c-cb58-e58ace92449e"
      },
      "outputs": [
        {
          "output_type": "stream",
          "name": "stdout",
          "text": [
            "Train data prediction: (1583, 1)\n",
            "Test data prediction: (845, 1)\n"
          ]
        }
      ],
      "source": [
        "# Lets Do the prediction \n",
        "\n",
        "KNN_train_predict=neighbor.predict(X_train)\n",
        "KNN_test_predict=neighbor.predict(X_test)\n",
        "\n",
        "KNN_train_predict = KNN_train_predict.reshape(-1,1)\n",
        "KNN_test_predict = KNN_test_predict.reshape(-1,1)\n",
        "\n",
        "print(\"Train data prediction:\", KNN_train_predict.shape)\n",
        "print(\"Test data prediction:\", KNN_test_predict.shape)"
      ]
    },
    {
      "cell_type": "code",
      "execution_count": null,
      "metadata": {
        "id": "uhLTQtBFSl2t"
      },
      "outputs": [],
      "source": [
        "# Transform back to original form\n",
        "\n",
        "KNN_train_predict = scaler.inverse_transform(KNN_train_predict)\n",
        "KNN_test_predict = scaler.inverse_transform(KNN_test_predict)\n",
        "KNN_original_ytrain = scaler.inverse_transform(y_train.reshape(-1,1)) \n",
        "KNN_original_ytest = scaler.inverse_transform(y_test.reshape(-1,1)) "
      ]
    },
    {
      "cell_type": "markdown",
      "metadata": {
        "id": "9hHyrS_wSnzT"
      },
      "source": [
        "### Evaluation \n",
        "**RMSE, MSE and MAE**\n",
        "Root Mean Square Error (RMSE), Mean Square Error (MSE) and Mean absolute Error (MAE) are a standard way to measure the error of a model in predicting quantitative data."
      ]
    },
    {
      "cell_type": "code",
      "execution_count": null,
      "metadata": {
        "colab": {
          "base_uri": "https://localhost:8080/"
        },
        "id": "fW877pOVSscu",
        "outputId": "d4206867-64cd-406b-d373-4c62f006bad6"
      },
      "outputs": [
        {
          "output_type": "stream",
          "name": "stdout",
          "text": [
            "Train data MSE:  114.73036802663293\n",
            "-------------------------------------------------------------------------------------\n",
            "Test data MSE:  526682.102799518\n"
          ]
        }
      ],
      "source": [
        "# Evaluation metrices RMSE and MAE\n",
        "\n",
        "print(\"Train data MSE: \", mean_squared_error(KNN_original_ytrain,KNN_train_predict))\n",
        "\n",
        "print(\"-------------------------------------------------------------------------------------\")\n",
        "# print(\"Test data RMSE: \", math.sqrt(mean_squared_error(KNN_original_ytest,KNN_test_predict)))\n",
        "print(\"Test data MSE: \", mean_squared_error(KNN_original_ytest,KNN_test_predict))\n",
        "# print(\"Test data MAE: \", mean_absolute_error(KNN_original_ytest,KNN_test_predict))"
      ]
    },
    {
      "cell_type": "markdown",
      "metadata": {
        "id": "7IQiboVxS5D9"
      },
      "source": [
        "**Explained variance regression score**\n",
        "\n",
        "The explained variance score explains the dispersion of errors of a given dataset, and the formula is written as follows: Here, and Var(y) is the variance of prediction errors and actual values respectively. Scores close to 1.0 are highly desired, indicating better squares of standard deviations of errors."
      ]
    },
    {
      "cell_type": "code",
      "execution_count": null,
      "metadata": {
        "colab": {
          "base_uri": "https://localhost:8080/"
        },
        "id": "n4nQfKOnS7Zq",
        "outputId": "2d6e753d-ca20-403a-befa-da59911a8285"
      },
      "outputs": [
        {
          "output_type": "stream",
          "name": "stdout",
          "text": [
            "Train data explained variance regression score: 0.9941640528810409\n",
            "Test data explained variance regression score: 0.00441863486282823\n"
          ]
        }
      ],
      "source": [
        "print(\"Train data explained variance regression score:\", explained_variance_score(KNN_original_ytrain, KNN_train_predict))\n",
        "print(\"Test data explained variance regression score:\", explained_variance_score(KNN_original_ytest, KNN_test_predict))"
      ]
    },
    {
      "cell_type": "markdown",
      "metadata": {
        "id": "tEePjSKvS_bG"
      },
      "source": [
        "**R2 score**\n",
        "\n",
        "R-squared (R2) is a statistical measure that represents the proportion of the variance for a dependent variable that's explained by an independent variable or variables in a regression model.\n",
        "\n",
        "1 = Best \n",
        "\n",
        "0 or < 0 = worse"
      ]
    },
    {
      "cell_type": "code",
      "execution_count": null,
      "metadata": {
        "colab": {
          "base_uri": "https://localhost:8080/"
        },
        "id": "Y8TGKMZtTCaV",
        "outputId": "63f63eb1-5282-44f1-a4f9-f8e90846831e"
      },
      "outputs": [
        {
          "output_type": "stream",
          "name": "stdout",
          "text": [
            "Train data R2 score: 0.9941171457551959\n",
            "Test data R2 score: -1.9742907821445859\n"
          ]
        }
      ],
      "source": [
        "print(\"Train data R2 score:\", r2_score(KNN_original_ytrain, KNN_train_predict))\n",
        "print(\"Test data R2 score:\", r2_score(KNN_original_ytest, KNN_test_predict))"
      ]
    },
    {
      "cell_type": "markdown",
      "metadata": {
        "id": "0iZM45NIeKJa"
      },
      "source": [
        "## LSTM\n",
        "**rebuild from Kaggle**"
      ]
    },
    {
      "cell_type": "code",
      "execution_count": 158,
      "metadata": {
        "id": "xx8BXZzXP99G"
      },
      "outputs": [],
      "source": [
        "LSTM_X_train =X_train.reshape(X_train.shape[0],X_train.shape[1] , 1)\n",
        "LSTM_X_test = X_test.reshape(X_test.shape[0],X_test.shape[1] , 1)"
      ]
    },
    {
      "cell_type": "code",
      "execution_count": 188,
      "metadata": {
        "id": "X_FbJy-FJG4I"
      },
      "outputs": [],
      "source": [
        "tf.keras.backend.clear_session()\n",
        "LSTM_model=Sequential()\n",
        "LSTM_model.add(LSTM(64,return_sequences=True,input_shape=(time_step,1)))\n",
        "LSTM_model.add(LSTM(32,return_sequences=False))\n",
        "LSTM_model.add(Dense(16))\n",
        "LSTM_model.add(Dense(1))\n",
        "LSTM_model.compile(loss='mean_squared_error',optimizer='adam')"
      ]
    },
    {
      "cell_type": "code",
      "execution_count": 189,
      "metadata": {
        "colab": {
          "base_uri": "https://localhost:8080/"
        },
        "id": "gA1dqeHvJPNu",
        "outputId": "3d04cfe1-1d44-4cb0-b195-6ce2a6b039e4"
      },
      "outputs": [
        {
          "output_type": "stream",
          "name": "stdout",
          "text": [
            "Model: \"sequential\"\n",
            "_________________________________________________________________\n",
            " Layer (type)                Output Shape              Param #   \n",
            "=================================================================\n",
            " lstm (LSTM)                 (None, 100, 64)           16896     \n",
            "                                                                 \n",
            " lstm_1 (LSTM)               (None, 32)                12416     \n",
            "                                                                 \n",
            " dense (Dense)               (None, 16)                528       \n",
            "                                                                 \n",
            " dense_1 (Dense)             (None, 1)                 17        \n",
            "                                                                 \n",
            "=================================================================\n",
            "Total params: 29,857\n",
            "Trainable params: 29,857\n",
            "Non-trainable params: 0\n",
            "_________________________________________________________________\n"
          ]
        }
      ],
      "source": [
        "LSTM_model.summary()"
      ]
    },
    {
      "cell_type": "code",
      "execution_count": null,
      "metadata": {
        "id": "Jic524gWJR4i",
        "colab": {
          "base_uri": "https://localhost:8080/"
        },
        "outputId": "40d5000f-991a-4191-bd0b-545310607732"
      },
      "outputs": [
        {
          "output_type": "stream",
          "name": "stdout",
          "text": [
            "274/700 [==========>...................] - ETA: 5s - loss: 0.0018"
          ]
        }
      ],
      "source": [
        "LSTM_model.fit(LSTM_X_train,y_train,validation_data=(LSTM_X_test,y_test),epochs= 1, batch_size=1,verbose=1)"
      ]
    },
    {
      "cell_type": "code",
      "execution_count": 185,
      "metadata": {
        "colab": {
          "base_uri": "https://localhost:8080/"
        },
        "id": "Rt2wDrH6JYga",
        "outputId": "e90fa1e6-5293-4b2c-d984-0d62ddeda331"
      },
      "outputs": [
        {
          "output_type": "stream",
          "name": "stdout",
          "text": [
            "22/22 [==============================] - 1s 6ms/step\n",
            "11/11 [==============================] - 0s 6ms/step\n"
          ]
        },
        {
          "output_type": "execute_result",
          "data": {
            "text/plain": [
              "((700, 1), (331, 1))"
            ]
          },
          "metadata": {},
          "execution_count": 185
        }
      ],
      "source": [
        "### Lets Do the prediction and check performance metrics\n",
        "LSTM_train_predict=LSTM_model.predict(LSTM_X_train)\n",
        "LSTM_test_predict=LSTM_model.predict(LSTM_X_test)\n",
        "LSTM_train_predict.shape, LSTM_test_predict.shape"
      ]
    },
    {
      "cell_type": "code",
      "execution_count": 186,
      "metadata": {
        "id": "5ApStkgXJaLf"
      },
      "outputs": [],
      "source": [
        "# Transform back to original form\n",
        "LSTM_train_predict = scaler.inverse_transform(LSTM_train_predict)\n",
        "LSTM_test_predict = scaler.inverse_transform(LSTM_test_predict)\n",
        "LSTM_original_ytrain = scaler.inverse_transform(y_train.reshape(-1,1)) \n",
        "LSTM_original_ytest = scaler.inverse_transform(y_test.reshape(-1,1))"
      ]
    },
    {
      "cell_type": "markdown",
      "metadata": {
        "id": "QP50ygKxJctD"
      },
      "source": [
        "### Evaluation \n",
        "**RMSE, MSE and MAE**\n",
        "\n",
        "Root Mean Square Error (RMSE), Mean Square Error (MSE) and Mean absolute Error (MAE) are a standard way to measure the error of a model in predicting quantitative data."
      ]
    },
    {
      "cell_type": "code",
      "execution_count": 187,
      "metadata": {
        "colab": {
          "base_uri": "https://localhost:8080/"
        },
        "id": "3ZZR8ZizJmCw",
        "outputId": "72824cbb-a175-4d05-834c-663c8ab7f63b"
      },
      "outputs": [
        {
          "output_type": "stream",
          "name": "stdout",
          "text": [
            "Train data RMSE:  97.01690224641897\n",
            "Train data MSE:  9412.279321491214\n",
            "Train data MAE:  82.27557569231305\n",
            "-------------------------------------------------------------------------------------\n",
            "Test data RMSE:  342.30183175712244\n",
            "Test data MSE:  117170.54402428136\n",
            "Test data MAE:  332.21523983312875\n"
          ]
        }
      ],
      "source": [
        "# Evaluation metrices RMSE and MAE\n",
        "print(\"Train data RMSE: \", math.sqrt(mean_squared_error(LSTM_original_ytrain,LSTM_train_predict)))\n",
        "print(\"Train data MSE: \", mean_squared_error(LSTM_original_ytrain,LSTM_train_predict))\n",
        "print(\"Train data MAE: \", mean_absolute_error(LSTM_original_ytrain,LSTM_train_predict))\n",
        "print(\"-------------------------------------------------------------------------------------\")\n",
        "print(\"Test data RMSE: \", math.sqrt(mean_squared_error(LSTM_original_ytest,LSTM_test_predict)))\n",
        "print(\"Test data MSE: \", mean_squared_error(LSTM_original_ytest,LSTM_test_predict))\n",
        "print(\"Test data MAE: \", mean_absolute_error(LSTM_original_ytest,LSTM_test_predict))"
      ]
    },
    {
      "cell_type": "markdown",
      "metadata": {
        "id": "DG1zMO_nJnNg"
      },
      "source": [
        "**variance regression score**\n",
        "\n",
        "The explained variance score explains the dispersion of errors of a given dataset, and the formula is written as follows: Here, and Var(y) is the variance of prediction errors and actual values respectively. Scores close to 1.0 are highly desired, indicating better squares of standard deviations of errors."
      ]
    },
    {
      "cell_type": "code",
      "execution_count": null,
      "metadata": {
        "id": "nfluyna0J4pu"
      },
      "outputs": [],
      "source": [
        "# print(\"Train data explained variance regression score:\", explained_variance_score(original_ytrain, train_predict))\n",
        "# print(\"Test data explained variance regression score:\", explained_variance_score(original_ytest, test_predict))"
      ]
    },
    {
      "cell_type": "markdown",
      "metadata": {
        "id": "cw3XJr9xJ5If"
      },
      "source": [
        "**R2 score**\n",
        "R-squared (R2) is a statistical measure that represents the proportion of the variance for a dependent variable that's explained by an independent variable or variables in a regression model.\n",
        "\n",
        "1 = Best \\\\\n",
        "\n",
        "0 or < 0 = worse"
      ]
    },
    {
      "cell_type": "code",
      "execution_count": null,
      "metadata": {
        "id": "ilSjRJBlKCZT"
      },
      "outputs": [],
      "source": [
        "# print(\"Train data R2 score:\", r2_score(original_ytrain, train_predict))\n",
        "# print(\"Test data R2 score:\", r2_score(original_ytest, test_predict))"
      ]
    },
    {
      "cell_type": "markdown",
      "metadata": {
        "id": "uCLi1croKD9k"
      },
      "source": [
        "**MGD,MPD**\n",
        "Regression Loss Mean Gamma deviance regression loss (MGD) and Mean Poisson deviance regression loss (MPD)"
      ]
    },
    {
      "cell_type": "code",
      "execution_count": null,
      "metadata": {
        "id": "Cw8Q-cmeKRJG"
      },
      "outputs": [],
      "source": [
        "# print(\"Train data MGD: \", mean_gamma_deviance(original_ytrain, train_predict))\n",
        "# print(\"Test data MGD: \", mean_gamma_deviance(original_ytest, test_predict))\n",
        "# print(\"----------------------------------------------------------------------\")\n",
        "# print(\"Train data MPD: \", mean_poisson_deviance(original_ytrain, train_predict))\n",
        "# print(\"Test data MPD: \", mean_poisson_deviance(original_ytest, test_predict))"
      ]
    },
    {
      "cell_type": "markdown",
      "metadata": {
        "id": "PIQon70hKY1y"
      },
      "source": [
        "### Comparision \n",
        "**between original stock close price vs predicted close price**"
      ]
    },
    {
      "cell_type": "code",
      "execution_count": null,
      "metadata": {
        "id": "g4Ot-uo1KWUD"
      },
      "outputs": [],
      "source": [
        "# # shift train predictions for plotting\n",
        "\n",
        "# look_back=time_step\n",
        "# trainPredictPlot = np.empty_like(closedf)\n",
        "# trainPredictPlot[:, :] = np.nan\n",
        "# trainPredictPlot[look_back:len(train_predict)+look_back, :] = train_predict\n",
        "# print(\"Train predicted data: \", trainPredictPlot.shape)\n",
        "\n",
        "# # shift test predictions for plotting\n",
        "# testPredictPlot = np.empty_like(closedf)\n",
        "# testPredictPlot[:, :] = np.nan\n",
        "# testPredictPlot[len(train_predict)+(look_back*2)+1:len(closedf)-1, :] = test_predict\n",
        "# print(\"Test predicted data: \", testPredictPlot.shape)\n",
        "\n",
        "# names = cycle(['Original close price','Train predicted close price','Test predicted close price'])\n",
        "\n",
        "\n",
        "# plotdf = pd.DataFrame({'date': close_stock['date'],\n",
        "#                        'original_close': close_stock['close'],\n",
        "#                       'train_predicted_close': trainPredictPlot.reshape(1,-1)[0].tolist(),\n",
        "#                       'test_predicted_close': testPredictPlot.reshape(1,-1)[0].tolist()})\n",
        "\n",
        "# fig = px.line(plotdf,x=plotdf['date'], y=[plotdf['original_close'],plotdf['train_predicted_close'],\n",
        "#                                           plotdf['test_predicted_close']],\n",
        "#               labels={'value':'Stock price','date': 'Date'})\n",
        "# fig.update_layout(title_text='Comparision between original close price vs predicted close price',\n",
        "#                   plot_bgcolor='white', font_size=15, font_color='black', legend_title_text='Close Price')\n",
        "# fig.for_each_trace(lambda t:  t.update(name = next(names)))\n",
        "\n",
        "# fig.update_xaxes(showgrid=False)\n",
        "# fig.update_yaxes(showgrid=False)\n",
        "# fig.show()"
      ]
    },
    {
      "cell_type": "markdown",
      "metadata": {
        "id": "z31P6MBTKho-"
      },
      "source": [
        "### Prediction\n",
        "**Predicting next 10 days**"
      ]
    },
    {
      "cell_type": "code",
      "execution_count": null,
      "metadata": {
        "id": "-kqTeEZ3PEkf"
      },
      "outputs": [],
      "source": [
        "# x_input"
      ]
    },
    {
      "cell_type": "code",
      "execution_count": null,
      "metadata": {
        "id": "NW7Ov0VjPvU_"
      },
      "outputs": [],
      "source": [
        "# x_input=test_data[len(test_data)-time_step:].reshape(1,-1)"
      ]
    },
    {
      "cell_type": "code",
      "execution_count": null,
      "metadata": {
        "id": "apeezOmMPv9V"
      },
      "outputs": [],
      "source": [
        "# x_input"
      ]
    },
    {
      "cell_type": "code",
      "execution_count": null,
      "metadata": {
        "id": "JFkTxBjuKj1g"
      },
      "outputs": [],
      "source": [
        "# x_input=test_data[len(test_data)-time_step:].reshape(1,-1)\n",
        "# temp_input=list(x_input)\n",
        "# temp_input=temp_input[0].tolist()\n",
        "\n",
        "# from numpy import array\n",
        "\n",
        "# lst_output=[]\n",
        "# n_steps=time_step\n",
        "# i=0\n",
        "# pred_days = 10\n",
        "# while(i<pred_days):\n",
        "    \n",
        "#     if(len(temp_input)>time_step):\n",
        "        \n",
        "#         x_input=np.array(temp_input[1:])\n",
        "#         #print(\"{} day input {}\".format(i,x_input))\n",
        "#         x_input = x_input.reshape(1,-1)\n",
        "#         x_input = x_input.reshape((1, n_steps, 1))\n",
        "        \n",
        "#         yhat = model.predict(x_input, verbose=0)\n",
        "#         #print(\"{} day output {}\".format(i,yhat))\n",
        "#         temp_input.extend(yhat[0].tolist())\n",
        "#         temp_input=temp_input[1:]\n",
        "#         #print(temp_input)\n",
        "       \n",
        "#         lst_output.extend(yhat.tolist())\n",
        "#         i=i+1\n",
        "        \n",
        "#     else:\n",
        "        \n",
        "#         x_input = x_input.reshape((1, n_steps,1))\n",
        "#         yhat = model.predict(x_input, verbose=0)\n",
        "#         temp_input.extend(yhat[0].tolist())\n",
        "        \n",
        "#         lst_output.extend(yhat.tolist())\n",
        "#         i=i+1\n",
        "               \n",
        "# print(\"Output of predicted next days: \", len(lst_output))"
      ]
    },
    {
      "cell_type": "markdown",
      "metadata": {
        "id": "Rr2MTnVhT2Gm"
      },
      "source": [
        "**Plotting last 15 days and next predicted 10 days**"
      ]
    },
    {
      "cell_type": "code",
      "execution_count": null,
      "metadata": {
        "id": "wz_hpE_KT4pP"
      },
      "outputs": [],
      "source": [
        "# last_days=np.arange(1,time_step+1)\n",
        "# day_pred=np.arange(time_step+1,time_step+pred_days+1)\n",
        "# print(last_days)\n",
        "# print(day_pred)"
      ]
    },
    {
      "cell_type": "code",
      "execution_count": null,
      "metadata": {
        "id": "q9eRrlfzT8CS"
      },
      "outputs": [],
      "source": [
        "# temp_mat = np.empty((len(last_days)+pred_days+1,1))\n",
        "# temp_mat[:] = np.nan\n",
        "# temp_mat = temp_mat.reshape(1,-1).tolist()[0]\n",
        "\n",
        "# last_original_days_value = temp_mat\n",
        "# next_predicted_days_value = temp_mat\n",
        "\n",
        "# last_original_days_value[0:time_step+1] = scaler.inverse_transform(closedf[len(closedf)-time_step:]).reshape(1,-1).tolist()[0]\n",
        "# next_predicted_days_value[time_step+1:] = scaler.inverse_transform(np.array(lst_output).reshape(-1,1)).reshape(1,-1).tolist()[0]\n",
        "\n",
        "# new_pred_plot = pd.DataFrame({\n",
        "#     'last_original_days_value':last_original_days_value,\n",
        "#     'next_predicted_days_value':next_predicted_days_value\n",
        "# })\n",
        "\n",
        "# names = cycle(['Last 15 days close price','Predicted next 10 days close price'])\n",
        "\n",
        "# fig = px.line(new_pred_plot,x=new_pred_plot.index, y=[new_pred_plot['last_original_days_value'],\n",
        "#                                                       new_pred_plot['next_predicted_days_value']],\n",
        "#               labels={'value': 'Stock price','index': 'Timestamp'})\n",
        "# fig.update_layout(title_text='Compare last 15 days vs next 10 days',\n",
        "#                   plot_bgcolor='white', font_size=15, font_color='black',legend_title_text='Close Price')\n",
        "\n",
        "# fig.for_each_trace(lambda t:  t.update(name = next(names)))\n",
        "# fig.update_xaxes(showgrid=False)\n",
        "# fig.update_yaxes(showgrid=False)\n",
        "# fig.show()"
      ]
    },
    {
      "cell_type": "markdown",
      "metadata": {
        "id": "OYiLVEWaT-O0"
      },
      "source": [
        "**Plotting whole closing stock price with prediction¶**"
      ]
    },
    {
      "cell_type": "code",
      "execution_count": null,
      "metadata": {
        "id": "LRtTvigwUBgU"
      },
      "outputs": [],
      "source": [
        "# lstmdf=closedf.tolist()\n",
        "# lstmdf.extend((np.array(lst_output).reshape(-1,1)).tolist())\n",
        "# lstmdf=scaler.inverse_transform(lstmdf).reshape(1,-1).tolist()[0]\n",
        "\n",
        "# names = cycle(['Close price'])\n",
        "\n",
        "# fig = px.line(lstmdf,labels={'value': 'Stock price','index': 'Timestamp'})\n",
        "# fig.update_layout(title_text='Plotting whole closing stock price with prediction',\n",
        "#                   plot_bgcolor='white', font_size=15, font_color='black',legend_title_text='Stock')\n",
        "\n",
        "# fig.for_each_trace(lambda t:  t.update(name = next(names)))\n",
        "\n",
        "# fig.update_xaxes(showgrid=False)\n",
        "# fig.update_yaxes(showgrid=False)\n",
        "# fig.show()"
      ]
    },
    {
      "cell_type": "markdown",
      "source": [
        "## CNN+LSTM"
      ],
      "metadata": {
        "id": "1kFzhP1fGxvw"
      }
    },
    {
      "cell_type": "code",
      "source": [
        "# X_train, y_train = create_dataset(train_data, time_step)\n",
        "# X_test, y_test = create_dataset(test_data, time_step)\n",
        "\n",
        "print(\"X_train: \", X_train.shape)\n",
        "print(\"y_train: \", y_train.shape)\n",
        "print(\"X_test: \", X_test.shape)\n",
        "print(\"y_test\", y_test.shape)"
      ],
      "metadata": {
        "colab": {
          "base_uri": "https://localhost:8080/"
        },
        "id": "Fl5ENXmnNrSE",
        "outputId": "86216eaf-0f97-4b7e-9851-4bbc24f14656"
      },
      "execution_count": 165,
      "outputs": [
        {
          "output_type": "stream",
          "name": "stdout",
          "text": [
            "X_train:  (700, 100)\n",
            "y_train:  (700,)\n",
            "X_test:  (331, 100)\n",
            "y_test (331,)\n"
          ]
        }
      ]
    },
    {
      "cell_type": "code",
      "source": [
        "CNN_X_train = np.array(X_train)\n",
        "CNN_X_test = np.array(X_test)\n",
        "# train_Y = np.array(y_train)\n",
        "# test_Y = np.array(y_test)\n",
        "\n",
        "CNN_X_train = CNN_X_train .reshape(CNN_X_train .shape[0],1,time_step,1)\n",
        "CNN_X_test = CNN_X_test.reshape(CNN_X_test.shape[0],1,time_step,1)"
      ],
      "metadata": {
        "id": "wXUvmk3cIate"
      },
      "execution_count": 166,
      "outputs": []
    },
    {
      "cell_type": "code",
      "source": [
        "# For creating model and training\n",
        "import tensorflow as tf\n",
        "from tensorflow.keras.layers import Conv1D, LSTM, Dense, Dropout, Bidirectional, TimeDistributed\n",
        "from tensorflow.keras.layers import MaxPooling1D, Flatten\n",
        "from tensorflow.keras.regularizers import L1, L2\n",
        "from tensorflow.keras.metrics import Accuracy\n",
        "from tensorflow.keras.metrics import RootMeanSquaredError\n",
        "CLmodel = tf.keras.Sequential()\n",
        "\n",
        "# Creating the Neural Network model here...\n",
        "# CNN layers\n",
        "CLmodel.add(TimeDistributed(Conv1D(64, kernel_size=3, activation='relu', input_shape=(None, time_step, 1))))\n",
        "CLmodel.add(TimeDistributed(MaxPooling1D(2)))\n",
        "CLmodel.add(TimeDistributed(Conv1D(128, kernel_size=3, activation='relu')))\n",
        "# model.add(TimeDistributed(MaxPooling1D(2)))\n",
        "CLmodel.add(TimeDistributed(Conv1D(64, kernel_size=3, activation='relu')))\n",
        "# model.add(TimeDistributed(MaxPooling1D(2)))\n",
        "CLmodel.add(TimeDistributed(Flatten()))\n",
        "# model.add(Dense(5, kernel_regularizer=L2(0.01)))\n",
        "\n",
        "# LSTM layers\n",
        "# CLmodel.add(Bidirectional(LSTM(time_step, return_sequences=True)))\n",
        "# CLmodel.add(Dropout(0.5))\n",
        "# CLmodel.add(Bidirectional(LSTM(time_step, return_sequences=False)))\n",
        "# CLmodel.add(Dropout(0.5))\n",
        "CLmodel.add(LSTM(32,return_sequences=True,input_shape=(time_step,1)))\n",
        "CLmodel.add(LSTM(32,return_sequences=False))\n",
        "CLmodel.add(Dense(16))\n",
        "CLmodel.add(Dense(1))\n",
        "\n",
        "#Final layers\n",
        "CLmodel.add(Dense(1, activation='linear'))\n",
        "CLmodel.compile(optimizer='adam', loss='mse', metrics=['mse', 'mae'])\n",
        "\n",
        "CLhistory = CLmodel.fit(CNN_X_train, y_train, validation_data=(CNN_X_test,y_test), epochs=100,batch_size=50, verbose=1, shuffle =True)"
      ],
      "metadata": {
        "id": "G--XNnqLG0xj",
        "colab": {
          "base_uri": "https://localhost:8080/"
        },
        "outputId": "bd894e2a-764c-4a72-93da-bef7a9e975f9"
      },
      "execution_count": 172,
      "outputs": [
        {
          "output_type": "stream",
          "name": "stdout",
          "text": [
            "Epoch 1/100\n",
            "14/14 [==============================] - 13s 155ms/step - loss: 0.0458 - mse: 0.0458 - mae: 0.1759 - val_loss: 0.0931 - val_mse: 0.0931 - val_mae: 0.2862\n",
            "Epoch 2/100\n",
            "14/14 [==============================] - 0s 11ms/step - loss: 0.0088 - mse: 0.0088 - mae: 0.0743 - val_loss: 0.1825 - val_mse: 0.1825 - val_mae: 0.4142\n",
            "Epoch 3/100\n",
            "14/14 [==============================] - 0s 10ms/step - loss: 0.0030 - mse: 0.0030 - mae: 0.0455 - val_loss: 0.1232 - val_mse: 0.1232 - val_mae: 0.3355\n",
            "Epoch 4/100\n",
            "14/14 [==============================] - 0s 10ms/step - loss: 0.0021 - mse: 0.0021 - mae: 0.0389 - val_loss: 0.1075 - val_mse: 0.1075 - val_mae: 0.3121\n",
            "Epoch 5/100\n",
            "14/14 [==============================] - 0s 10ms/step - loss: 0.0019 - mse: 0.0019 - mae: 0.0354 - val_loss: 0.1054 - val_mse: 0.1054 - val_mae: 0.3091\n",
            "Epoch 6/100\n",
            "14/14 [==============================] - 0s 10ms/step - loss: 0.0018 - mse: 0.0018 - mae: 0.0340 - val_loss: 0.0988 - val_mse: 0.0988 - val_mae: 0.2986\n",
            "Epoch 7/100\n",
            "14/14 [==============================] - 0s 10ms/step - loss: 0.0017 - mse: 0.0017 - mae: 0.0329 - val_loss: 0.0943 - val_mse: 0.0943 - val_mae: 0.2919\n",
            "Epoch 8/100\n",
            "14/14 [==============================] - 0s 10ms/step - loss: 0.0015 - mse: 0.0015 - mae: 0.0303 - val_loss: 0.0861 - val_mse: 0.0861 - val_mae: 0.2785\n",
            "Epoch 9/100\n",
            "14/14 [==============================] - 0s 13ms/step - loss: 0.0012 - mse: 0.0012 - mae: 0.0269 - val_loss: 0.0833 - val_mse: 0.0833 - val_mae: 0.2761\n",
            "Epoch 10/100\n",
            "14/14 [==============================] - 0s 13ms/step - loss: 0.0010 - mse: 0.0010 - mae: 0.0243 - val_loss: 0.0717 - val_mse: 0.0717 - val_mae: 0.2539\n",
            "Epoch 11/100\n",
            "14/14 [==============================] - 0s 10ms/step - loss: 0.0010 - mse: 0.0010 - mae: 0.0254 - val_loss: 0.0680 - val_mse: 0.0680 - val_mae: 0.2456\n",
            "Epoch 12/100\n",
            "14/14 [==============================] - 0s 10ms/step - loss: 9.6519e-04 - mse: 9.6519e-04 - mae: 0.0242 - val_loss: 0.0732 - val_mse: 0.0732 - val_mae: 0.2560\n",
            "Epoch 13/100\n",
            "14/14 [==============================] - 0s 11ms/step - loss: 7.6227e-04 - mse: 7.6227e-04 - mae: 0.0218 - val_loss: 0.0786 - val_mse: 0.0786 - val_mae: 0.2665\n",
            "Epoch 14/100\n",
            "14/14 [==============================] - 0s 10ms/step - loss: 7.4576e-04 - mse: 7.4576e-04 - mae: 0.0214 - val_loss: 0.0683 - val_mse: 0.0683 - val_mae: 0.2464\n",
            "Epoch 15/100\n",
            "14/14 [==============================] - 0s 13ms/step - loss: 7.7332e-04 - mse: 7.7332e-04 - mae: 0.0220 - val_loss: 0.0786 - val_mse: 0.0786 - val_mae: 0.2656\n",
            "Epoch 16/100\n",
            "14/14 [==============================] - 0s 10ms/step - loss: 7.7692e-04 - mse: 7.7692e-04 - mae: 0.0215 - val_loss: 0.0803 - val_mse: 0.0803 - val_mae: 0.2684\n",
            "Epoch 17/100\n",
            "14/14 [==============================] - 0s 10ms/step - loss: 7.2327e-04 - mse: 7.2327e-04 - mae: 0.0212 - val_loss: 0.0738 - val_mse: 0.0738 - val_mae: 0.2560\n",
            "Epoch 18/100\n",
            "14/14 [==============================] - 0s 10ms/step - loss: 6.7753e-04 - mse: 6.7753e-04 - mae: 0.0204 - val_loss: 0.0784 - val_mse: 0.0784 - val_mae: 0.2644\n",
            "Epoch 19/100\n",
            "14/14 [==============================] - 0s 10ms/step - loss: 7.2327e-04 - mse: 7.2327e-04 - mae: 0.0209 - val_loss: 0.0800 - val_mse: 0.0800 - val_mae: 0.2673\n",
            "Epoch 20/100\n",
            "14/14 [==============================] - 0s 13ms/step - loss: 7.2809e-04 - mse: 7.2809e-04 - mae: 0.0208 - val_loss: 0.0779 - val_mse: 0.0779 - val_mae: 0.2627\n",
            "Epoch 21/100\n",
            "14/14 [==============================] - 0s 11ms/step - loss: 5.9664e-04 - mse: 5.9664e-04 - mae: 0.0191 - val_loss: 0.0731 - val_mse: 0.0731 - val_mae: 0.2540\n",
            "Epoch 22/100\n",
            "14/14 [==============================] - 0s 11ms/step - loss: 5.7326e-04 - mse: 5.7326e-04 - mae: 0.0187 - val_loss: 0.0635 - val_mse: 0.0635 - val_mae: 0.2360\n",
            "Epoch 23/100\n",
            "14/14 [==============================] - 0s 10ms/step - loss: 6.4665e-04 - mse: 6.4665e-04 - mae: 0.0198 - val_loss: 0.0750 - val_mse: 0.0750 - val_mae: 0.2576\n",
            "Epoch 24/100\n",
            "14/14 [==============================] - 0s 13ms/step - loss: 6.5669e-04 - mse: 6.5669e-04 - mae: 0.0195 - val_loss: 0.0805 - val_mse: 0.0805 - val_mae: 0.2675\n",
            "Epoch 25/100\n",
            "14/14 [==============================] - 0s 10ms/step - loss: 5.2379e-04 - mse: 5.2379e-04 - mae: 0.0180 - val_loss: 0.0750 - val_mse: 0.0750 - val_mae: 0.2572\n",
            "Epoch 26/100\n",
            "14/14 [==============================] - 0s 10ms/step - loss: 5.0455e-04 - mse: 5.0455e-04 - mae: 0.0178 - val_loss: 0.0714 - val_mse: 0.0714 - val_mae: 0.2508\n",
            "Epoch 27/100\n",
            "14/14 [==============================] - 0s 10ms/step - loss: 4.9049e-04 - mse: 4.9049e-04 - mae: 0.0175 - val_loss: 0.0579 - val_mse: 0.0579 - val_mae: 0.2245\n",
            "Epoch 28/100\n",
            "14/14 [==============================] - 0s 11ms/step - loss: 5.3032e-04 - mse: 5.3032e-04 - mae: 0.0180 - val_loss: 0.0663 - val_mse: 0.0663 - val_mae: 0.2414\n",
            "Epoch 29/100\n",
            "14/14 [==============================] - 0s 10ms/step - loss: 4.7891e-04 - mse: 4.7891e-04 - mae: 0.0170 - val_loss: 0.0665 - val_mse: 0.0665 - val_mae: 0.2423\n",
            "Epoch 30/100\n",
            "14/14 [==============================] - 0s 10ms/step - loss: 4.7669e-04 - mse: 4.7669e-04 - mae: 0.0169 - val_loss: 0.0682 - val_mse: 0.0682 - val_mae: 0.2448\n",
            "Epoch 31/100\n",
            "14/14 [==============================] - 0s 10ms/step - loss: 4.1054e-04 - mse: 4.1054e-04 - mae: 0.0157 - val_loss: 0.0624 - val_mse: 0.0624 - val_mae: 0.2345\n",
            "Epoch 32/100\n",
            "14/14 [==============================] - 0s 10ms/step - loss: 3.8844e-04 - mse: 3.8844e-04 - mae: 0.0152 - val_loss: 0.0628 - val_mse: 0.0628 - val_mae: 0.2346\n",
            "Epoch 33/100\n",
            "14/14 [==============================] - 0s 18ms/step - loss: 4.1978e-04 - mse: 4.1978e-04 - mae: 0.0156 - val_loss: 0.0601 - val_mse: 0.0601 - val_mae: 0.2296\n",
            "Epoch 34/100\n",
            "14/14 [==============================] - 0s 11ms/step - loss: 3.8789e-04 - mse: 3.8789e-04 - mae: 0.0153 - val_loss: 0.0627 - val_mse: 0.0627 - val_mae: 0.2347\n",
            "Epoch 35/100\n",
            "14/14 [==============================] - 0s 10ms/step - loss: 3.4834e-04 - mse: 3.4834e-04 - mae: 0.0142 - val_loss: 0.0529 - val_mse: 0.0529 - val_mae: 0.2145\n",
            "Epoch 36/100\n",
            "14/14 [==============================] - 0s 10ms/step - loss: 3.4367e-04 - mse: 3.4367e-04 - mae: 0.0141 - val_loss: 0.0551 - val_mse: 0.0551 - val_mae: 0.2194\n",
            "Epoch 37/100\n",
            "14/14 [==============================] - 0s 10ms/step - loss: 3.9296e-04 - mse: 3.9296e-04 - mae: 0.0148 - val_loss: 0.0457 - val_mse: 0.0457 - val_mae: 0.1986\n",
            "Epoch 38/100\n",
            "14/14 [==============================] - 0s 13ms/step - loss: 3.6955e-04 - mse: 3.6955e-04 - mae: 0.0145 - val_loss: 0.0610 - val_mse: 0.0610 - val_mae: 0.2319\n",
            "Epoch 39/100\n",
            "14/14 [==============================] - 0s 10ms/step - loss: 3.8471e-04 - mse: 3.8471e-04 - mae: 0.0149 - val_loss: 0.0636 - val_mse: 0.0636 - val_mae: 0.2367\n",
            "Epoch 40/100\n",
            "14/14 [==============================] - 0s 10ms/step - loss: 3.5287e-04 - mse: 3.5287e-04 - mae: 0.0143 - val_loss: 0.0514 - val_mse: 0.0514 - val_mae: 0.2114\n",
            "Epoch 41/100\n",
            "14/14 [==============================] - 0s 11ms/step - loss: 3.2277e-04 - mse: 3.2277e-04 - mae: 0.0135 - val_loss: 0.0558 - val_mse: 0.0558 - val_mae: 0.2207\n",
            "Epoch 42/100\n",
            "14/14 [==============================] - 0s 11ms/step - loss: 3.4000e-04 - mse: 3.4000e-04 - mae: 0.0139 - val_loss: 0.0562 - val_mse: 0.0562 - val_mae: 0.2222\n",
            "Epoch 43/100\n",
            "14/14 [==============================] - 0s 13ms/step - loss: 3.1788e-04 - mse: 3.1788e-04 - mae: 0.0132 - val_loss: 0.0451 - val_mse: 0.0451 - val_mae: 0.1971\n",
            "Epoch 44/100\n",
            "14/14 [==============================] - 0s 10ms/step - loss: 3.5064e-04 - mse: 3.5064e-04 - mae: 0.0147 - val_loss: 0.0542 - val_mse: 0.0542 - val_mae: 0.2170\n",
            "Epoch 45/100\n",
            "14/14 [==============================] - 0s 10ms/step - loss: 2.6191e-04 - mse: 2.6191e-04 - mae: 0.0120 - val_loss: 0.0533 - val_mse: 0.0533 - val_mae: 0.2154\n",
            "Epoch 46/100\n",
            "14/14 [==============================] - 0s 13ms/step - loss: 2.4700e-04 - mse: 2.4700e-04 - mae: 0.0117 - val_loss: 0.0513 - val_mse: 0.0513 - val_mae: 0.2111\n",
            "Epoch 47/100\n",
            "14/14 [==============================] - 0s 14ms/step - loss: 2.3704e-04 - mse: 2.3704e-04 - mae: 0.0114 - val_loss: 0.0525 - val_mse: 0.0525 - val_mae: 0.2139\n",
            "Epoch 48/100\n",
            "14/14 [==============================] - 0s 10ms/step - loss: 2.4416e-04 - mse: 2.4416e-04 - mae: 0.0116 - val_loss: 0.0460 - val_mse: 0.0460 - val_mae: 0.1994\n",
            "Epoch 49/100\n",
            "14/14 [==============================] - 0s 11ms/step - loss: 3.0171e-04 - mse: 3.0171e-04 - mae: 0.0130 - val_loss: 0.0496 - val_mse: 0.0496 - val_mae: 0.2071\n",
            "Epoch 50/100\n",
            "14/14 [==============================] - 0s 10ms/step - loss: 2.2069e-04 - mse: 2.2069e-04 - mae: 0.0110 - val_loss: 0.0550 - val_mse: 0.0550 - val_mae: 0.2189\n",
            "Epoch 51/100\n",
            "14/14 [==============================] - 0s 11ms/step - loss: 2.2820e-04 - mse: 2.2820e-04 - mae: 0.0111 - val_loss: 0.0482 - val_mse: 0.0482 - val_mae: 0.2042\n",
            "Epoch 52/100\n",
            "14/14 [==============================] - 0s 10ms/step - loss: 2.0539e-04 - mse: 2.0539e-04 - mae: 0.0106 - val_loss: 0.0521 - val_mse: 0.0521 - val_mae: 0.2129\n",
            "Epoch 53/100\n",
            "14/14 [==============================] - 0s 13ms/step - loss: 2.2431e-04 - mse: 2.2431e-04 - mae: 0.0111 - val_loss: 0.0474 - val_mse: 0.0474 - val_mae: 0.2022\n",
            "Epoch 54/100\n",
            "14/14 [==============================] - 0s 11ms/step - loss: 1.9398e-04 - mse: 1.9398e-04 - mae: 0.0102 - val_loss: 0.0511 - val_mse: 0.0511 - val_mae: 0.2106\n",
            "Epoch 55/100\n",
            "14/14 [==============================] - 0s 10ms/step - loss: 2.0582e-04 - mse: 2.0582e-04 - mae: 0.0108 - val_loss: 0.0505 - val_mse: 0.0505 - val_mae: 0.2092\n",
            "Epoch 56/100\n",
            "14/14 [==============================] - 0s 10ms/step - loss: 1.8419e-04 - mse: 1.8419e-04 - mae: 0.0101 - val_loss: 0.0531 - val_mse: 0.0531 - val_mae: 0.2151\n",
            "Epoch 57/100\n",
            "14/14 [==============================] - 0s 10ms/step - loss: 2.0615e-04 - mse: 2.0615e-04 - mae: 0.0107 - val_loss: 0.0523 - val_mse: 0.0523 - val_mae: 0.2135\n",
            "Epoch 58/100\n",
            "14/14 [==============================] - 0s 10ms/step - loss: 1.9022e-04 - mse: 1.9022e-04 - mae: 0.0103 - val_loss: 0.0471 - val_mse: 0.0471 - val_mae: 0.2014\n",
            "Epoch 59/100\n",
            "14/14 [==============================] - 0s 10ms/step - loss: 1.8440e-04 - mse: 1.8440e-04 - mae: 0.0100 - val_loss: 0.0472 - val_mse: 0.0472 - val_mae: 0.2019\n",
            "Epoch 60/100\n",
            "14/14 [==============================] - 0s 10ms/step - loss: 1.9579e-04 - mse: 1.9579e-04 - mae: 0.0103 - val_loss: 0.0539 - val_mse: 0.0539 - val_mae: 0.2172\n",
            "Epoch 61/100\n",
            "14/14 [==============================] - 0s 10ms/step - loss: 2.0583e-04 - mse: 2.0583e-04 - mae: 0.0108 - val_loss: 0.0509 - val_mse: 0.0509 - val_mae: 0.2101\n",
            "Epoch 62/100\n",
            "14/14 [==============================] - 0s 10ms/step - loss: 1.6322e-04 - mse: 1.6322e-04 - mae: 0.0095 - val_loss: 0.0486 - val_mse: 0.0486 - val_mae: 0.2051\n",
            "Epoch 63/100\n",
            "14/14 [==============================] - 0s 16ms/step - loss: 1.9653e-04 - mse: 1.9653e-04 - mae: 0.0105 - val_loss: 0.0536 - val_mse: 0.0536 - val_mae: 0.2161\n",
            "Epoch 64/100\n",
            "14/14 [==============================] - 0s 16ms/step - loss: 2.0387e-04 - mse: 2.0387e-04 - mae: 0.0108 - val_loss: 0.0496 - val_mse: 0.0496 - val_mae: 0.2070\n",
            "Epoch 65/100\n",
            "14/14 [==============================] - 0s 16ms/step - loss: 1.8123e-04 - mse: 1.8123e-04 - mae: 0.0101 - val_loss: 0.0539 - val_mse: 0.0539 - val_mae: 0.2160\n",
            "Epoch 66/100\n",
            "14/14 [==============================] - 0s 16ms/step - loss: 1.5644e-04 - mse: 1.5644e-04 - mae: 0.0096 - val_loss: 0.0540 - val_mse: 0.0540 - val_mae: 0.2172\n",
            "Epoch 67/100\n",
            "14/14 [==============================] - 0s 16ms/step - loss: 2.0496e-04 - mse: 2.0496e-04 - mae: 0.0109 - val_loss: 0.0496 - val_mse: 0.0496 - val_mae: 0.2071\n",
            "Epoch 68/100\n",
            "14/14 [==============================] - 0s 14ms/step - loss: 1.6664e-04 - mse: 1.6664e-04 - mae: 0.0098 - val_loss: 0.0574 - val_mse: 0.0574 - val_mae: 0.2247\n",
            "Epoch 69/100\n",
            "14/14 [==============================] - 0s 17ms/step - loss: 1.8451e-04 - mse: 1.8451e-04 - mae: 0.0102 - val_loss: 0.0509 - val_mse: 0.0509 - val_mae: 0.2098\n",
            "Epoch 70/100\n",
            "14/14 [==============================] - 0s 16ms/step - loss: 1.6589e-04 - mse: 1.6589e-04 - mae: 0.0097 - val_loss: 0.0475 - val_mse: 0.0475 - val_mae: 0.2022\n",
            "Epoch 71/100\n",
            "14/14 [==============================] - 0s 15ms/step - loss: 1.8226e-04 - mse: 1.8226e-04 - mae: 0.0103 - val_loss: 0.0515 - val_mse: 0.0515 - val_mae: 0.2111\n",
            "Epoch 72/100\n",
            "14/14 [==============================] - 0s 15ms/step - loss: 1.6846e-04 - mse: 1.6846e-04 - mae: 0.0097 - val_loss: 0.0502 - val_mse: 0.0502 - val_mae: 0.2085\n",
            "Epoch 73/100\n",
            "14/14 [==============================] - 0s 17ms/step - loss: 1.7145e-04 - mse: 1.7145e-04 - mae: 0.0100 - val_loss: 0.0520 - val_mse: 0.0520 - val_mae: 0.2132\n",
            "Epoch 74/100\n",
            "14/14 [==============================] - 0s 14ms/step - loss: 1.5671e-04 - mse: 1.5671e-04 - mae: 0.0094 - val_loss: 0.0483 - val_mse: 0.0483 - val_mae: 0.2044\n",
            "Epoch 75/100\n",
            "14/14 [==============================] - 0s 18ms/step - loss: 1.9260e-04 - mse: 1.9260e-04 - mae: 0.0105 - val_loss: 0.0536 - val_mse: 0.0536 - val_mae: 0.2165\n",
            "Epoch 76/100\n",
            "14/14 [==============================] - 0s 16ms/step - loss: 1.6701e-04 - mse: 1.6701e-04 - mae: 0.0098 - val_loss: 0.0474 - val_mse: 0.0474 - val_mae: 0.2022\n",
            "Epoch 77/100\n",
            "14/14 [==============================] - 0s 17ms/step - loss: 1.4985e-04 - mse: 1.4985e-04 - mae: 0.0093 - val_loss: 0.0452 - val_mse: 0.0452 - val_mae: 0.1971\n",
            "Epoch 78/100\n",
            "14/14 [==============================] - 0s 15ms/step - loss: 2.0714e-04 - mse: 2.0714e-04 - mae: 0.0110 - val_loss: 0.0534 - val_mse: 0.0534 - val_mae: 0.2157\n",
            "Epoch 79/100\n",
            "14/14 [==============================] - 0s 15ms/step - loss: 1.7945e-04 - mse: 1.7945e-04 - mae: 0.0102 - val_loss: 0.0540 - val_mse: 0.0540 - val_mae: 0.2168\n",
            "Epoch 80/100\n",
            "14/14 [==============================] - 0s 15ms/step - loss: 1.5040e-04 - mse: 1.5040e-04 - mae: 0.0092 - val_loss: 0.0543 - val_mse: 0.0543 - val_mae: 0.2177\n",
            "Epoch 81/100\n",
            "14/14 [==============================] - 0s 15ms/step - loss: 1.4102e-04 - mse: 1.4102e-04 - mae: 0.0089 - val_loss: 0.0490 - val_mse: 0.0490 - val_mae: 0.2058\n",
            "Epoch 82/100\n",
            "14/14 [==============================] - 0s 17ms/step - loss: 1.2379e-04 - mse: 1.2379e-04 - mae: 0.0084 - val_loss: 0.0503 - val_mse: 0.0503 - val_mae: 0.2087\n",
            "Epoch 83/100\n",
            "14/14 [==============================] - 0s 15ms/step - loss: 1.6222e-04 - mse: 1.6222e-04 - mae: 0.0096 - val_loss: 0.0552 - val_mse: 0.0552 - val_mae: 0.2204\n",
            "Epoch 84/100\n",
            "14/14 [==============================] - 0s 15ms/step - loss: 2.0610e-04 - mse: 2.0610e-04 - mae: 0.0108 - val_loss: 0.0551 - val_mse: 0.0551 - val_mae: 0.2187\n",
            "Epoch 85/100\n",
            "14/14 [==============================] - 0s 16ms/step - loss: 1.4276e-04 - mse: 1.4276e-04 - mae: 0.0091 - val_loss: 0.0532 - val_mse: 0.0532 - val_mae: 0.2149\n",
            "Epoch 86/100\n",
            "14/14 [==============================] - 0s 11ms/step - loss: 1.2998e-04 - mse: 1.2998e-04 - mae: 0.0087 - val_loss: 0.0481 - val_mse: 0.0481 - val_mae: 0.2041\n",
            "Epoch 87/100\n",
            "14/14 [==============================] - 0s 10ms/step - loss: 1.7790e-04 - mse: 1.7790e-04 - mae: 0.0103 - val_loss: 0.0568 - val_mse: 0.0568 - val_mae: 0.2237\n",
            "Epoch 88/100\n",
            "14/14 [==============================] - 0s 10ms/step - loss: 1.8416e-04 - mse: 1.8416e-04 - mae: 0.0105 - val_loss: 0.0470 - val_mse: 0.0470 - val_mae: 0.2008\n",
            "Epoch 89/100\n",
            "14/14 [==============================] - 0s 10ms/step - loss: 1.7679e-04 - mse: 1.7679e-04 - mae: 0.0102 - val_loss: 0.0609 - val_mse: 0.0609 - val_mae: 0.2317\n",
            "Epoch 90/100\n",
            "14/14 [==============================] - 0s 11ms/step - loss: 1.3386e-04 - mse: 1.3386e-04 - mae: 0.0087 - val_loss: 0.0495 - val_mse: 0.0495 - val_mae: 0.2070\n",
            "Epoch 91/100\n",
            "14/14 [==============================] - 0s 10ms/step - loss: 1.3353e-04 - mse: 1.3353e-04 - mae: 0.0088 - val_loss: 0.0526 - val_mse: 0.0526 - val_mae: 0.2141\n",
            "Epoch 92/100\n",
            "14/14 [==============================] - 0s 10ms/step - loss: 1.3525e-04 - mse: 1.3525e-04 - mae: 0.0088 - val_loss: 0.0468 - val_mse: 0.0468 - val_mae: 0.2007\n",
            "Epoch 93/100\n",
            "14/14 [==============================] - 0s 10ms/step - loss: 1.5883e-04 - mse: 1.5883e-04 - mae: 0.0096 - val_loss: 0.0530 - val_mse: 0.0530 - val_mae: 0.2150\n",
            "Epoch 94/100\n",
            "14/14 [==============================] - 0s 13ms/step - loss: 1.7122e-04 - mse: 1.7122e-04 - mae: 0.0100 - val_loss: 0.0566 - val_mse: 0.0566 - val_mae: 0.2227\n",
            "Epoch 95/100\n",
            "14/14 [==============================] - 0s 10ms/step - loss: 1.2212e-04 - mse: 1.2212e-04 - mae: 0.0084 - val_loss: 0.0544 - val_mse: 0.0544 - val_mae: 0.2180\n",
            "Epoch 96/100\n",
            "14/14 [==============================] - 0s 10ms/step - loss: 1.1461e-04 - mse: 1.1461e-04 - mae: 0.0081 - val_loss: 0.0525 - val_mse: 0.0525 - val_mae: 0.2137\n",
            "Epoch 97/100\n",
            "14/14 [==============================] - 0s 11ms/step - loss: 1.1042e-04 - mse: 1.1042e-04 - mae: 0.0079 - val_loss: 0.0502 - val_mse: 0.0502 - val_mae: 0.2087\n",
            "Epoch 98/100\n",
            "14/14 [==============================] - 0s 10ms/step - loss: 1.2399e-04 - mse: 1.2399e-04 - mae: 0.0084 - val_loss: 0.0528 - val_mse: 0.0528 - val_mae: 0.2145\n",
            "Epoch 99/100\n",
            "14/14 [==============================] - 0s 10ms/step - loss: 1.1958e-04 - mse: 1.1958e-04 - mae: 0.0083 - val_loss: 0.0532 - val_mse: 0.0532 - val_mae: 0.2151\n",
            "Epoch 100/100\n",
            "14/14 [==============================] - 0s 11ms/step - loss: 1.1509e-04 - mse: 1.1509e-04 - mae: 0.0082 - val_loss: 0.0556 - val_mse: 0.0556 - val_mae: 0.2211\n"
          ]
        }
      ]
    },
    {
      "cell_type": "code",
      "source": [
        "plt.plot(CLhistory.history['mse'], label='training mse')\n",
        "plt.plot(CLhistory.history['val_mse'], label='validation mse')\n",
        "plt.xlabel(\"epoch\")\n",
        "plt.ylabel(\"MSE\")\n",
        "plt.legend()"
      ],
      "metadata": {
        "colab": {
          "base_uri": "https://localhost:8080/",
          "height": 466
        },
        "id": "WNu-IwO-LHA6",
        "outputId": "cb3b89dc-4538-45a6-fbc3-2afa3187603e"
      },
      "execution_count": 173,
      "outputs": [
        {
          "output_type": "execute_result",
          "data": {
            "text/plain": [
              "<matplotlib.legend.Legend at 0x7ff4bcb20cd0>"
            ]
          },
          "metadata": {},
          "execution_count": 173
        },
        {
          "output_type": "display_data",
          "data": {
            "text/plain": [
              "<Figure size 640x480 with 1 Axes>"
            ],
            "image/png": "[encoded data removed]"
          },
          "metadata": {}
        }
      ]
    },
    {
      "cell_type": "markdown",
      "source": [
        "### Evaluation"
      ],
      "metadata": {
        "id": "R_PFIPsKLYHU"
      }
    },
    {
      "cell_type": "code",
      "source": [
        "CLmodel.evaluate(CNN_X_test, y_test)"
      ],
      "metadata": {
        "colab": {
          "base_uri": "https://localhost:8080/"
        },
        "id": "eVcbI90mLZHu",
        "outputId": "5fe81cdf-2290-4231-97ba-5d7fefdd51dc"
      },
      "execution_count": null,
      "outputs": [
        {
          "output_type": "stream",
          "name": "stdout",
          "text": [
            "11/11 [==============================] - 0s 11ms/step - loss: 0.3033 - mse: 0.3033 - mae: 0.5365\n"
          ]
        },
        {
          "output_type": "execute_result",
          "data": {
            "text/plain": [
              "[0.30327489972114563, 0.30327489972114563, 0.5365390181541443]"
            ]
          },
          "metadata": {},
          "execution_count": 137
        }
      ]
    },
    {
      "cell_type": "code",
      "source": [
        "from sklearn.metrics import explained_variance_score, mean_poisson_deviance, mean_gamma_deviance\n",
        "from sklearn.metrics import r2_score\n",
        "from sklearn.metrics import max_error\n",
        "\n",
        "# predict probabilities for test set\n",
        "yhat_probs = CLmodel.predict(CNN_X_test, verbose=0)\n",
        "# reduce to 1d array\n",
        "yhat_probs = yhat_probs[:, 0]\n",
        "\n",
        "var = explained_variance_score(y_test.reshape(-1,1), yhat_probs)\n",
        "print('Variance: %f' % var)\n",
        "\n",
        "r2 = r2_score(y_test.reshape(-1,1), yhat_probs)\n",
        "print('R2 Score: %f' % var)\n",
        "\n",
        "var2 = max_error(y_test.reshape(-1,1), yhat_probs)\n",
        "print('Max Error: %f' % var2)"
      ],
      "metadata": {
        "colab": {
          "base_uri": "https://localhost:8080/"
        },
        "id": "Ks6VrwJsLe2D",
        "outputId": "6a6b5da5-400c-4031-8a6e-7082c9d7c082"
      },
      "execution_count": null,
      "outputs": [
        {
          "output_type": "stream",
          "name": "stdout",
          "text": [
            "Variance: -0.693758\n",
            "R2 Score: -0.693758\n",
            "Max Error: 0.904342\n"
          ]
        }
      ]
    },
    {
      "cell_type": "code",
      "source": [
        "CNN_pred  = CLmodel.predict(CNN_X_test)\n",
        "# test_label = y_test.reshape(-1,1)\n",
        "# predicted = np.array(pred[:,0]).reshape(-1,1)\n",
        "# len_t = len(train_X)\n",
        "# for j in range(len_t , len_t + len(test_X)):\n",
        "#     temp = data.iloc[j,3]\n",
        "#     test_label[j - len_t] = test_label[j - len_t] * temp + temp\n",
        "#     predicted[j - len_t] = predicted[j - len_t] * temp + temp\n",
        "plt.plot(CNN_pred, color = 'red', label = 'Predicted Close Price')\n",
        "plt.plot(y_test, color = 'blue', label = 'Real Close Price')\n",
        "plt.title('CNN+LSTM Prediction')\n",
        "plt.xlabel('Date')\n",
        "plt.ylabel('Price')\n",
        "plt.legend()\n",
        "plt.show()"
      ],
      "metadata": {
        "colab": {
          "base_uri": "https://localhost:8080/",
          "height": 489
        },
        "id": "0lGBmTCVLkp6",
        "outputId": "36db15aa-e4c1-40fa-f4e7-dfe270f4fe55"
      },
      "execution_count": null,
      "outputs": [
        {
          "output_type": "stream",
          "name": "stdout",
          "text": [
            "24/24 [==============================] - 0s 4ms/step\n"
          ]
        },
        {
          "output_type": "display_data",
          "data": {
            "text/plain": [
              "<Figure size 640x480 with 1 Axes>"
            ],
            "image/png": "[encoded data removed]"
          },
          "metadata": {}
        }
      ]
    },
    {
      "cell_type": "markdown",
      "metadata": {
        "id": "KOqonHmiUEWt"
      },
      "source": [
        "## LSTM+sentiment score"
      ]
    },
    {
      "cell_type": "markdown",
      "metadata": {
        "id": "9PEPnhNzUUDV"
      },
      "source": [
        "### Add sentiment score to each stock trading day"
      ]
    },
    {
      "cell_type": "markdown",
      "metadata": {
        "id": "oQ6WEfA8ohtK"
      },
      "source": [
        "#### Preprocess the text data"
      ]
    },
    {
      "cell_type": "code",
      "execution_count": null,
      "metadata": {
        "id": "fdu7Xn_SZif0"
      },
      "outputs": [],
      "source": [
        "# Download India news dataset \n",
        "india_news = pd.read_csv('drive/Shareddrives/519/dataset/india-news-headlines.csv')\n",
        "india_news['publish_date'] = pd.to_datetime(india_news['publish_date'], format='%Y%m%d')"
      ]
    },
    {
      "cell_type": "code",
      "execution_count": null,
      "metadata": {
        "colab": {
          "base_uri": "https://localhost:8080/",
          "height": 424
        },
        "id": "HUSdPbG3VO98",
        "outputId": "11955c87-14cf-4c14-8629-6e7432c318e7"
      },
      "outputs": [
        {
          "output_type": "execute_result",
          "data": {
            "text/plain": [
              "        publish_date              headline_category  \\\n",
              "0         2001-01-02                        unknown   \n",
              "1         2001-01-02                        unknown   \n",
              "2         2001-01-02                        unknown   \n",
              "3         2001-01-02                        unknown   \n",
              "4         2001-01-02                        unknown   \n",
              "...              ...                            ...   \n",
              "3650965   2022-03-31                  city.srinagar   \n",
              "3650966   2022-03-31  entertainment.hindi.bollywood   \n",
              "3650967   2022-03-31                    city.trichy   \n",
              "3650968   2022-03-31                     city.erode   \n",
              "3650969   2022-03-31                     city.salem   \n",
              "\n",
              "                                             headline_text  \n",
              "0        Status quo will not be disturbed at Ayodhya; s...  \n",
              "1                      Fissures in Hurriyat over Pak visit  \n",
              "2                    America's unwanted heading for India?  \n",
              "3                       For bigwigs; it is destination Goa  \n",
              "4                     Extra buses to clear tourist traffic  \n",
              "...                                                    ...  \n",
              "3650965  J&K sacks 2 cops; 3 other employees over terro...  \n",
              "3650966  Ranbir Kapoor says 'Rishi Kapoor enjoyed his a...  \n",
              "3650967  As Covid-19 cases drop to nil in southern dist...  \n",
              "3650968  Tamil Nadu sees marginal rise of Covid cases w...  \n",
              "3650969  Tamil Nadu sees marginal rise of Covid cases w...  \n",
              "\n",
              "[3650970 rows x 3 columns]"
            ],
            "text/html": [
              "\n",
              "  <div id=\"df-b257f7d6-43c1-4674-91d3-811ab471e948\">\n",
              "    <div class=\"colab-df-container\">\n",
              "      <div>\n",
              "<style scoped>\n",
              "    .dataframe tbody tr th:only-of-type {\n",
              "        vertical-align: middle;\n",
              "    }\n",
              "\n",
              "    .dataframe tbody tr th {\n",
              "        vertical-align: top;\n",
              "    }\n",
              "\n",
              "    .dataframe thead th {\n",
              "        text-align: right;\n",
              "    }\n",
              "</style>\n",
              "<table border=\"1\" class=\"dataframe\">\n",
              "  <thead>\n",
              "    <tr style=\"text-align: right;\">\n",
              "      <th></th>\n",
              "      <th>publish_date</th>\n",
              "      <th>headline_category</th>\n",
              "      <th>headline_text</th>\n",
              "    </tr>\n",
              "  </thead>\n",
              "  <tbody>\n",
              "    <tr>\n",
              "      <th>0</th>\n",
              "      <td>2001-01-02</td>\n",
              "      <td>unknown</td>\n",
              "      <td>Status quo will not be disturbed at Ayodhya; s...</td>\n",
              "    </tr>\n",
              "    <tr>\n",
              "      <th>1</th>\n",
              "      <td>2001-01-02</td>\n",
              "      <td>unknown</td>\n",
              "      <td>Fissures in Hurriyat over Pak visit</td>\n",
              "    </tr>\n",
              "    <tr>\n",
              "      <th>2</th>\n",
              "      <td>2001-01-02</td>\n",
              "      <td>unknown</td>\n",
              "      <td>America's unwanted heading for India?</td>\n",
              "    </tr>\n",
              "    <tr>\n",
              "      <th>3</th>\n",
              "      <td>2001-01-02</td>\n",
              "      <td>unknown</td>\n",
              "      <td>For bigwigs; it is destination Goa</td>\n",
              "    </tr>\n",
              "    <tr>\n",
              "      <th>4</th>\n",
              "      <td>2001-01-02</td>\n",
              "      <td>unknown</td>\n",
              "      <td>Extra buses to clear tourist traffic</td>\n",
              "    </tr>\n",
              "    <tr>\n",
              "      <th>...</th>\n",
              "      <td>...</td>\n",
              "      <td>...</td>\n",
              "      <td>...</td>\n",
              "    </tr>\n",
              "    <tr>\n",
              "      <th>3650965</th>\n",
              "      <td>2022-03-31</td>\n",
              "      <td>city.srinagar</td>\n",
              "      <td>J&amp;K sacks 2 cops; 3 other employees over terro...</td>\n",
              "    </tr>\n",
              "    <tr>\n",
              "      <th>3650966</th>\n",
              "      <td>2022-03-31</td>\n",
              "      <td>entertainment.hindi.bollywood</td>\n",
              "      <td>Ranbir Kapoor says 'Rishi Kapoor enjoyed his a...</td>\n",
              "    </tr>\n",
              "    <tr>\n",
              "      <th>3650967</th>\n",
              "      <td>2022-03-31</td>\n",
              "      <td>city.trichy</td>\n",
              "      <td>As Covid-19 cases drop to nil in southern dist...</td>\n",
              "    </tr>\n",
              "    <tr>\n",
              "      <th>3650968</th>\n",
              "      <td>2022-03-31</td>\n",
              "      <td>city.erode</td>\n",
              "      <td>Tamil Nadu sees marginal rise of Covid cases w...</td>\n",
              "    </tr>\n",
              "    <tr>\n",
              "      <th>3650969</th>\n",
              "      <td>2022-03-31</td>\n",
              "      <td>city.salem</td>\n",
              "      <td>Tamil Nadu sees marginal rise of Covid cases w...</td>\n",
              "    </tr>\n",
              "  </tbody>\n",
              "</table>\n",
              "<p>3650970 rows × 3 columns</p>\n",
              "</div>\n",
              "      <button class=\"colab-df-convert\" onclick=\"convertToInteractive('df-b257f7d6-43c1-4674-91d3-811ab471e948')\"\n",
              "              title=\"Convert this dataframe to an interactive table.\"\n",
              "              style=\"display:none;\">\n",
              "        \n",
              "  <svg xmlns=\"http://www.w3.org/2000/svg\" height=\"24px\"viewBox=\"0 0 24 24\"\n",
              "       width=\"24px\">\n",
              "    <path d=\"M0 0h24v24H0V0z\" fill=\"none\"/>\n",
              "    <path d=\"M18.56 5.44l.94 2.06.94-2.06 2.06-.94-2.06-.94-.94-2.06-.94 2.06-2.06.94zm-11 1L8.5 8.5l.94-2.06 2.06-.94-2.06-.94L8.5 2.5l-.94 2.06-2.06.94zm10 10l.94 2.06.94-2.06 2.06-.94-2.06-.94-.94-2.06-.94 2.06-2.06.94z\"/><path d=\"M17.41 7.96l-1.37-1.37c-.4-.4-.92-.59-1.43-.59-.52 0-1.04.2-1.43.59L10.3 9.45l-7.72 7.72c-.78.78-.78 2.05 0 2.83L4 21.41c.39.39.9.59 1.41.59.51 0 1.02-.2 1.41-.59l7.78-7.78 2.81-2.81c.8-.78.8-2.07 0-2.86zM5.41 20L4 18.59l7.72-7.72 1.47 1.35L5.41 20z\"/>\n",
              "  </svg>\n",
              "      </button>\n",
              "      \n",
              "  <style>\n",
              "    .colab-df-container {\n",
              "      display:flex;\n",
              "      flex-wrap:wrap;\n",
              "      gap: 12px;\n",
              "    }\n",
              "\n",
              "    .colab-df-convert {\n",
              "      background-color: #E8F0FE;\n",
              "      border: none;\n",
              "      border-radius: 50%;\n",
              "      cursor: pointer;\n",
              "      display: none;\n",
              "      fill: #1967D2;\n",
              "      height: 32px;\n",
              "      padding: 0 0 0 0;\n",
              "      width: 32px;\n",
              "    }\n",
              "\n",
              "    .colab-df-convert:hover {\n",
              "      background-color: #E2EBFA;\n",
              "      box-shadow: 0px 1px 2px rgba(60, 64, 67, 0.3), 0px 1px 3px 1px rgba(60, 64, 67, 0.15);\n",
              "      fill: #174EA6;\n",
              "    }\n",
              "\n",
              "    [theme=dark] .colab-df-convert {\n",
              "      background-color: #3B4455;\n",
              "      fill: #D2E3FC;\n",
              "    }\n",
              "\n",
              "    [theme=dark] .colab-df-convert:hover {\n",
              "      background-color: #434B5C;\n",
              "      box-shadow: 0px 1px 3px 1px rgba(0, 0, 0, 0.15);\n",
              "      filter: drop-shadow(0px 1px 2px rgba(0, 0, 0, 0.3));\n",
              "      fill: #FFFFFF;\n",
              "    }\n",
              "  </style>\n",
              "\n",
              "      <script>\n",
              "        const buttonEl =\n",
              "          document.querySelector('#df-b257f7d6-43c1-4674-91d3-811ab471e948 button.colab-df-convert');\n",
              "        buttonEl.style.display =\n",
              "          google.colab.kernel.accessAllowed ? 'block' : 'none';\n",
              "\n",
              "        async function convertToInteractive(key) {\n",
              "          const element = document.querySelector('#df-b257f7d6-43c1-4674-91d3-811ab471e948');\n",
              "          const dataTable =\n",
              "            await google.colab.kernel.invokeFunction('convertToInteractive',\n",
              "                                                     [key], {});\n",
              "          if (!dataTable) return;\n",
              "\n",
              "          const docLinkHtml = 'Like what you see? Visit the ' +\n",
              "            '<a target=\"_blank\" href=https://colab.research.google.com/notebooks/data_table.ipynb>data table notebook</a>'\n",
              "            + ' to learn more about interactive tables.';\n",
              "          element.innerHTML = '';\n",
              "          dataTable['output_type'] = 'display_data';\n",
              "          await google.colab.output.renderOutput(dataTable, element);\n",
              "          const docLink = document.createElement('div');\n",
              "          docLink.innerHTML = docLinkHtml;\n",
              "          element.appendChild(docLink);\n",
              "        }\n",
              "      </script>\n",
              "    </div>\n",
              "  </div>\n",
              "  "
            ]
          },
          "metadata": {},
          "execution_count": 87
        }
      ],
      "source": [
        "india_news"
      ]
    },
    {
      "cell_type": "code",
      "execution_count": null,
      "metadata": {
        "colab": {
          "base_uri": "https://localhost:8080/",
          "height": 424
        },
        "id": "tjzTtdZNZoKS",
        "outputId": "4da6152f-fdb4-4943-99e4-285f1aa4b6e7"
      },
      "outputs": [
        {
          "output_type": "execute_result",
          "data": {
            "text/plain": [
              "       publish_date                  headline_category  \\\n",
              "0        2020-08-19                         city.surat   \n",
              "1        2020-08-19                      city.kolhapur   \n",
              "2        2020-08-19                     city.ahmedabad   \n",
              "3        2020-08-19  entertainment.kannada.movies.news   \n",
              "4        2020-08-19               life-style.spotlight   \n",
              "...             ...                                ...   \n",
              "182044   2021-08-18                           city.goa   \n",
              "182045   2021-08-18                           city.goa   \n",
              "182046   2021-08-18                         city.delhi   \n",
              "182047   2021-08-18                         city.delhi   \n",
              "182048   2021-08-18            business.india-business   \n",
              "\n",
              "                                            headline_text  \n",
              "0       Rough diamond import decline 82% in April-July...  \n",
              "1       Chikali; Ambewadi residents leave as Panchagan...  \n",
              "2                        SC dismisses state govt's appeal  \n",
              "3       Prem gets nostalgic about his Shivarajkumar fi...  \n",
              "4       Drive-in theatres looking to capitalise in pos...  \n",
              "...                                                   ...  \n",
              "182044    FSDL acquires media rights for AFC competitions  \n",
              "182045  Need passionate people for sports to succeed; ...  \n",
              "182046  No end in sight to waste problem; East Delhi M...  \n",
              "182047  Quality education; health taking Delhi on US g...  \n",
              "182048        Branded bowl of fresh fruits to face 5% GST  \n",
              "\n",
              "[182049 rows x 3 columns]"
            ],
            "text/html": [
              "\n",
              "  <div id=\"df-8d751be7-8286-4852-8828-c885b2e46f23\">\n",
              "    <div class=\"colab-df-container\">\n",
              "      <div>\n",
              "<style scoped>\n",
              "    .dataframe tbody tr th:only-of-type {\n",
              "        vertical-align: middle;\n",
              "    }\n",
              "\n",
              "    .dataframe tbody tr th {\n",
              "        vertical-align: top;\n",
              "    }\n",
              "\n",
              "    .dataframe thead th {\n",
              "        text-align: right;\n",
              "    }\n",
              "</style>\n",
              "<table border=\"1\" class=\"dataframe\">\n",
              "  <thead>\n",
              "    <tr style=\"text-align: right;\">\n",
              "      <th></th>\n",
              "      <th>publish_date</th>\n",
              "      <th>headline_category</th>\n",
              "      <th>headline_text</th>\n",
              "    </tr>\n",
              "  </thead>\n",
              "  <tbody>\n",
              "    <tr>\n",
              "      <th>0</th>\n",
              "      <td>2020-08-19</td>\n",
              "      <td>city.surat</td>\n",
              "      <td>Rough diamond import decline 82% in April-July...</td>\n",
              "    </tr>\n",
              "    <tr>\n",
              "      <th>1</th>\n",
              "      <td>2020-08-19</td>\n",
              "      <td>city.kolhapur</td>\n",
              "      <td>Chikali; Ambewadi residents leave as Panchagan...</td>\n",
              "    </tr>\n",
              "    <tr>\n",
              "      <th>2</th>\n",
              "      <td>2020-08-19</td>\n",
              "      <td>city.ahmedabad</td>\n",
              "      <td>SC dismisses state govt's appeal</td>\n",
              "    </tr>\n",
              "    <tr>\n",
              "      <th>3</th>\n",
              "      <td>2020-08-19</td>\n",
              "      <td>entertainment.kannada.movies.news</td>\n",
              "      <td>Prem gets nostalgic about his Shivarajkumar fi...</td>\n",
              "    </tr>\n",
              "    <tr>\n",
              "      <th>4</th>\n",
              "      <td>2020-08-19</td>\n",
              "      <td>life-style.spotlight</td>\n",
              "      <td>Drive-in theatres looking to capitalise in pos...</td>\n",
              "    </tr>\n",
              "    <tr>\n",
              "      <th>...</th>\n",
              "      <td>...</td>\n",
              "      <td>...</td>\n",
              "      <td>...</td>\n",
              "    </tr>\n",
              "    <tr>\n",
              "      <th>182044</th>\n",
              "      <td>2021-08-18</td>\n",
              "      <td>city.goa</td>\n",
              "      <td>FSDL acquires media rights for AFC competitions</td>\n",
              "    </tr>\n",
              "    <tr>\n",
              "      <th>182045</th>\n",
              "      <td>2021-08-18</td>\n",
              "      <td>city.goa</td>\n",
              "      <td>Need passionate people for sports to succeed; ...</td>\n",
              "    </tr>\n",
              "    <tr>\n",
              "      <th>182046</th>\n",
              "      <td>2021-08-18</td>\n",
              "      <td>city.delhi</td>\n",
              "      <td>No end in sight to waste problem; East Delhi M...</td>\n",
              "    </tr>\n",
              "    <tr>\n",
              "      <th>182047</th>\n",
              "      <td>2021-08-18</td>\n",
              "      <td>city.delhi</td>\n",
              "      <td>Quality education; health taking Delhi on US g...</td>\n",
              "    </tr>\n",
              "    <tr>\n",
              "      <th>182048</th>\n",
              "      <td>2021-08-18</td>\n",
              "      <td>business.india-business</td>\n",
              "      <td>Branded bowl of fresh fruits to face 5% GST</td>\n",
              "    </tr>\n",
              "  </tbody>\n",
              "</table>\n",
              "<p>182049 rows × 3 columns</p>\n",
              "</div>\n",
              "      <button class=\"colab-df-convert\" onclick=\"convertToInteractive('df-8d751be7-8286-4852-8828-c885b2e46f23')\"\n",
              "              title=\"Convert this dataframe to an interactive table.\"\n",
              "              style=\"display:none;\">\n",
              "        \n",
              "  <svg xmlns=\"http://www.w3.org/2000/svg\" height=\"24px\"viewBox=\"0 0 24 24\"\n",
              "       width=\"24px\">\n",
              "    <path d=\"M0 0h24v24H0V0z\" fill=\"none\"/>\n",
              "    <path d=\"M18.56 5.44l.94 2.06.94-2.06 2.06-.94-2.06-.94-.94-2.06-.94 2.06-2.06.94zm-11 1L8.5 8.5l.94-2.06 2.06-.94-2.06-.94L8.5 2.5l-.94 2.06-2.06.94zm10 10l.94 2.06.94-2.06 2.06-.94-2.06-.94-.94-2.06-.94 2.06-2.06.94z\"/><path d=\"M17.41 7.96l-1.37-1.37c-.4-.4-.92-.59-1.43-.59-.52 0-1.04.2-1.43.59L10.3 9.45l-7.72 7.72c-.78.78-.78 2.05 0 2.83L4 21.41c.39.39.9.59 1.41.59.51 0 1.02-.2 1.41-.59l7.78-7.78 2.81-2.81c.8-.78.8-2.07 0-2.86zM5.41 20L4 18.59l7.72-7.72 1.47 1.35L5.41 20z\"/>\n",
              "  </svg>\n",
              "      </button>\n",
              "      \n",
              "  <style>\n",
              "    .colab-df-container {\n",
              "      display:flex;\n",
              "      flex-wrap:wrap;\n",
              "      gap: 12px;\n",
              "    }\n",
              "\n",
              "    .colab-df-convert {\n",
              "      background-color: #E8F0FE;\n",
              "      border: none;\n",
              "      border-radius: 50%;\n",
              "      cursor: pointer;\n",
              "      display: none;\n",
              "      fill: #1967D2;\n",
              "      height: 32px;\n",
              "      padding: 0 0 0 0;\n",
              "      width: 32px;\n",
              "    }\n",
              "\n",
              "    .colab-df-convert:hover {\n",
              "      background-color: #E2EBFA;\n",
              "      box-shadow: 0px 1px 2px rgba(60, 64, 67, 0.3), 0px 1px 3px 1px rgba(60, 64, 67, 0.15);\n",
              "      fill: #174EA6;\n",
              "    }\n",
              "\n",
              "    [theme=dark] .colab-df-convert {\n",
              "      background-color: #3B4455;\n",
              "      fill: #D2E3FC;\n",
              "    }\n",
              "\n",
              "    [theme=dark] .colab-df-convert:hover {\n",
              "      background-color: #434B5C;\n",
              "      box-shadow: 0px 1px 3px 1px rgba(0, 0, 0, 0.15);\n",
              "      filter: drop-shadow(0px 1px 2px rgba(0, 0, 0, 0.3));\n",
              "      fill: #FFFFFF;\n",
              "    }\n",
              "  </style>\n",
              "\n",
              "      <script>\n",
              "        const buttonEl =\n",
              "          document.querySelector('#df-8d751be7-8286-4852-8828-c885b2e46f23 button.colab-df-convert');\n",
              "        buttonEl.style.display =\n",
              "          google.colab.kernel.accessAllowed ? 'block' : 'none';\n",
              "\n",
              "        async function convertToInteractive(key) {\n",
              "          const element = document.querySelector('#df-8d751be7-8286-4852-8828-c885b2e46f23');\n",
              "          const dataTable =\n",
              "            await google.colab.kernel.invokeFunction('convertToInteractive',\n",
              "                                                     [key], {});\n",
              "          if (!dataTable) return;\n",
              "\n",
              "          const docLinkHtml = 'Like what you see? Visit the ' +\n",
              "            '<a target=\"_blank\" href=https://colab.research.google.com/notebooks/data_table.ipynb>data table notebook</a>'\n",
              "            + ' to learn more about interactive tables.';\n",
              "          element.innerHTML = '';\n",
              "          dataTable['output_type'] = 'display_data';\n",
              "          await google.colab.output.renderOutput(dataTable, element);\n",
              "          const docLink = document.createElement('div');\n",
              "          docLink.innerHTML = docLinkHtml;\n",
              "          element.appendChild(docLink);\n",
              "        }\n",
              "      </script>\n",
              "    </div>\n",
              "  </div>\n",
              "  "
            ]
          },
          "metadata": {},
          "execution_count": 88
        }
      ],
      "source": [
        "# Filter the news between Aug 2020 - Aug 2021\n",
        "india_news = india_news[india_news['publish_date'] > '2020-08-18']\n",
        "india_news = india_news[india_news['publish_date'] < '2021-08-19'].reset_index(drop = True)\n",
        "india_news"
      ]
    },
    {
      "cell_type": "code",
      "execution_count": null,
      "metadata": {
        "colab": {
          "base_uri": "https://localhost:8080/"
        },
        "id": "l6XVD_EIaclF",
        "outputId": "a0915863-5d18-4eb4-eae7-2fe601c33d94"
      },
      "outputs": [
        {
          "output_type": "stream",
          "name": "stderr",
          "text": [
            "[nltk_data] Downloading package punkt to /root/nltk_data...\n",
            "[nltk_data]   Unzipping tokenizers/punkt.zip.\n",
            "[nltk_data] Downloading package stopwords to /root/nltk_data...\n",
            "[nltk_data]   Unzipping corpora/stopwords.zip.\n"
          ]
        },
        {
          "output_type": "execute_result",
          "data": {
            "text/plain": [
              "True"
            ]
          },
          "metadata": {},
          "execution_count": 89
        }
      ],
      "source": [
        "# Import nltk for text preprocessing\n",
        "import nltk\n",
        "nltk.download('punkt')\n",
        "nltk.download('stopwords')"
      ]
    },
    {
      "cell_type": "code",
      "execution_count": null,
      "metadata": {
        "id": "bwXitVN6aK9L"
      },
      "outputs": [],
      "source": [
        "# Preprocess text data\n",
        "from nltk.corpus import stopwords\n",
        "from string import punctuation\n",
        "\n",
        "def remove_stopwords_and_punctuations(tokens):\n",
        "    # Convert stopwords set to lowercase\n",
        "    stop_words = set(stopwords.words('english'))\n",
        "    \n",
        "    # Filter out stopwords and punctuations\n",
        "    filtered_tokens = [token.lower() for token in tokens if token.lower() not in stop_words and token not in punctuation]\n",
        "    \n",
        "    return filtered_tokens\n",
        "\n",
        "# Tokenize the text column\n",
        "india_news['tokenized_text'] = india_news['headline_text'].apply(nltk.word_tokenize)\n",
        "\n",
        "# Remove stopwords and punctuations\n",
        "india_news['tokenized_text'] = india_news['tokenized_text'].apply(remove_stopwords_and_punctuations)\n"
      ]
    },
    {
      "cell_type": "code",
      "source": [
        "india_news.head"
      ],
      "metadata": {
        "colab": {
          "base_uri": "https://localhost:8080/"
        },
        "id": "haKPpOE3iQIx",
        "outputId": "68fe1bae-b796-4a5e-8494-4666ca12a0eb"
      },
      "execution_count": null,
      "outputs": [
        {
          "output_type": "execute_result",
          "data": {
            "text/plain": [
              "<bound method NDFrame.head of        publish_date                  headline_category  \\\n",
              "0        2020-08-19                         city.surat   \n",
              "1        2020-08-19                      city.kolhapur   \n",
              "2        2020-08-19                     city.ahmedabad   \n",
              "3        2020-08-19  entertainment.kannada.movies.news   \n",
              "4        2020-08-19               life-style.spotlight   \n",
              "...             ...                                ...   \n",
              "182044   2021-08-18                           city.goa   \n",
              "182045   2021-08-18                           city.goa   \n",
              "182046   2021-08-18                         city.delhi   \n",
              "182047   2021-08-18                         city.delhi   \n",
              "182048   2021-08-18            business.india-business   \n",
              "\n",
              "                                            headline_text  \\\n",
              "0       Rough diamond import decline 82% in April-July...   \n",
              "1       Chikali; Ambewadi residents leave as Panchagan...   \n",
              "2                        SC dismisses state govt's appeal   \n",
              "3       Prem gets nostalgic about his Shivarajkumar fi...   \n",
              "4       Drive-in theatres looking to capitalise in pos...   \n",
              "...                                                   ...   \n",
              "182044    FSDL acquires media rights for AFC competitions   \n",
              "182045  Need passionate people for sports to succeed; ...   \n",
              "182046  No end in sight to waste problem; East Delhi M...   \n",
              "182047  Quality education; health taking Delhi on US g...   \n",
              "182048        Branded bowl of fresh fruits to face 5% GST   \n",
              "\n",
              "                                           tokenized_text  \n",
              "0       [rough, diamond, import, decline, 82, april-ju...  \n",
              "1       [chikali, ambewadi, residents, leave, panchaga...  \n",
              "2                [sc, dismisses, state, govt, 's, appeal]  \n",
              "3       [prem, gets, nostalgic, shivarajkumar, film, j...  \n",
              "4       [drive-in, theatres, looking, capitalise, post...  \n",
              "...                                                   ...  \n",
              "182044  [fsdl, acquires, media, rights, afc, competiti...  \n",
              "182045  [need, passionate, people, sports, succeed, sa...  \n",
              "182046  [end, sight, waste, problem, east, delhi, muni...  \n",
              "182047  [quality, education, health, taking, delhi, us...  \n",
              "182048       [branded, bowl, fresh, fruits, face, 5, gst]  \n",
              "\n",
              "[182049 rows x 4 columns]>"
            ]
          },
          "metadata": {},
          "execution_count": 94
        }
      ]
    },
    {
      "cell_type": "markdown",
      "source": [
        "### FinBERT"
      ],
      "metadata": {
        "id": "wpsrEeWpe0p8"
      }
    },
    {
      "cell_type": "code",
      "source": [
        "from transformers import AutoTokenizer, AutoModelForSequenceClassification\n",
        "import torch\n",
        "# Use GPU\n",
        "device = torch.device(\"cuda\" if torch.cuda.is_available() else \"cpu\")\n",
        "\n",
        "# Load the fine-tuned FinBERT model and tokenizer\n",
        "model_path = \"ProsusAI/finbert\"\n",
        "tokenizer_path = \"ProsusAI/finbert\"\n",
        "\n",
        "model = AutoModelForSequenceClassification.from_pretrained(model_path)\n",
        "tokenizer = AutoTokenizer.from_pretrained(tokenizer_path)\n",
        "model.to(device)"
      ],
      "metadata": {
        "colab": {
          "base_uri": "https://localhost:8080/",
          "height": 957,
          "referenced_widgets": [
            "9fb2df405f3047b39f1bb75152b34fd2",
            "1f4ebfa845634a66bd6de70f614cbfab",
            "0ef7ff75973947f4be3550575bce3d57",
            "51eee707d4ef49129141e37cfd6360b2",
            "6d2bc2089ae749b38795434b8f9a3ea3",
            "bc6721be85554f268ac7f8d0085e9f55",
            "1c6b4e482f7445df8cf439222e90c694",
            "e5fc1041e45b475fb603e82b5f53b717",
            "8f129c6dc2994eb288cc50dfb5fd7e05",
            "78b39e8f148b402f94ff2caa3ce7c782",
            "a12553c877af453180850cdea346c949",
            "ddf835d5e9c845879ee692e06295c5fc",
            "b97ffa68639347cc8976c22645a002d9",
            "6b2195eee0904da0bf7877806aa54924",
            "d48627f43b19432988d81f343d7012ed",
            "b9c5e0b5b662440e8b3dabc09ac56941",
            "775d09c4ce5546139ef65adf902b1864",
            "39b4d0e6dd924290a3fc79a251c5d84f",
            "f76c1540d12a4135b8ed23ec5bd914ee",
            "a71d20f421514fed88af1ce6c15dd443",
            "60269e2c28654c9ab9488ecd1655a682",
            "a87cf498d7ac437c9d78942a41ed7018",
            "d48a6f65661f44e1846b1a089b0040b4",
            "4a7ce3fcfb234b07bb5c1900bef65105",
            "56fb72d818fb444981399952033a91f9",
            "61b46361bd4f441399cdfe42bc4b3b04",
            "cc9f6715bc7e4f068b6d678372ecfd2b",
            "95cf77a38005492797b9651bc1a42102",
            "09572a96554f435d9ef87c4c0fec5e9b",
            "5a194d1cc317497cbd8ca95666e61727",
            "f836bbe5e7e3442ebea31998e38c1670",
            "5fb4595d52134deaae76eabcd8bcca48",
            "016c6282782449feb05da512df28daec",
            "aefb8f4027db48a7a11029517568b7b7",
            "8cdc553483944b99b65880ba871f7dd9",
            "33674361366242c39f02fa6cc4c10e9c",
            "cceca5156dfa4b66843ad4308e44ed64",
            "bd433f5b674a4ecca53291fe64b071ab",
            "254241ad83814c71900459dc984f34f1",
            "ae972e6a4cb94896826c7638c52b8b4e",
            "5b4640fb24c64992a2f2c0d6e66e5756",
            "2df3aea819d34fd6ae320af2ae2e02c3",
            "11308e52a2c04dcb8ce6ed5d941a5b4c",
            "74a694e04e5b483d944cc696d7ce3b52",
            "a3f591b4db3746bda8951f1a61067921",
            "434fb611c2364d2895e3d3515d446277",
            "900c87750d8142f1b1d48e15950dc0eb",
            "129a4e2f8cb04d53b1379779325d4711",
            "88d76dafc2d04110bac82f4daaf20a2a",
            "87bcdadcc32a437ea38c3aaea73f3f5d",
            "980213dda4e1482bbb5193d1671dc09a",
            "7ba6457bcf1e431e9b4be34df2c48c2f",
            "2b3f27b8a23c46e7a92d717875cda5b0",
            "57caf91ddbf84c0caefc96e747e51bc0",
            "3ebb4649eec4496997c64f8c79c489ac"
          ]
        },
        "id": "A5gnyBDMe4v3",
        "outputId": "f8507179-7d93-4f50-c8d7-a5fa86162074"
      },
      "execution_count": null,
      "outputs": [
        {
          "output_type": "display_data",
          "data": {
            "text/plain": [
              "Downloading (…)lve/main/config.json:   0%|          | 0.00/758 [00:00<?, ?B/s]"
            ],
            "application/vnd.jupyter.widget-view+json": {
              "version_major": 2,
              "version_minor": 0,
              "model_id": "9fb2df405f3047b39f1bb75152b34fd2"
            }
          },
          "metadata": {}
        },
        {
          "output_type": "display_data",
          "data": {
            "text/plain": [
              "Downloading pytorch_model.bin:   0%|          | 0.00/438M [00:00<?, ?B/s]"
            ],
            "application/vnd.jupyter.widget-view+json": {
              "version_major": 2,
              "version_minor": 0,
              "model_id": "ddf835d5e9c845879ee692e06295c5fc"
            }
          },
          "metadata": {}
        },
        {
          "output_type": "display_data",
          "data": {
            "text/plain": [
              "Downloading (…)okenizer_config.json:   0%|          | 0.00/252 [00:00<?, ?B/s]"
            ],
            "application/vnd.jupyter.widget-view+json": {
              "version_major": 2,
              "version_minor": 0,
              "model_id": "d48a6f65661f44e1846b1a089b0040b4"
            }
          },
          "metadata": {}
        },
        {
          "output_type": "display_data",
          "data": {
            "text/plain": [
              "Downloading (…)solve/main/vocab.txt:   0%|          | 0.00/232k [00:00<?, ?B/s]"
            ],
            "application/vnd.jupyter.widget-view+json": {
              "version_major": 2,
              "version_minor": 0,
              "model_id": "aefb8f4027db48a7a11029517568b7b7"
            }
          },
          "metadata": {}
        },
        {
          "output_type": "display_data",
          "data": {
            "text/plain": [
              "Downloading (…)cial_tokens_map.json:   0%|          | 0.00/112 [00:00<?, ?B/s]"
            ],
            "application/vnd.jupyter.widget-view+json": {
              "version_major": 2,
              "version_minor": 0,
              "model_id": "a3f591b4db3746bda8951f1a61067921"
            }
          },
          "metadata": {}
        },
        {
          "output_type": "execute_result",
          "data": {
            "text/plain": [
              "BertForSequenceClassification(\n",
              "  (bert): BertModel(\n",
              "    (embeddings): BertEmbeddings(\n",
              "      (word_embeddings): Embedding(30522, 768, padding_idx=0)\n",
              "      (position_embeddings): Embedding(512, 768)\n",
              "      (token_type_embeddings): Embedding(2, 768)\n",
              "      (LayerNorm): LayerNorm((768,), eps=1e-12, elementwise_affine=True)\n",
              "      (dropout): Dropout(p=0.1, inplace=False)\n",
              "    )\n",
              "    (encoder): BertEncoder(\n",
              "      (layer): ModuleList(\n",
              "        (0-11): 12 x BertLayer(\n",
              "          (attention): BertAttention(\n",
              "            (self): BertSelfAttention(\n",
              "              (query): Linear(in_features=768, out_features=768, bias=True)\n",
              "              (key): Linear(in_features=768, out_features=768, bias=True)\n",
              "              (value): Linear(in_features=768, out_features=768, bias=True)\n",
              "              (dropout): Dropout(p=0.1, inplace=False)\n",
              "            )\n",
              "            (output): BertSelfOutput(\n",
              "              (dense): Linear(in_features=768, out_features=768, bias=True)\n",
              "              (LayerNorm): LayerNorm((768,), eps=1e-12, elementwise_affine=True)\n",
              "              (dropout): Dropout(p=0.1, inplace=False)\n",
              "            )\n",
              "          )\n",
              "          (intermediate): BertIntermediate(\n",
              "            (dense): Linear(in_features=768, out_features=3072, bias=True)\n",
              "            (intermediate_act_fn): GELUActivation()\n",
              "          )\n",
              "          (output): BertOutput(\n",
              "            (dense): Linear(in_features=3072, out_features=768, bias=True)\n",
              "            (LayerNorm): LayerNorm((768,), eps=1e-12, elementwise_affine=True)\n",
              "            (dropout): Dropout(p=0.1, inplace=False)\n",
              "          )\n",
              "        )\n",
              "      )\n",
              "    )\n",
              "    (pooler): BertPooler(\n",
              "      (dense): Linear(in_features=768, out_features=768, bias=True)\n",
              "      (activation): Tanh()\n",
              "    )\n",
              "  )\n",
              "  (dropout): Dropout(p=0.1, inplace=False)\n",
              "  (classifier): Linear(in_features=768, out_features=3, bias=True)\n",
              ")"
            ]
          },
          "metadata": {},
          "execution_count": 92
        }
      ]
    },
    {
      "cell_type": "code",
      "source": [
        "def get_sentiment_scores(tokenized_texts):\n",
        "    texts = [' '.join(tokens) for tokens in tokenized_texts]\n",
        "    inputs = tokenizer([text[0] for text in texts], padding=True, truncation=True, return_tensors=\"pt\")\n",
        "    inputs = {key: value.to(device) for key, value in inputs.items()}\n",
        "    \n",
        "    # Get the predicted sentiment score\n",
        "    outputs = model(**inputs)\n",
        "    \n",
        "    # Calculate probabilities from logits\n",
        "    probabilities = torch.softmax(outputs.logits, dim=-1).detach().cpu().numpy()  # Add the detach() method here\n",
        "    # scores = torch.softmax(outputs.logits, dim=1).detach().cpu().numpy()\n",
        "    # print(scores)\n",
        "    \n",
        "    # Use the positive class probability as the continuous sentiment score\n",
        "    sentiment_scores = probabilities[:, 1]\n",
        "\n",
        "    \n",
        "    # Return the sentiment score\n",
        "    # return {\"positive\": scores[:,1], \"negative\": scores[:,0]}\n",
        "\n",
        "\n",
        "    \n",
        "    # # Normalize the sentiment scores to the range [-1, 1]\n",
        "    # sentiment_scores = 2 * sentiment_scores - 1\n",
        "    \n",
        "    return sentiment_scores\n",
        "\n",
        "# Process the tokenized texts in batches\n",
        "batch_size = 64\n",
        "n_batches = int(np.ceil(len(india_news) / batch_size))\n",
        "sentiment_scores = []\n",
        "\n",
        "for i in range(n_batches):\n",
        "    start_idx = i * batch_size\n",
        "    end_idx = (i + 1) * batch_size\n",
        "    \n",
        "    batch_tokenized_texts = india_news['tokenized_text'][start_idx:end_idx].tolist()\n",
        "    batch_sentiment_scores = get_sentiment_scores(batch_tokenized_texts)\n",
        "    sentiment_scores.extend(batch_sentiment_scores)"
      ],
      "metadata": {
        "id": "_-L5z72ApLyn",
        "colab": {
          "base_uri": "https://localhost:8080/",
          "height": 364
        },
        "outputId": "fb1d0f1b-3195-4e5e-cc9e-eabf727f2387"
      },
      "execution_count": null,
      "outputs": [
        {
          "output_type": "error",
          "ename": "KeyboardInterrupt",
          "evalue": "ignored",
          "traceback": [
            "\u001b[0;31m---------------------------------------------------------------------------\u001b[0m",
            "\u001b[0;31mKeyboardInterrupt\u001b[0m                         Traceback (most recent call last)",
            "\u001b[0;32m<ipython-input-93-d2593ad0ffb3>\u001b[0m in \u001b[0;36m<cell line: 33>\u001b[0;34m()\u001b[0m\n\u001b[1;32m     36\u001b[0m \u001b[0;34m\u001b[0m\u001b[0m\n\u001b[1;32m     37\u001b[0m     \u001b[0mbatch_tokenized_texts\u001b[0m \u001b[0;34m=\u001b[0m \u001b[0mindia_news\u001b[0m\u001b[0;34m[\u001b[0m\u001b[0;34m'tokenized_text'\u001b[0m\u001b[0;34m]\u001b[0m\u001b[0;34m[\u001b[0m\u001b[0mstart_idx\u001b[0m\u001b[0;34m:\u001b[0m\u001b[0mend_idx\u001b[0m\u001b[0;34m]\u001b[0m\u001b[0;34m.\u001b[0m\u001b[0mtolist\u001b[0m\u001b[0;34m(\u001b[0m\u001b[0;34m)\u001b[0m\u001b[0;34m\u001b[0m\u001b[0;34m\u001b[0m\u001b[0m\n\u001b[0;32m---> 38\u001b[0;31m     \u001b[0mbatch_sentiment_scores\u001b[0m \u001b[0;34m=\u001b[0m \u001b[0mget_sentiment_scores\u001b[0m\u001b[0;34m(\u001b[0m\u001b[0mbatch_tokenized_texts\u001b[0m\u001b[0;34m)\u001b[0m\u001b[0;34m\u001b[0m\u001b[0;34m\u001b[0m\u001b[0m\n\u001b[0m\u001b[1;32m     39\u001b[0m     \u001b[0msentiment_scores\u001b[0m\u001b[0;34m.\u001b[0m\u001b[0mextend\u001b[0m\u001b[0;34m(\u001b[0m\u001b[0mbatch_sentiment_scores\u001b[0m\u001b[0;34m)\u001b[0m\u001b[0;34m\u001b[0m\u001b[0;34m\u001b[0m\u001b[0m\n",
            "\u001b[0;32m<ipython-input-93-d2593ad0ffb3>\u001b[0m in \u001b[0;36mget_sentiment_scores\u001b[0;34m(tokenized_texts)\u001b[0m\n\u001b[1;32m      5\u001b[0m \u001b[0;34m\u001b[0m\u001b[0m\n\u001b[1;32m      6\u001b[0m     \u001b[0;31m# Get the predicted sentiment score\u001b[0m\u001b[0;34m\u001b[0m\u001b[0;34m\u001b[0m\u001b[0m\n\u001b[0;32m----> 7\u001b[0;31m     \u001b[0moutputs\u001b[0m \u001b[0;34m=\u001b[0m \u001b[0mmodel\u001b[0m\u001b[0;34m(\u001b[0m\u001b[0;34m**\u001b[0m\u001b[0minputs\u001b[0m\u001b[0;34m)\u001b[0m\u001b[0;34m\u001b[0m\u001b[0;34m\u001b[0m\u001b[0m\n\u001b[0m\u001b[1;32m      8\u001b[0m \u001b[0;34m\u001b[0m\u001b[0m\n\u001b[1;32m      9\u001b[0m     \u001b[0;31m# Calculate probabilities from logits\u001b[0m\u001b[0;34m\u001b[0m\u001b[0;34m\u001b[0m\u001b[0m\n",
            "\u001b[0;32m/usr/local/lib/python3.9/dist-packages/torch/nn/modules/module.py\u001b[0m in \u001b[0;36m_call_impl\u001b[0;34m(self, *args, **kwargs)\u001b[0m\n\u001b[1;32m   1499\u001b[0m                 \u001b[0;32mor\u001b[0m \u001b[0m_global_backward_pre_hooks\u001b[0m \u001b[0;32mor\u001b[0m \u001b[0m_global_backward_hooks\u001b[0m\u001b[0;34m\u001b[0m\u001b[0;34m\u001b[0m\u001b[0m\n\u001b[1;32m   1500\u001b[0m                 or _global_forward_hooks or _global_forward_pre_hooks):\n\u001b[0;32m-> 1501\u001b[0;31m             \u001b[0;32mreturn\u001b[0m \u001b[0mforward_call\u001b[0m\u001b[0;34m(\u001b[0m\u001b[0;34m*\u001b[0m\u001b[0margs\u001b[0m\u001b[0;34m,\u001b[0m \u001b[0;34m**\u001b[0m\u001b[0mkwargs\u001b[0m\u001b[0;34m)\u001b[0m\u001b[0;34m\u001b[0m\u001b[0;34m\u001b[0m\u001b[0m\n\u001b[0m\u001b[1;32m   1502\u001b[0m         \u001b[0;31m# Do not call functions when jit is used\u001b[0m\u001b[0;34m\u001b[0m\u001b[0;34m\u001b[0m\u001b[0m\n\u001b[1;32m   1503\u001b[0m         \u001b[0mfull_backward_hooks\u001b[0m\u001b[0;34m,\u001b[0m \u001b[0mnon_full_backward_hooks\u001b[0m \u001b[0;34m=\u001b[0m \u001b[0;34m[\u001b[0m\u001b[0;34m]\u001b[0m\u001b[0;34m,\u001b[0m \u001b[0;34m[\u001b[0m\u001b[0;34m]\u001b[0m\u001b[0;34m\u001b[0m\u001b[0;34m\u001b[0m\u001b[0m\n",
            "\u001b[0;32m/usr/local/lib/python3.9/dist-packages/transformers/models/bert/modeling_bert.py\u001b[0m in \u001b[0;36mforward\u001b[0;34m(self, input_ids, attention_mask, token_type_ids, position_ids, head_mask, inputs_embeds, labels, output_attentions, output_hidden_states, return_dict)\u001b[0m\n\u001b[1;32m   1560\u001b[0m         \u001b[0mreturn_dict\u001b[0m \u001b[0;34m=\u001b[0m \u001b[0mreturn_dict\u001b[0m \u001b[0;32mif\u001b[0m \u001b[0mreturn_dict\u001b[0m \u001b[0;32mis\u001b[0m \u001b[0;32mnot\u001b[0m \u001b[0;32mNone\u001b[0m \u001b[0;32melse\u001b[0m \u001b[0mself\u001b[0m\u001b[0;34m.\u001b[0m\u001b[0mconfig\u001b[0m\u001b[0;34m.\u001b[0m\u001b[0muse_return_dict\u001b[0m\u001b[0;34m\u001b[0m\u001b[0;34m\u001b[0m\u001b[0m\n\u001b[1;32m   1561\u001b[0m \u001b[0;34m\u001b[0m\u001b[0m\n\u001b[0;32m-> 1562\u001b[0;31m         outputs = self.bert(\n\u001b[0m\u001b[1;32m   1563\u001b[0m             \u001b[0minput_ids\u001b[0m\u001b[0;34m,\u001b[0m\u001b[0;34m\u001b[0m\u001b[0;34m\u001b[0m\u001b[0m\n\u001b[1;32m   1564\u001b[0m             \u001b[0mattention_mask\u001b[0m\u001b[0;34m=\u001b[0m\u001b[0mattention_mask\u001b[0m\u001b[0;34m,\u001b[0m\u001b[0;34m\u001b[0m\u001b[0;34m\u001b[0m\u001b[0m\n",
            "\u001b[0;32m/usr/local/lib/python3.9/dist-packages/torch/nn/modules/module.py\u001b[0m in \u001b[0;36m_call_impl\u001b[0;34m(self, *args, **kwargs)\u001b[0m\n\u001b[1;32m   1499\u001b[0m                 \u001b[0;32mor\u001b[0m \u001b[0m_global_backward_pre_hooks\u001b[0m \u001b[0;32mor\u001b[0m \u001b[0m_global_backward_hooks\u001b[0m\u001b[0;34m\u001b[0m\u001b[0;34m\u001b[0m\u001b[0m\n\u001b[1;32m   1500\u001b[0m                 or _global_forward_hooks or _global_forward_pre_hooks):\n\u001b[0;32m-> 1501\u001b[0;31m             \u001b[0;32mreturn\u001b[0m \u001b[0mforward_call\u001b[0m\u001b[0;34m(\u001b[0m\u001b[0;34m*\u001b[0m\u001b[0margs\u001b[0m\u001b[0;34m,\u001b[0m \u001b[0;34m**\u001b[0m\u001b[0mkwargs\u001b[0m\u001b[0;34m)\u001b[0m\u001b[0;34m\u001b[0m\u001b[0;34m\u001b[0m\u001b[0m\n\u001b[0m\u001b[1;32m   1502\u001b[0m         \u001b[0;31m# Do not call functions when jit is used\u001b[0m\u001b[0;34m\u001b[0m\u001b[0;34m\u001b[0m\u001b[0m\n\u001b[1;32m   1503\u001b[0m         \u001b[0mfull_backward_hooks\u001b[0m\u001b[0;34m,\u001b[0m \u001b[0mnon_full_backward_hooks\u001b[0m \u001b[0;34m=\u001b[0m \u001b[0;34m[\u001b[0m\u001b[0;34m]\u001b[0m\u001b[0;34m,\u001b[0m \u001b[0;34m[\u001b[0m\u001b[0;34m]\u001b[0m\u001b[0;34m\u001b[0m\u001b[0;34m\u001b[0m\u001b[0m\n",
            "\u001b[0;32m/usr/local/lib/python3.9/dist-packages/transformers/models/bert/modeling_bert.py\u001b[0m in \u001b[0;36mforward\u001b[0;34m(self, input_ids, attention_mask, token_type_ids, position_ids, head_mask, inputs_embeds, encoder_hidden_states, encoder_attention_mask, past_key_values, use_cache, output_attentions, output_hidden_states, return_dict)\u001b[0m\n\u001b[1;32m   1018\u001b[0m             \u001b[0mpast_key_values_length\u001b[0m\u001b[0;34m=\u001b[0m\u001b[0mpast_key_values_length\u001b[0m\u001b[0;34m,\u001b[0m\u001b[0;34m\u001b[0m\u001b[0;34m\u001b[0m\u001b[0m\n\u001b[1;32m   1019\u001b[0m         )\n\u001b[0;32m-> 1020\u001b[0;31m         encoder_outputs = self.encoder(\n\u001b[0m\u001b[1;32m   1021\u001b[0m             \u001b[0membedding_output\u001b[0m\u001b[0;34m,\u001b[0m\u001b[0;34m\u001b[0m\u001b[0;34m\u001b[0m\u001b[0m\n\u001b[1;32m   1022\u001b[0m             \u001b[0mattention_mask\u001b[0m\u001b[0;34m=\u001b[0m\u001b[0mextended_attention_mask\u001b[0m\u001b[0;34m,\u001b[0m\u001b[0;34m\u001b[0m\u001b[0;34m\u001b[0m\u001b[0m\n",
            "\u001b[0;32m/usr/local/lib/python3.9/dist-packages/torch/nn/modules/module.py\u001b[0m in \u001b[0;36m_call_impl\u001b[0;34m(self, *args, **kwargs)\u001b[0m\n\u001b[1;32m   1499\u001b[0m                 \u001b[0;32mor\u001b[0m \u001b[0m_global_backward_pre_hooks\u001b[0m \u001b[0;32mor\u001b[0m \u001b[0m_global_backward_hooks\u001b[0m\u001b[0;34m\u001b[0m\u001b[0;34m\u001b[0m\u001b[0m\n\u001b[1;32m   1500\u001b[0m                 or _global_forward_hooks or _global_forward_pre_hooks):\n\u001b[0;32m-> 1501\u001b[0;31m             \u001b[0;32mreturn\u001b[0m \u001b[0mforward_call\u001b[0m\u001b[0;34m(\u001b[0m\u001b[0;34m*\u001b[0m\u001b[0margs\u001b[0m\u001b[0;34m,\u001b[0m \u001b[0;34m**\u001b[0m\u001b[0mkwargs\u001b[0m\u001b[0;34m)\u001b[0m\u001b[0;34m\u001b[0m\u001b[0;34m\u001b[0m\u001b[0m\n\u001b[0m\u001b[1;32m   1502\u001b[0m         \u001b[0;31m# Do not call functions when jit is used\u001b[0m\u001b[0;34m\u001b[0m\u001b[0;34m\u001b[0m\u001b[0m\n\u001b[1;32m   1503\u001b[0m         \u001b[0mfull_backward_hooks\u001b[0m\u001b[0;34m,\u001b[0m \u001b[0mnon_full_backward_hooks\u001b[0m \u001b[0;34m=\u001b[0m \u001b[0;34m[\u001b[0m\u001b[0;34m]\u001b[0m\u001b[0;34m,\u001b[0m \u001b[0;34m[\u001b[0m\u001b[0;34m]\u001b[0m\u001b[0;34m\u001b[0m\u001b[0;34m\u001b[0m\u001b[0m\n",
            "\u001b[0;32m/usr/local/lib/python3.9/dist-packages/transformers/models/bert/modeling_bert.py\u001b[0m in \u001b[0;36mforward\u001b[0;34m(self, hidden_states, attention_mask, head_mask, encoder_hidden_states, encoder_attention_mask, past_key_values, use_cache, output_attentions, output_hidden_states, return_dict)\u001b[0m\n\u001b[1;32m    608\u001b[0m                 )\n\u001b[1;32m    609\u001b[0m             \u001b[0;32melse\u001b[0m\u001b[0;34m:\u001b[0m\u001b[0;34m\u001b[0m\u001b[0;34m\u001b[0m\u001b[0m\n\u001b[0;32m--> 610\u001b[0;31m                 layer_outputs = layer_module(\n\u001b[0m\u001b[1;32m    611\u001b[0m                     \u001b[0mhidden_states\u001b[0m\u001b[0;34m,\u001b[0m\u001b[0;34m\u001b[0m\u001b[0;34m\u001b[0m\u001b[0m\n\u001b[1;32m    612\u001b[0m                     \u001b[0mattention_mask\u001b[0m\u001b[0;34m,\u001b[0m\u001b[0;34m\u001b[0m\u001b[0;34m\u001b[0m\u001b[0m\n",
            "\u001b[0;32m/usr/local/lib/python3.9/dist-packages/torch/nn/modules/module.py\u001b[0m in \u001b[0;36m_call_impl\u001b[0;34m(self, *args, **kwargs)\u001b[0m\n\u001b[1;32m   1499\u001b[0m                 \u001b[0;32mor\u001b[0m \u001b[0m_global_backward_pre_hooks\u001b[0m \u001b[0;32mor\u001b[0m \u001b[0m_global_backward_hooks\u001b[0m\u001b[0;34m\u001b[0m\u001b[0;34m\u001b[0m\u001b[0m\n\u001b[1;32m   1500\u001b[0m                 or _global_forward_hooks or _global_forward_pre_hooks):\n\u001b[0;32m-> 1501\u001b[0;31m             \u001b[0;32mreturn\u001b[0m \u001b[0mforward_call\u001b[0m\u001b[0;34m(\u001b[0m\u001b[0;34m*\u001b[0m\u001b[0margs\u001b[0m\u001b[0;34m,\u001b[0m \u001b[0;34m**\u001b[0m\u001b[0mkwargs\u001b[0m\u001b[0;34m)\u001b[0m\u001b[0;34m\u001b[0m\u001b[0;34m\u001b[0m\u001b[0m\n\u001b[0m\u001b[1;32m   1502\u001b[0m         \u001b[0;31m# Do not call functions when jit is used\u001b[0m\u001b[0;34m\u001b[0m\u001b[0;34m\u001b[0m\u001b[0m\n\u001b[1;32m   1503\u001b[0m         \u001b[0mfull_backward_hooks\u001b[0m\u001b[0;34m,\u001b[0m \u001b[0mnon_full_backward_hooks\u001b[0m \u001b[0;34m=\u001b[0m \u001b[0;34m[\u001b[0m\u001b[0;34m]\u001b[0m\u001b[0;34m,\u001b[0m \u001b[0;34m[\u001b[0m\u001b[0;34m]\u001b[0m\u001b[0;34m\u001b[0m\u001b[0;34m\u001b[0m\u001b[0m\n",
            "\u001b[0;32m/usr/local/lib/python3.9/dist-packages/transformers/models/bert/modeling_bert.py\u001b[0m in \u001b[0;36mforward\u001b[0;34m(self, hidden_states, attention_mask, head_mask, encoder_hidden_states, encoder_attention_mask, past_key_value, output_attentions)\u001b[0m\n\u001b[1;32m    493\u001b[0m         \u001b[0;31m# decoder uni-directional self-attention cached key/values tuple is at positions 1,2\u001b[0m\u001b[0;34m\u001b[0m\u001b[0;34m\u001b[0m\u001b[0m\n\u001b[1;32m    494\u001b[0m         \u001b[0mself_attn_past_key_value\u001b[0m \u001b[0;34m=\u001b[0m \u001b[0mpast_key_value\u001b[0m\u001b[0;34m[\u001b[0m\u001b[0;34m:\u001b[0m\u001b[0;36m2\u001b[0m\u001b[0;34m]\u001b[0m \u001b[0;32mif\u001b[0m \u001b[0mpast_key_value\u001b[0m \u001b[0;32mis\u001b[0m \u001b[0;32mnot\u001b[0m \u001b[0;32mNone\u001b[0m \u001b[0;32melse\u001b[0m \u001b[0;32mNone\u001b[0m\u001b[0;34m\u001b[0m\u001b[0;34m\u001b[0m\u001b[0m\n\u001b[0;32m--> 495\u001b[0;31m         self_attention_outputs = self.attention(\n\u001b[0m\u001b[1;32m    496\u001b[0m             \u001b[0mhidden_states\u001b[0m\u001b[0;34m,\u001b[0m\u001b[0;34m\u001b[0m\u001b[0;34m\u001b[0m\u001b[0m\n\u001b[1;32m    497\u001b[0m             \u001b[0mattention_mask\u001b[0m\u001b[0;34m,\u001b[0m\u001b[0;34m\u001b[0m\u001b[0;34m\u001b[0m\u001b[0m\n",
            "\u001b[0;32m/usr/local/lib/python3.9/dist-packages/torch/nn/modules/module.py\u001b[0m in \u001b[0;36m_call_impl\u001b[0;34m(self, *args, **kwargs)\u001b[0m\n\u001b[1;32m   1499\u001b[0m                 \u001b[0;32mor\u001b[0m \u001b[0m_global_backward_pre_hooks\u001b[0m \u001b[0;32mor\u001b[0m \u001b[0m_global_backward_hooks\u001b[0m\u001b[0;34m\u001b[0m\u001b[0;34m\u001b[0m\u001b[0m\n\u001b[1;32m   1500\u001b[0m                 or _global_forward_hooks or _global_forward_pre_hooks):\n\u001b[0;32m-> 1501\u001b[0;31m             \u001b[0;32mreturn\u001b[0m \u001b[0mforward_call\u001b[0m\u001b[0;34m(\u001b[0m\u001b[0;34m*\u001b[0m\u001b[0margs\u001b[0m\u001b[0;34m,\u001b[0m \u001b[0;34m**\u001b[0m\u001b[0mkwargs\u001b[0m\u001b[0;34m)\u001b[0m\u001b[0;34m\u001b[0m\u001b[0;34m\u001b[0m\u001b[0m\n\u001b[0m\u001b[1;32m   1502\u001b[0m         \u001b[0;31m# Do not call functions when jit is used\u001b[0m\u001b[0;34m\u001b[0m\u001b[0;34m\u001b[0m\u001b[0m\n\u001b[1;32m   1503\u001b[0m         \u001b[0mfull_backward_hooks\u001b[0m\u001b[0;34m,\u001b[0m \u001b[0mnon_full_backward_hooks\u001b[0m \u001b[0;34m=\u001b[0m \u001b[0;34m[\u001b[0m\u001b[0;34m]\u001b[0m\u001b[0;34m,\u001b[0m \u001b[0;34m[\u001b[0m\u001b[0;34m]\u001b[0m\u001b[0;34m\u001b[0m\u001b[0;34m\u001b[0m\u001b[0m\n",
            "\u001b[0;32m/usr/local/lib/python3.9/dist-packages/transformers/models/bert/modeling_bert.py\u001b[0m in \u001b[0;36mforward\u001b[0;34m(self, hidden_states, attention_mask, head_mask, encoder_hidden_states, encoder_attention_mask, past_key_value, output_attentions)\u001b[0m\n\u001b[1;32m    432\u001b[0m             \u001b[0moutput_attentions\u001b[0m\u001b[0;34m,\u001b[0m\u001b[0;34m\u001b[0m\u001b[0;34m\u001b[0m\u001b[0m\n\u001b[1;32m    433\u001b[0m         )\n\u001b[0;32m--> 434\u001b[0;31m         \u001b[0mattention_output\u001b[0m \u001b[0;34m=\u001b[0m \u001b[0mself\u001b[0m\u001b[0;34m.\u001b[0m\u001b[0moutput\u001b[0m\u001b[0;34m(\u001b[0m\u001b[0mself_outputs\u001b[0m\u001b[0;34m[\u001b[0m\u001b[0;36m0\u001b[0m\u001b[0;34m]\u001b[0m\u001b[0;34m,\u001b[0m \u001b[0mhidden_states\u001b[0m\u001b[0;34m)\u001b[0m\u001b[0;34m\u001b[0m\u001b[0;34m\u001b[0m\u001b[0m\n\u001b[0m\u001b[1;32m    435\u001b[0m         \u001b[0moutputs\u001b[0m \u001b[0;34m=\u001b[0m \u001b[0;34m(\u001b[0m\u001b[0mattention_output\u001b[0m\u001b[0;34m,\u001b[0m\u001b[0;34m)\u001b[0m \u001b[0;34m+\u001b[0m \u001b[0mself_outputs\u001b[0m\u001b[0;34m[\u001b[0m\u001b[0;36m1\u001b[0m\u001b[0;34m:\u001b[0m\u001b[0;34m]\u001b[0m  \u001b[0;31m# add attentions if we output them\u001b[0m\u001b[0;34m\u001b[0m\u001b[0;34m\u001b[0m\u001b[0m\n\u001b[1;32m    436\u001b[0m         \u001b[0;32mreturn\u001b[0m \u001b[0moutputs\u001b[0m\u001b[0;34m\u001b[0m\u001b[0;34m\u001b[0m\u001b[0m\n",
            "\u001b[0;32m/usr/local/lib/python3.9/dist-packages/torch/nn/modules/module.py\u001b[0m in \u001b[0;36m_call_impl\u001b[0;34m(self, *args, **kwargs)\u001b[0m\n\u001b[1;32m   1499\u001b[0m                 \u001b[0;32mor\u001b[0m \u001b[0m_global_backward_pre_hooks\u001b[0m \u001b[0;32mor\u001b[0m \u001b[0m_global_backward_hooks\u001b[0m\u001b[0;34m\u001b[0m\u001b[0;34m\u001b[0m\u001b[0m\n\u001b[1;32m   1500\u001b[0m                 or _global_forward_hooks or _global_forward_pre_hooks):\n\u001b[0;32m-> 1501\u001b[0;31m             \u001b[0;32mreturn\u001b[0m \u001b[0mforward_call\u001b[0m\u001b[0;34m(\u001b[0m\u001b[0;34m*\u001b[0m\u001b[0margs\u001b[0m\u001b[0;34m,\u001b[0m \u001b[0;34m**\u001b[0m\u001b[0mkwargs\u001b[0m\u001b[0;34m)\u001b[0m\u001b[0;34m\u001b[0m\u001b[0;34m\u001b[0m\u001b[0m\n\u001b[0m\u001b[1;32m   1502\u001b[0m         \u001b[0;31m# Do not call functions when jit is used\u001b[0m\u001b[0;34m\u001b[0m\u001b[0;34m\u001b[0m\u001b[0m\n\u001b[1;32m   1503\u001b[0m         \u001b[0mfull_backward_hooks\u001b[0m\u001b[0;34m,\u001b[0m \u001b[0mnon_full_backward_hooks\u001b[0m \u001b[0;34m=\u001b[0m \u001b[0;34m[\u001b[0m\u001b[0;34m]\u001b[0m\u001b[0;34m,\u001b[0m \u001b[0;34m[\u001b[0m\u001b[0;34m]\u001b[0m\u001b[0;34m\u001b[0m\u001b[0;34m\u001b[0m\u001b[0m\n",
            "\u001b[0;32m/usr/local/lib/python3.9/dist-packages/transformers/models/bert/modeling_bert.py\u001b[0m in \u001b[0;36mforward\u001b[0;34m(self, hidden_states, input_tensor)\u001b[0m\n\u001b[1;32m    382\u001b[0m \u001b[0;34m\u001b[0m\u001b[0m\n\u001b[1;32m    383\u001b[0m     \u001b[0;32mdef\u001b[0m \u001b[0mforward\u001b[0m\u001b[0;34m(\u001b[0m\u001b[0mself\u001b[0m\u001b[0;34m,\u001b[0m \u001b[0mhidden_states\u001b[0m\u001b[0;34m:\u001b[0m \u001b[0mtorch\u001b[0m\u001b[0;34m.\u001b[0m\u001b[0mTensor\u001b[0m\u001b[0;34m,\u001b[0m \u001b[0minput_tensor\u001b[0m\u001b[0;34m:\u001b[0m \u001b[0mtorch\u001b[0m\u001b[0;34m.\u001b[0m\u001b[0mTensor\u001b[0m\u001b[0;34m)\u001b[0m \u001b[0;34m->\u001b[0m \u001b[0mtorch\u001b[0m\u001b[0;34m.\u001b[0m\u001b[0mTensor\u001b[0m\u001b[0;34m:\u001b[0m\u001b[0;34m\u001b[0m\u001b[0;34m\u001b[0m\u001b[0m\n\u001b[0;32m--> 384\u001b[0;31m         \u001b[0mhidden_states\u001b[0m \u001b[0;34m=\u001b[0m \u001b[0mself\u001b[0m\u001b[0;34m.\u001b[0m\u001b[0mdense\u001b[0m\u001b[0;34m(\u001b[0m\u001b[0mhidden_states\u001b[0m\u001b[0;34m)\u001b[0m\u001b[0;34m\u001b[0m\u001b[0;34m\u001b[0m\u001b[0m\n\u001b[0m\u001b[1;32m    385\u001b[0m         \u001b[0mhidden_states\u001b[0m \u001b[0;34m=\u001b[0m \u001b[0mself\u001b[0m\u001b[0;34m.\u001b[0m\u001b[0mdropout\u001b[0m\u001b[0;34m(\u001b[0m\u001b[0mhidden_states\u001b[0m\u001b[0;34m)\u001b[0m\u001b[0;34m\u001b[0m\u001b[0;34m\u001b[0m\u001b[0m\n\u001b[1;32m    386\u001b[0m         \u001b[0mhidden_states\u001b[0m \u001b[0;34m=\u001b[0m \u001b[0mself\u001b[0m\u001b[0;34m.\u001b[0m\u001b[0mLayerNorm\u001b[0m\u001b[0;34m(\u001b[0m\u001b[0mhidden_states\u001b[0m \u001b[0;34m+\u001b[0m \u001b[0minput_tensor\u001b[0m\u001b[0;34m)\u001b[0m\u001b[0;34m\u001b[0m\u001b[0;34m\u001b[0m\u001b[0m\n",
            "\u001b[0;32m/usr/local/lib/python3.9/dist-packages/torch/nn/modules/module.py\u001b[0m in \u001b[0;36m_call_impl\u001b[0;34m(self, *args, **kwargs)\u001b[0m\n\u001b[1;32m   1499\u001b[0m                 \u001b[0;32mor\u001b[0m \u001b[0m_global_backward_pre_hooks\u001b[0m \u001b[0;32mor\u001b[0m \u001b[0m_global_backward_hooks\u001b[0m\u001b[0;34m\u001b[0m\u001b[0;34m\u001b[0m\u001b[0m\n\u001b[1;32m   1500\u001b[0m                 or _global_forward_hooks or _global_forward_pre_hooks):\n\u001b[0;32m-> 1501\u001b[0;31m             \u001b[0;32mreturn\u001b[0m \u001b[0mforward_call\u001b[0m\u001b[0;34m(\u001b[0m\u001b[0;34m*\u001b[0m\u001b[0margs\u001b[0m\u001b[0;34m,\u001b[0m \u001b[0;34m**\u001b[0m\u001b[0mkwargs\u001b[0m\u001b[0;34m)\u001b[0m\u001b[0;34m\u001b[0m\u001b[0;34m\u001b[0m\u001b[0m\n\u001b[0m\u001b[1;32m   1502\u001b[0m         \u001b[0;31m# Do not call functions when jit is used\u001b[0m\u001b[0;34m\u001b[0m\u001b[0;34m\u001b[0m\u001b[0m\n\u001b[1;32m   1503\u001b[0m         \u001b[0mfull_backward_hooks\u001b[0m\u001b[0;34m,\u001b[0m \u001b[0mnon_full_backward_hooks\u001b[0m \u001b[0;34m=\u001b[0m \u001b[0;34m[\u001b[0m\u001b[0;34m]\u001b[0m\u001b[0;34m,\u001b[0m \u001b[0;34m[\u001b[0m\u001b[0;34m]\u001b[0m\u001b[0;34m\u001b[0m\u001b[0;34m\u001b[0m\u001b[0m\n",
            "\u001b[0;32m/usr/local/lib/python3.9/dist-packages/torch/nn/modules/linear.py\u001b[0m in \u001b[0;36mforward\u001b[0;34m(self, input)\u001b[0m\n\u001b[1;32m    112\u001b[0m \u001b[0;34m\u001b[0m\u001b[0m\n\u001b[1;32m    113\u001b[0m     \u001b[0;32mdef\u001b[0m \u001b[0mforward\u001b[0m\u001b[0;34m(\u001b[0m\u001b[0mself\u001b[0m\u001b[0;34m,\u001b[0m \u001b[0minput\u001b[0m\u001b[0;34m:\u001b[0m \u001b[0mTensor\u001b[0m\u001b[0;34m)\u001b[0m \u001b[0;34m->\u001b[0m \u001b[0mTensor\u001b[0m\u001b[0;34m:\u001b[0m\u001b[0;34m\u001b[0m\u001b[0;34m\u001b[0m\u001b[0m\n\u001b[0;32m--> 114\u001b[0;31m         \u001b[0;32mreturn\u001b[0m \u001b[0mF\u001b[0m\u001b[0;34m.\u001b[0m\u001b[0mlinear\u001b[0m\u001b[0;34m(\u001b[0m\u001b[0minput\u001b[0m\u001b[0;34m,\u001b[0m \u001b[0mself\u001b[0m\u001b[0;34m.\u001b[0m\u001b[0mweight\u001b[0m\u001b[0;34m,\u001b[0m \u001b[0mself\u001b[0m\u001b[0;34m.\u001b[0m\u001b[0mbias\u001b[0m\u001b[0;34m)\u001b[0m\u001b[0;34m\u001b[0m\u001b[0;34m\u001b[0m\u001b[0m\n\u001b[0m\u001b[1;32m    115\u001b[0m \u001b[0;34m\u001b[0m\u001b[0m\n\u001b[1;32m    116\u001b[0m     \u001b[0;32mdef\u001b[0m \u001b[0mextra_repr\u001b[0m\u001b[0;34m(\u001b[0m\u001b[0mself\u001b[0m\u001b[0;34m)\u001b[0m \u001b[0;34m->\u001b[0m \u001b[0mstr\u001b[0m\u001b[0;34m:\u001b[0m\u001b[0;34m\u001b[0m\u001b[0;34m\u001b[0m\u001b[0m\n",
            "\u001b[0;31mKeyboardInterrupt\u001b[0m: "
          ]
        }
      ]
    },
    {
      "cell_type": "code",
      "source": [
        "# Add the sentiment scores to the DataFrame\n",
        "india_news['sentiment_score'] = sentiment_scores"
      ],
      "metadata": {
        "id": "v962C3hCs97B"
      },
      "execution_count": null,
      "outputs": []
    },
    {
      "cell_type": "markdown",
      "source": [
        "### END"
      ],
      "metadata": {
        "id": "fWglRN7Me2ve"
      }
    },
    {
      "cell_type": "code",
      "execution_count": null,
      "metadata": {
        "id": "kCDsfVGwedLW"
      },
      "outputs": [],
      "source": [
        "india_news.head(5)"
      ]
    },
    {
      "cell_type": "markdown",
      "metadata": {
        "id": "Zwpz42Z4oo1U"
      },
      "source": [
        "#### Get the average sentiment score for each stock trading day"
      ]
    },
    {
      "cell_type": "code",
      "execution_count": null,
      "metadata": {
        "id": "yCVyIDdXoG3v"
      },
      "outputs": [],
      "source": [
        "# Group by the 'date' column and calculate the mean sentiment score for each day\n",
        "daily_sentiment = india_news.groupby('publish_date')['sentiment_score'].mean().reset_index()\n",
        "\n",
        "sent_scaler = MinMaxScaler(feature_range=(0, 1))\n",
        "\n",
        "# Rename the columns for clarity\n",
        "daily_sentiment.columns = ['publish_date', 'average_sentiment_score']\n",
        "daily_sentiment['average_sentiment_score'] = sent_scaler.fit_transform(daily_sentiment[['average_sentiment_score']])\n",
        "\n",
        "No_moving = daily_sentiment.copy(deep=True)\n",
        "\n",
        "# Transform it into Moving average\n",
        "window_size = 5\n",
        "daily_sentiment['average_sentiment_score'] = daily_sentiment['average_sentiment_score'].rolling(window=window_size).mean()\n",
        "# Drop the first four rows\n",
        "daily_sentiment = daily_sentiment.iloc[4:]\n",
        "\n",
        "# Reset the index\n",
        "daily_sentiment.reset_index(drop=True, inplace=True)\n",
        "\n",
        "daily_sentiment.head(5)"
      ]
    },
    {
      "cell_type": "markdown",
      "metadata": {
        "id": "B1_YTWdHjVn4"
      },
      "source": [
        "#### Add sentiment score to the stock price dataset based on date"
      ]
    },
    {
      "cell_type": "code",
      "execution_count": null,
      "metadata": {
        "id": "YsQzihNvjVYi"
      },
      "outputs": [],
      "source": [
        "stock_sent_df = pd.merge(stock,daily_sentiment, left_on = 'date', right_on = 'publish_date')[['date','close','average_sentiment_score']]\n",
        "stock_sent_No_moving_df = pd.merge(stock,No_moving, left_on = 'date', right_on = 'publish_date')[['date','close','average_sentiment_score']]"
      ]
    },
    {
      "cell_type": "code",
      "execution_count": null,
      "metadata": {
        "id": "jZ1tNWE_4RVy"
      },
      "outputs": [],
      "source": [
        "stock_sent_df"
      ]
    },
    {
      "cell_type": "code",
      "execution_count": null,
      "metadata": {
        "id": "zsaxky2EkDot"
      },
      "outputs": [],
      "source": [
        "total_stock = stock_sent_df.copy(deep=True)\n",
        "total_no_moving = stock_sent_No_moving_df.copy(deep=True)\n",
        "\n",
        "stock_sent_df = stock_sent_df[['close','average_sentiment_score']]\n",
        "stock_sent_df.head(5)"
      ]
    },
    {
      "cell_type": "code",
      "execution_count": null,
      "metadata": {
        "id": "8Ee_xEH9GTpV"
      },
      "outputs": [],
      "source": [
        "total_scaler = MinMaxScaler(feature_range=(0, 1))\n",
        "total_stock['close'] = total_scaler.fit_transform(total_stock[['close']])\n",
        "\n",
        "total_scaler_no_moving = MinMaxScaler(feature_range=(0, 1))\n",
        "total_no_moving['close'] = total_scaler_no_moving.fit_transform(total_no_moving[['close']])"
      ]
    },
    {
      "cell_type": "code",
      "execution_count": null,
      "metadata": {
        "id": "7w6h1WWqIBUg"
      },
      "outputs": [],
      "source": [
        "import matplotlib.pyplot as plt\n",
        "\n",
        "# Create a line chart\n",
        "plt.figure(figsize=(10, 6))\n",
        "plt.plot(total_no_moving['date'], total_no_moving['close'], label='Close')\n",
        "plt.plot(total_no_moving['date'], total_no_moving['average_sentiment_score'], label='Sentiment Score')\n",
        "\n",
        "# Customize the chart\n",
        "plt.title('Close and Sentiment Score Over Time')\n",
        "plt.xlabel('Date')\n",
        "plt.ylabel('Value')\n",
        "plt.legend(loc='best')\n",
        "\n",
        "# Display the chart\n",
        "plt.show()\n"
      ]
    },
    {
      "cell_type": "code",
      "execution_count": null,
      "metadata": {
        "id": "DKaOqyiMFjGL"
      },
      "outputs": [],
      "source": [
        "import matplotlib.pyplot as plt\n",
        "\n",
        "# Create a line chart\n",
        "plt.figure(figsize=(10, 6))\n",
        "plt.plot(total_stock['date'], total_stock['close'], label='Close')\n",
        "plt.plot(total_stock['date'], total_stock['average_sentiment_score'], label='Sentiment Score')\n",
        "\n",
        "# Customize the chart\n",
        "plt.title('Close and Moving Average Sentiment Score Over Time')\n",
        "plt.xlabel('Date')\n",
        "plt.ylabel('Value')\n",
        "plt.legend(loc='best')\n",
        "\n",
        "# Display the chart\n",
        "plt.show()\n"
      ]
    },
    {
      "cell_type": "markdown",
      "metadata": {
        "id": "VBOw-vq2hT4T"
      },
      "source": [
        "### Train a new LSTM model with the sentiment score calculated"
      ]
    },
    {
      "cell_type": "markdown",
      "metadata": {
        "id": "zomIiWStrt2L"
      },
      "source": [
        "#### Normalize the data"
      ]
    },
    {
      "cell_type": "code",
      "execution_count": null,
      "metadata": {
        "id": "zcWpq-2Nky4d"
      },
      "outputs": [],
      "source": [
        "# training_size=int(len(stock_sent_df)*0.65)\n",
        "# test_size=len(stock_sent_df)-training_size\n",
        "\n",
        "# train_data = stock_sent_df[0:training_size].copy(deep=True)\n",
        "# test_data = stock_sent_df[training_size:len(stock_sent_df)].copy(deep=True)\n",
        "\n",
        "# close_scaler = MinMaxScaler(feature_range=(0, 1))\n",
        "# train_data['close'] = close_scaler.fit_transform(train_data[['close']])\n",
        "# test_data['close'] = close_scaler.transform(test_data[['close']])\n",
        "\n",
        "# print(\"train_data: \", train_data.shape)\n",
        "# print(\"test_data: \", test_data.shape)"
      ]
    },
    {
      "cell_type": "markdown",
      "metadata": {
        "id": "PX97XWOUmx9p"
      },
      "source": [
        "#### Obtain and Split the Training and Test dataset"
      ]
    },
    {
      "cell_type": "code",
      "execution_count": null,
      "metadata": {
        "id": "ohx-xIkY0ezG"
      },
      "outputs": [],
      "source": [
        "# # convert an array of values into a dataset matrix\n",
        "# def create_dataset(dataset, time_step=1):\n",
        "#     dataX, dataY = [], []\n",
        "#     for i in range(len(dataset)-time_step-1):\n",
        "#         a = dataset.iloc[i:(i+time_step),0]  ###i=0, 0,1,2,3-----99   100 \n",
        "#         # pd.concat([a,pd.Series([dataset.iloc[i+time_step-1,1]])])\n",
        "#         a = a.append(pd.Series([dataset.iloc[i+time_step-1,1]]))\n",
        "#         # print(dataset.iloc[i+time_step-1,1])\n",
        "#         dataX.append(a)\n",
        "#         dataY.append(dataset.iloc[i + time_step,0])\n",
        "#     return np.array(dataX), np.array(dataY)"
      ]
    },
    {
      "cell_type": "code",
      "execution_count": null,
      "metadata": {
        "id": "9Mp5np7KuY8Q"
      },
      "outputs": [],
      "source": [
        "# # warnings.filterwarnings('ignore')\n",
        "\n",
        "# time_step = 15\n",
        "# X_train, y_train = create_dataset(train_data, time_step)\n",
        "# X_test, y_test = create_dataset(test_data, time_step)\n",
        "\n",
        "# print(\"X_train: \", X_train.shape)\n",
        "# print(\"y_train: \", y_train.shape)\n",
        "# print(\"X_test: \", X_test.shape)\n",
        "# print(\"y_test\", y_test.shape)"
      ]
    },
    {
      "cell_type": "code",
      "execution_count": null,
      "metadata": {
        "id": "fH6xThmnhToz"
      },
      "outputs": [],
      "source": [
        "LSS_X_train =X_train.reshape(X_train.shape[0],X_train.shape[1] , 1)\n",
        "LSS_X_test = X_test.reshape(X_test.shape[0],X_test.shape[1] , 1)"
      ]
    },
    {
      "cell_type": "markdown",
      "metadata": {
        "id": "aTe4bpfsm98k"
      },
      "source": [
        "#### Hyperparameter Tuning"
      ]
    },
    {
      "cell_type": "code",
      "execution_count": null,
      "metadata": {
        "id": "2RkLwcstkU-V"
      },
      "outputs": [],
      "source": [
        "# !pip install scikeras"
      ]
    },
    {
      "cell_type": "code",
      "execution_count": null,
      "metadata": {
        "id": "KzKYj1aVjiJm"
      },
      "outputs": [],
      "source": [
        "# # Using RandomizedGridSearchCV to find the best set of hyperparameters\n",
        "# from scikeras.wrappers import KerasRegressor\n",
        "# from sklearn.model_selection import RandomizedSearchCV\n",
        "# from tensorflow.keras.models import Sequential\n",
        "# from tensorflow.keras.layers import LSTM, Dense, Dropout\n",
        "\n",
        "# def create_model(lstm_size=96, dropout_rate=0.3):\n",
        "#     tf.keras.backend.clear_session()\n",
        "#     model = Sequential()\n",
        "#     model.add(LSTM(lstm_size, return_sequences=True, input_shape=(time_step+1, 1)))\n",
        "#     model.add(Dropout(dropout_rate))\n",
        "#     model.add(LSTM(lstm_size, return_sequences=True))\n",
        "#     model.add(Dropout(dropout_rate))\n",
        "#     model.add(LSTM(lstm_size))\n",
        "#     model.add(Dense(1))\n",
        "#     model.compile(loss='mean_squared_error', optimizer='adam')\n",
        "#     return model\n",
        "\n",
        "# param_grid = {\n",
        "#     'model__lstm_size': [32, 64, 96, 128],\n",
        "#     'model__dropout_rate': [0.2, 0.3, 0.4, 0.5]\n",
        "# }\n",
        "\n",
        "# model = KerasRegressor(model=create_model, epochs=70, batch_size=5, verbose=0)\n",
        "\n",
        "# grid = RandomizedSearchCV(estimator=model, param_distributions=param_grid, n_iter=10, n_jobs=-1, cv=3)\n",
        "# grid_result = grid.fit(X_train, y_train, validation_data=(X_test, y_test))\n",
        "\n",
        "# print(\"Best parameters found: \", grid_result.best_params_)\n"
      ]
    },
    {
      "cell_type": "markdown",
      "metadata": {
        "id": "R5AXH8pGnLz2"
      },
      "source": [
        "#### Model Training with the selected hyperparameters"
      ]
    },
    {
      "cell_type": "code",
      "execution_count": null,
      "metadata": {
        "id": "rd8hPEivkjjt"
      },
      "outputs": [],
      "source": [
        "tf.keras.backend.clear_session()\n",
        "LSmodel = Sequential()\n",
        "LSmodel.add(LSTM(128, return_sequences=True, input_shape=(time_step+1, 1)))\n",
        "LSmodel.add(Dropout(0.5))\n",
        "LSmodel.add(LSTM(128, return_sequences=True))\n",
        "LSmodel.add(Dropout(0.5))\n",
        "LSmodel.add(LSTM(128))\n",
        "LSmodel.add(Dropout(0.5))\n",
        "LSmodel.add(Dense(1))\n",
        "LSmodel.compile(loss='mean_squared_error', optimizer='adam')\n"
      ]
    },
    {
      "cell_type": "code",
      "execution_count": null,
      "metadata": {
        "id": "f1VJrfTskj6x"
      },
      "outputs": [],
      "source": [
        "LSmodel.summary()"
      ]
    },
    {
      "cell_type": "code",
      "execution_count": null,
      "metadata": {
        "id": "-39SWEkVkm0v"
      },
      "outputs": [],
      "source": [
        "LSS_history = LSmodel.fit(LSS_X_train,y_train,validation_data=(LSS_X_test,y_test),epochs=250,batch_size=5,verbose=1)"
      ]
    },
    {
      "cell_type": "code",
      "execution_count": null,
      "metadata": {
        "id": "_Hu21ODGKPLr"
      },
      "outputs": [],
      "source": [
        "import matplotlib.pyplot as plt\n",
        "\n",
        "# Plot the training and validation loss\n",
        "plt.figure(figsize=(10, 6))\n",
        "plt.plot(LSS_history.history['loss'], label='Training Loss')\n",
        "plt.plot(LSS_history.history['val_loss'], label='Validation Loss')\n",
        "\n",
        "# Customize the chart\n",
        "plt.title('Training and Validation Loss')\n",
        "plt.xlabel('Epoch')\n",
        "plt.ylabel('Loss')\n",
        "plt.legend(loc='best')\n",
        "plt.grid()\n",
        "\n",
        "# Display the chart\n",
        "plt.show()\n"
      ]
    },
    {
      "cell_type": "code",
      "execution_count": null,
      "metadata": {
        "id": "0QONoUtZkp9B"
      },
      "outputs": [],
      "source": [
        "### Lets Do the prediction and check performance metrics\n",
        "LSS_train_predict=LSmodel.predict(LSS_X_train)\n",
        "LSS_test_predict=LSmodel.predict(LSS_X_test)\n",
        "LSS_train_predict.shape, LSS_test_predict.shape"
      ]
    },
    {
      "cell_type": "code",
      "execution_count": null,
      "metadata": {
        "id": "rAoGh5kgktGE"
      },
      "outputs": [],
      "source": [
        "# Transform back to original form\n",
        "\n",
        "LSS_train_predict = close_scaler.inverse_transform(LSS_train_predict)\n",
        "LSS_test_predict = close_scaler.inverse_transform(LSS_test_predict)\n",
        "LSS_original_ytrain = close_scaler.inverse_transform(y_train.reshape(-1,1)) \n",
        "LSS_original_ytest = close_scaler.inverse_transform(y_test.reshape(-1,1))"
      ]
    },
    {
      "cell_type": "markdown",
      "metadata": {
        "id": "ieZgjTvdA-Du"
      },
      "source": [
        "### Evaluation \n",
        "**RMSE, MSE and MAE**\n",
        "\n",
        "Root Mean Square Error (RMSE), Mean Square Error (MSE) and Mean absolute Error (MAE) are a standard way to measure the error of a model in predicting quantitative data."
      ]
    },
    {
      "cell_type": "code",
      "execution_count": null,
      "metadata": {
        "id": "ZODlmr88A-D2"
      },
      "outputs": [],
      "source": [
        "# # Evaluation metrices RMSE and MAE\n",
        "# print(\"Train data RMSE: \", math.sqrt(mean_squared_error(original_ytrain,train_predict)))\n",
        "# print(\"Train data MSE: \", mean_squared_error(original_ytrain,train_predict))\n",
        "# print(\"Train data MAE: \", mean_absolute_error(original_ytrain,train_predict))\n",
        "# print(\"-------------------------------------------------------------------------------------\")\n",
        "# print(\"Test data RMSE: \", math.sqrt(mean_squared_error(original_ytest,test_predict)))\n",
        "# print(\"Test data MSE: \", mean_squared_error(original_ytest,test_predict))\n",
        "# print(\"Test data MAE: \", mean_absolute_error(original_ytest,test_predict))"
      ]
    },
    {
      "cell_type": "markdown",
      "metadata": {
        "id": "f_HHPqv4A-D2"
      },
      "source": [
        "**variance regression score**\n",
        "\n",
        "The explained variance score explains the dispersion of errors of a given dataset, and the formula is written as follows: Here, and Var(y) is the variance of prediction errors and actual values respectively. Scores close to 1.0 are highly desired, indicating better squares of standard deviations of errors."
      ]
    },
    {
      "cell_type": "code",
      "execution_count": null,
      "metadata": {
        "id": "O1s-2rxHA-D2"
      },
      "outputs": [],
      "source": [
        "# print(\"Train data explained variance regression score:\", explained_variance_score(original_ytrain, train_predict))\n",
        "# print(\"Test data explained variance regression score:\", explained_variance_score(original_ytest, test_predict))"
      ]
    },
    {
      "cell_type": "markdown",
      "metadata": {
        "id": "Rwa9OuT-A-D3"
      },
      "source": [
        "**R2 score**\n",
        "R-squared (R2) is a statistical measure that represents the proportion of the variance for a dependent variable that's explained by an independent variable or variables in a regression model.\n",
        "\n",
        "1 = Best \\\\\n",
        "\n",
        "0 or < 0 = worse"
      ]
    },
    {
      "cell_type": "code",
      "execution_count": null,
      "metadata": {
        "id": "uGJx7EstA-D3"
      },
      "outputs": [],
      "source": [
        "# print(\"Train data R2 score:\", r2_score(original_ytrain, train_predict))\n",
        "# print(\"Test data R2 score:\", r2_score(original_ytest, test_predict))"
      ]
    },
    {
      "cell_type": "markdown",
      "metadata": {
        "id": "fOMURKQcA-D3"
      },
      "source": [
        "**MGD,MPD**\n",
        "Regression Loss Mean Gamma deviance regression loss (MGD) and Mean Poisson deviance regression loss (MPD)"
      ]
    },
    {
      "cell_type": "code",
      "execution_count": null,
      "metadata": {
        "id": "DfYMfFFHA-D3"
      },
      "outputs": [],
      "source": [
        "# print(\"Train data MGD: \", mean_gamma_deviance(original_ytrain, train_predict))\n",
        "# print(\"Test data MGD: \", mean_gamma_deviance(original_ytest, test_predict))\n",
        "# print(\"----------------------------------------------------------------------\")\n",
        "# print(\"Train data MPD: \", mean_poisson_deviance(original_ytrain, train_predict))\n",
        "# print(\"Test data MPD: \", mean_poisson_deviance(original_ytest, test_predict))"
      ]
    },
    {
      "cell_type": "markdown",
      "metadata": {
        "id": "LY6uYaSSA-D3"
      },
      "source": [
        "### Comparision \n",
        "**between original stock close price vs predicted close price**"
      ]
    },
    {
      "cell_type": "code",
      "execution_count": null,
      "metadata": {
        "id": "aZ51_TK2A-D3"
      },
      "outputs": [],
      "source": [
        "# # shift train predictions for plotting\n",
        "\n",
        "# look_back=time_step\n",
        "# trainPredictPlot = np.empty_like(stock_sent_df[['close']])\n",
        "# trainPredictPlot[:, :] = np.nan\n",
        "# trainPredictPlot[look_back:len(train_predict)+look_back, :] = train_predict\n",
        "# print(\"Train predicted data: \", trainPredictPlot.shape)\n",
        "\n",
        "# # shift test predictions for plotting\n",
        "# testPredictPlot = np.empty_like(stock_sent_df[['close']])\n",
        "# testPredictPlot[:, :] = np.nan\n",
        "\n",
        "# start_idx = len(train_predict) + (look_back * 2)\n",
        "# end_idx = start_idx + len(test_predict)\n",
        "\n",
        "# for i in range(start_idx, end_idx):\n",
        "#     testPredictPlot[i, :] = test_predict[i - start_idx, :]\n",
        "    \n",
        "# print(\"Test predicted data: \", testPredictPlot.shape)\n",
        "\n",
        "# names = cycle(['Original close price','Train predicted close price','Test predicted close price'])\n",
        "\n",
        "\n",
        "# plotdf = pd.DataFrame({'date': total_stock['date'].tolist(),\n",
        "#                        'original_close': total_scaler.inverse_transform(total_stock[['close']]).reshape(-1),\n",
        "#                       'train_predicted_close': trainPredictPlot.reshape(1,-1)[0].tolist(),\n",
        "#                       'test_predicted_close': testPredictPlot.reshape(1,-1)[0].tolist()})\n",
        "\n",
        "# fig = px.line(plotdf,x=plotdf['date'], y=[plotdf['original_close'],plotdf['train_predicted_close'],\n",
        "#                                           plotdf['test_predicted_close']],\n",
        "#               labels={'value':'Stock price','date': 'Date'})\n",
        "# fig.update_layout(title_text='Comparision between original close price vs predicted close price',\n",
        "#                   plot_bgcolor='white', font_size=15, font_color='black', legend_title_text='Close Price')\n",
        "# fig.for_each_trace(lambda t:  t.update(name = next(names)))\n",
        "\n",
        "# fig.update_xaxes(showgrid=False)\n",
        "# fig.update_yaxes(showgrid=False)\n",
        "# fig.show()"
      ]
    },
    {
      "cell_type": "markdown",
      "metadata": {
        "id": "22OqIcFOeOrp"
      },
      "source": [
        "## ARIMA"
      ]
    },
    {
      "cell_type": "markdown",
      "metadata": {
        "id": "UZEpIDudIwUw"
      },
      "source": [
        "Before we train the ARIMA model, we first do the ADF test to check whether the dataset is stationary.\n",
        "\n",
        "the ADF test can be used to identify the degree of differencing needed to make the series stationary. The value of p in the ARIMA model can be determined by examining the autocorrelation function (ACF) of the differenced series. The value of q can be determined by examining the partial autocorrelation function (PACF) of the differenced series. The appropriate values of p, d, and q can then be used to fit the ARIMA model to the data and make forecasts.\n",
        "\n",
        "\n"
      ]
    },
    {
      "cell_type": "markdown",
      "metadata": {
        "id": "6NmgFusaoH8q"
      },
      "source": [
        "### ADF test"
      ]
    },
    {
      "cell_type": "code",
      "execution_count": null,
      "metadata": {
        "id": "tmdd7Zlnj5M4"
      },
      "outputs": [],
      "source": [
        "pip install pmdarima"
      ]
    },
    {
      "cell_type": "code",
      "execution_count": null,
      "metadata": {
        "id": "jep08lJ3jodh"
      },
      "outputs": [],
      "source": [
        "import os\n",
        "import warnings\n",
        "warnings.filterwarnings('ignore')\n",
        "import numpy as np\n",
        "import pandas as pd\n",
        "import matplotlib.pyplot as plt\n",
        "plt.style.use('fivethirtyeight')\n",
        "from pylab import rcParams\n",
        "rcParams['figure.figsize'] = 10, 6\n",
        "from statsmodels.tsa.stattools import adfuller\n",
        "from statsmodels.tsa.seasonal import seasonal_decompose\n",
        "from statsmodels.tsa.arima.model import ARIMA\n",
        "from pmdarima.arima import auto_arima\n",
        "from pandas.plotting import lag_plot\n",
        "from sklearn.metrics import mean_squared_error, mean_absolute_error\n",
        "import math"
      ]
    },
    {
      "cell_type": "code",
      "source": [
        "# Create a figure and axis\n",
        "fig, ax = plt.subplots()\n",
        "\n",
        "# Plot the training data\n",
        "ax.plot(train_data, 'blue', label='Training Data')\n",
        "\n",
        "# Plot the testing data with a line connecting it to the training data\n",
        "ax.plot(np.arange(training_size-1, training_size+len(test_data)-1), test_data, 'green', label='Testing Data')\n",
        "# ax.plot([training_size-1, training_size], [train_data[-1], test_data[0]], 'black', linestyle='--')\n",
        "\n",
        "# Set the x-ticks and labels\n",
        "xtick_positions = np.arange(0, len(train_data) + len(test_data), len(test_data))\n",
        "ax.set_xticks(xtick_positions)\n",
        "\n",
        "# Add a legend\n",
        "ax.legend()\n",
        "plt.title('Close Prices')\n",
        "plt.xlabel('Dates')\n",
        "plt.ylabel('Prices')\n",
        "\n",
        "# Show the plot\n",
        "plt.show()\n",
        "\n"
      ],
      "metadata": {
        "id": "uM6KDKrPZfrb"
      },
      "execution_count": null,
      "outputs": []
    },
    {
      "cell_type": "code",
      "source": [
        "fig = plt.figure(figsize=(12, 8))\n",
        "for i in range(12):\n",
        "  plt.subplot(3, 4, i+1)\n",
        "  lag_plot(pd.DataFrame(train_data), lag=i+1)\n",
        "  plt.title('Lag {}'.format(i))\n",
        "plt.tight_layout()\n",
        "plt.show()"
      ],
      "metadata": {
        "id": "OUBYgvZvxO3E"
      },
      "execution_count": null,
      "outputs": []
    },
    {
      "cell_type": "code",
      "source": [
        "model = auto_arima(train_data, trace=True, error_action=\"ignore\", suppress_warnings=True)\n",
        "model.fit(train_data)\n",
        "\n",
        "# forecast = model.predict(n_periods=len(df_valid), exogenous=df_valid[exogenous_features])\n",
        "# df_valid[\"Forecast_ARIMAX\"] = forecast"
      ],
      "metadata": {
        "id": "1VJFv_2FoxsM"
      },
      "execution_count": null,
      "outputs": []
    },
    {
      "cell_type": "code",
      "source": [
        "# model = ARIMA(train_data, order=(0,1,0))\n",
        "# model_fit = model.fit()\n",
        "#generate future predictions\n",
        "warnings.filterwarnings('ignore')\n",
        "pred = []\n",
        "hist = [x for x in train_data]\n",
        "for t in range(len(test_data)):\n",
        "    # print(hist)\n",
        "    model = ARIMA(hist, order=(0,1,0))\n",
        "    model_fit = model.fit()\n",
        "    output = model_fit.forecast()\n",
        "    yhat = output[0]\n",
        "    # print(yhat)\n",
        "    pred.append(yhat)\n",
        "    obs = test_data[t]\n",
        "    hist.append(obs)\n",
        "    "
      ],
      "metadata": {
        "id": "jHRWyQ-0yXqT"
      },
      "execution_count": null,
      "outputs": []
    },
    {
      "cell_type": "code",
      "source": [
        "ar_err = mean_squared_error(test_data, pred)\n",
        "# Create a figure and axis\n",
        "fig, ax = plt.subplots()\n",
        "\n",
        "# Plot the training data\n",
        "ax.plot(test_data, 'blue', label='Test Data')\n",
        "\n",
        "# Plot the testing data with a line connecting it to the training data\n",
        "ax.plot(pred, 'green', label='Predicted Value')\n",
        "\n",
        "# Add a legend\n",
        "ax.legend()\n",
        "# plt.title('Close Prices\\n MSE: ', ar_err)\n",
        "plt.xlabel('Dates')\n",
        "plt.ylabel('Prices')\n",
        "\n",
        "# Show the plot\n",
        "plt.show()"
      ],
      "metadata": {
        "id": "thhJpyZwDcVV"
      },
      "execution_count": null,
      "outputs": []
    },
    {
      "cell_type": "code",
      "execution_count": null,
      "metadata": {
        "id": "wSX_IqmUJZIa"
      },
      "outputs": [],
      "source": [
        "def test_stationarity(timeseries):\n",
        "    #Determing rolling statistics\n",
        "    rolmean = timeseries.rolling(12).mean()\n",
        "    rolstd = timeseries.rolling(12).std()\n",
        "    #Plot rolling statistics:\n",
        "    plt.plot(timeseries, color='blue',label='Original')\n",
        "    plt.plot(rolmean, color='red', label='Rolling Mean')\n",
        "    plt.plot(rolstd, color='black', label = 'Rolling Std')\n",
        "    plt.legend(loc='best')\n",
        "    plt.title('Rolling Mean and Standard Deviation')\n",
        "    plt.show(block=False)\n",
        "    \n",
        "    print(\"Results of dickey fuller test\")\n",
        "    adft = adfuller(timeseries,autolag='AIC')\n",
        "    # output for dft will give us without defining what the values are.\n",
        "    #hence we manually write what values does it explains using a for loop\n",
        "    output = pd.Series(adft[0:4],index=['Test Statistics','p-value','No. of lags used','Number of observations used'])\n",
        "    for key,values in adft[4].items():\n",
        "        output['critical value (%s)'%key] =  values\n",
        "    print(output)"
      ]
    },
    {
      "cell_type": "code",
      "execution_count": null,
      "metadata": {
        "id": "OhVZE4VOJ2IP"
      },
      "outputs": [],
      "source": [
        "test_stationarity(pd.Series(train_data.reshape(train_data.shape[0])))"
      ]
    },
    {
      "cell_type": "markdown",
      "metadata": {
        "id": "JLpycqQ2naGY"
      },
      "source": [
        "From the above graph, we notice that the roling mean is not stationary. Moreover, the ADF test gives p-value=0.26, which is greater than 0.05, so we cannot reject the Null hypothesis and the time series is not stationary.\n",
        "\n",
        "In order to build an ARIMA model, we have to move trend and seasonality from the data."
      ]
    },
    {
      "cell_type": "markdown",
      "source": [
        "#### 概括一下"
      ],
      "metadata": {
        "id": "xlHBjbnSqP9_"
      }
    },
    {
      "cell_type": "markdown",
      "source": [
        "A time series with stationary moving standard deviation but non-stationary moving average implies that the variance of the time series is constant over time, but the mean of the time series is changing over time. This can happen, for example, when the time series has a trend or a cyclic pattern.\n",
        "\n",
        "A stationary moving standard deviation means that the variability of the time series is consistent over time, and there is no systematic change in the spread of the data. This is an important property of time series analysis, as it enables the use of statistical methods that rely on the assumption of a constant variance over time, such as the calculation of confidence intervals or the construction of statistical tests.\n",
        "\n",
        "On the other hand, a non-stationary moving average means that the mean of the time series is changing over time, which violates the assumption of stationarity. A non-stationary time series can be more difficult to analyze, as the mean, variance, or both may change over time, making it harder to make accurate predictions or to identify patterns in the data.\n",
        "\n",
        "To deal with a time series with a non-stationary moving average, you can try to apply a differencing operation, which involves subtracting the previous value of the time series from the current value. This can remove the trend or cyclic pattern from the time series and convert it into a stationary time series with a constant mean and variance. Alternatively, you can use more sophisticated models that can handle non-stationary time series, such as autoregressive integrated moving average (ARIMA) or state space models."
      ],
      "metadata": {
        "id": "MHzzSSgWqOgf"
      }
    },
    {
      "cell_type": "markdown",
      "source": [
        "### Trend Elimination-Differencing"
      ],
      "metadata": {
        "id": "1Gf9Kmx7p6PW"
      }
    },
    {
      "cell_type": "code",
      "source": [
        "ts = pd.Series(train_data.reshape(train_data.shape[0]))\n",
        "plt.plot(ts,label='Original')\n",
        "\n",
        "# apply differencing to make the time series stationary\n",
        "ts_diff = ts.diff().dropna()\n",
        "\n",
        "# plot the differenced time series\n",
        "plt.plot(ts_diff,label='Differenced')\n",
        "plt.legend()\n",
        "plt.title('Original data and After differencing')\n",
        "plt.show()"
      ],
      "metadata": {
        "id": "9mCgZfv7rSwQ"
      },
      "execution_count": null,
      "outputs": []
    },
    {
      "cell_type": "markdown",
      "source": [
        "### ADF test "
      ],
      "metadata": {
        "id": "0X-YPK6RwwzX"
      }
    },
    {
      "cell_type": "code",
      "source": [
        "test_stationarity(ts_diff)"
      ],
      "metadata": {
        "id": "58OQW0hqw0gX"
      },
      "execution_count": null,
      "outputs": []
    },
    {
      "cell_type": "markdown",
      "source": [
        "As we can see, after differencing, the rolling mean and standard deviation are approximately horizontal. The p-value is below the threshold of 0.05 and the ADF Statistic is close to the critical values. Therefore, the time series is stationary."
      ],
      "metadata": {
        "id": "IedZSZvg4P98"
      }
    },
    {
      "cell_type": "code",
      "source": [
        "plt.rcParams.update({'figure.figsize':(9,7), 'figure.dpi':120})\n",
        "\n",
        "# Original Series\n",
        "fig, axes = plt.subplots(3, 2, sharex=True)\n",
        "axes[0, 0].plot(dataset2['Close'].values); axes[0, 0].set_title('Original Series')\n",
        "plot_acf(dataset2['Close'].values, ax = axes[0, 1])\n",
        "\n",
        "# 1st Differencing\n",
        "axes[1, 0].plot(dataset2['Close'].diff()); axes[1, 0].set_title('1st Order Differencing')\n",
        "plot_acf(dataset2['Close'].diff().dropna(), ax = axes[1, 1])\n",
        "\n",
        "# 2nd Differencing\n",
        "axes[2, 0].plot(dataset2['Close'].diff().diff()); axes[2, 0].set_title('2nd Order Differencing')\n",
        "plot_acf(dataset2['Close'].diff().diff().dropna(), ax = axes[2, 1])\n",
        "\n",
        "plt.show()"
      ],
      "metadata": {
        "id": "sNBeZ8tTcM7r"
      },
      "execution_count": null,
      "outputs": []
    },
    {
      "cell_type": "markdown",
      "source": [
        "## Model"
      ],
      "metadata": {
        "id": "6wBChwz48KSX"
      }
    },
    {
      "cell_type": "code",
      "source": [
        "pip install pmdarima"
      ],
      "metadata": {
        "id": "aROxCjzLEVBw"
      },
      "execution_count": null,
      "outputs": []
    },
    {
      "cell_type": "code",
      "source": [
        "import pmdarima\n",
        "from statsmodels.tsa.seasonal import seasonal_decompose\n",
        "from statsmodels.tsa.arima_model import ARIMA\n",
        "from pmdarima.arima import auto_arima"
      ],
      "metadata": {
        "id": "3hUhaoC-2QLU"
      },
      "execution_count": null,
      "outputs": []
    },
    {
      "cell_type": "code",
      "source": [
        "model_autoARIMA = auto_arima(train_data, start_p=0, start_q=0,\n",
        "                      test='adf',       # use adftest to find optimal 'd'\n",
        "                      max_p=5, max_q=5, # maximum p and q\n",
        "                      m=1,              # frequency of series\n",
        "                      d=None,           # let model determine 'd'\n",
        "                      seasonal=False,   # No Seasonality\n",
        "                      start_P=0, \n",
        "                      D=1, \n",
        "                      trace=True,\n",
        "                      error_action='ignore',  \n",
        "                      suppress_warnings=True, \n",
        "                      stepwise=False)\n",
        "print(model_autoARIMA.summary())\n",
        "model_autoARIMA.plot_diagnostics(figsize=(15,8))\n",
        "plt.show()"
      ],
      "metadata": {
        "id": "uRHcQr7a9e6f"
      },
      "execution_count": null,
      "outputs": []
    },
    {
      "cell_type": "markdown",
      "source": [
        "The AutoARIMA gives parameter values: p= d = q= 0. "
      ],
      "metadata": {
        "id": "As0KvMpB9272"
      }
    },
    {
      "cell_type": "code",
      "source": [
        "#Modeling\n",
        "# Build Model\n",
        "model = ARIMA(train_data, order=(1,1,2))  \n",
        "fitted = model.fit(disp=-1)  \n",
        "print(fitted.summary())"
      ],
      "metadata": {
        "id": "EbFcXBx_99-G"
      },
      "execution_count": null,
      "outputs": []
    },
    {
      "cell_type": "markdown",
      "metadata": {
        "id": "d5mkWAbPeYVF"
      },
      "source": [
        "## STACKING"
      ]
    },
    {
      "cell_type": "markdown",
      "source": [
        "# LOG RETURN"
      ],
      "metadata": {
        "id": "hMY48oRd0CtN"
      }
    },
    {
      "cell_type": "code",
      "source": [
        "train_data.shape"
      ],
      "metadata": {
        "colab": {
          "base_uri": "https://localhost:8080/"
        },
        "id": "oQ8MDvduVA-y",
        "outputId": "dfb2534d-4cb0-4c96-9202-aeb4b60d1b60"
      },
      "execution_count": null,
      "outputs": [
        {
          "output_type": "execute_result",
          "data": {
            "text/plain": [
              "(161, 1)"
            ]
          },
          "metadata": {},
          "execution_count": 172
        }
      ]
    },
    {
      "cell_type": "code",
      "source": [
        "logR = np.diff(np.log(stock['close']))"
      ],
      "metadata": {
        "id": "34QARs_l0vLx"
      },
      "execution_count": null,
      "outputs": []
    },
    {
      "cell_type": "code",
      "source": [
        "log_train_data,log_test_data=logR[0:training_size].reshape(training_size,1),logR[training_size:len(closedf)].reshape(len(closedf)-training_size-1,1)\n",
        "print(\"train_data: \", log_train_data.shape)\n",
        "print(\"test_data: \", log_test_data.shape)"
      ],
      "metadata": {
        "colab": {
          "base_uri": "https://localhost:8080/"
        },
        "id": "GCWfkud8Ue_F",
        "outputId": "02db3932-ce7f-4b06-9c6f-9ee04aab3aad"
      },
      "execution_count": null,
      "outputs": [
        {
          "output_type": "stream",
          "name": "stdout",
          "text": [
            "train_data:  (161, 1)\n",
            "test_data:  (87, 1)\n"
          ]
        }
      ]
    },
    {
      "cell_type": "code",
      "source": [
        "time_step = 15\n",
        "log_X_train, log_y_train = create_dataset(log_train_data, time_step)\n",
        "log_X_test, log_y_test = create_dataset(log_test_data, time_step)\n",
        "\n",
        "# print(\"X_train: \", X_train.shape)\n",
        "# print(\"y_train: \", y_train.shape)\n",
        "# print(\"X_test: \", X_test.shape)\n",
        "# print(\"y_test\", y_test.shape)"
      ],
      "metadata": {
        "id": "NRX_J13s4oS7"
      },
      "execution_count": null,
      "outputs": []
    },
    {
      "cell_type": "code",
      "source": [
        "log_CNN_X_train = np.array(X_train)\n",
        "log_CNN_X_test = np.array(X_test)\n",
        "\n",
        "\n",
        "log_CNN_X_train = log_CNN_X_train .reshape(log_CNN_X_train .shape[0],1,time_step,1)\n",
        "log_CNN_X_test = log_CNN_X_test.reshape(log_CNN_X_test.shape[0],1,time_step,1)"
      ],
      "metadata": {
        "id": "vsoPDLBPVTz2"
      },
      "execution_count": null,
      "outputs": []
    },
    {
      "cell_type": "code",
      "source": [
        "log_CLhistory = CLmodel.fit(log_CNN_X_train, log_y_train, validation_data=(log_CNN_X_test,log_y_test), epochs=100,batch_size=10, verbose=1, shuffle =True)"
      ],
      "metadata": {
        "id": "G3LRb7wLVeka",
        "outputId": "acf6eefc-4006-4ff1-8986-63da86251c9d",
        "colab": {
          "base_uri": "https://localhost:8080/",
          "height": 398
        }
      },
      "execution_count": null,
      "outputs": [
        {
          "output_type": "stream",
          "name": "stdout",
          "text": [
            "Epoch 1/100\n",
            "13/15 [=========================>....] - ETA: 0s - loss: 0.0767 - mse: 0.0767 - mae: 0.1978"
          ]
        },
        {
          "output_type": "error",
          "ename": "ValueError",
          "evalue": "ignored",
          "traceback": [
            "\u001b[0;31m---------------------------------------------------------------------------\u001b[0m",
            "\u001b[0;31mValueError\u001b[0m                                Traceback (most recent call last)",
            "\u001b[0;32m<ipython-input-178-e6cb636ea3b1>\u001b[0m in \u001b[0;36m<cell line: 1>\u001b[0;34m()\u001b[0m\n\u001b[0;32m----> 1\u001b[0;31m \u001b[0mlog_CLhistory\u001b[0m \u001b[0;34m=\u001b[0m \u001b[0mCLmodel\u001b[0m\u001b[0;34m.\u001b[0m\u001b[0mfit\u001b[0m\u001b[0;34m(\u001b[0m\u001b[0mlog_CNN_X_train\u001b[0m\u001b[0;34m,\u001b[0m \u001b[0mlog_y_train\u001b[0m\u001b[0;34m,\u001b[0m \u001b[0mvalidation_data\u001b[0m\u001b[0;34m=\u001b[0m\u001b[0;34m(\u001b[0m\u001b[0mlog_CNN_X_test\u001b[0m\u001b[0;34m,\u001b[0m\u001b[0mlog_y_test\u001b[0m\u001b[0;34m)\u001b[0m\u001b[0;34m,\u001b[0m \u001b[0mepochs\u001b[0m\u001b[0;34m=\u001b[0m\u001b[0;36m100\u001b[0m\u001b[0;34m,\u001b[0m\u001b[0mbatch_size\u001b[0m\u001b[0;34m=\u001b[0m\u001b[0;36m10\u001b[0m\u001b[0;34m,\u001b[0m \u001b[0mverbose\u001b[0m\u001b[0;34m=\u001b[0m\u001b[0;36m1\u001b[0m\u001b[0;34m,\u001b[0m \u001b[0mshuffle\u001b[0m \u001b[0;34m=\u001b[0m\u001b[0;32mTrue\u001b[0m\u001b[0;34m)\u001b[0m\u001b[0;34m\u001b[0m\u001b[0;34m\u001b[0m\u001b[0m\n\u001b[0m",
            "\u001b[0;32m/usr/local/lib/python3.9/dist-packages/keras/utils/traceback_utils.py\u001b[0m in \u001b[0;36merror_handler\u001b[0;34m(*args, **kwargs)\u001b[0m\n\u001b[1;32m     68\u001b[0m             \u001b[0;31m# To get the full stack trace, call:\u001b[0m\u001b[0;34m\u001b[0m\u001b[0;34m\u001b[0m\u001b[0m\n\u001b[1;32m     69\u001b[0m             \u001b[0;31m# `tf.debugging.disable_traceback_filtering()`\u001b[0m\u001b[0;34m\u001b[0m\u001b[0;34m\u001b[0m\u001b[0m\n\u001b[0;32m---> 70\u001b[0;31m             \u001b[0;32mraise\u001b[0m \u001b[0me\u001b[0m\u001b[0;34m.\u001b[0m\u001b[0mwith_traceback\u001b[0m\u001b[0;34m(\u001b[0m\u001b[0mfiltered_tb\u001b[0m\u001b[0;34m)\u001b[0m \u001b[0;32mfrom\u001b[0m \u001b[0;32mNone\u001b[0m\u001b[0;34m\u001b[0m\u001b[0;34m\u001b[0m\u001b[0m\n\u001b[0m\u001b[1;32m     71\u001b[0m         \u001b[0;32mfinally\u001b[0m\u001b[0;34m:\u001b[0m\u001b[0;34m\u001b[0m\u001b[0;34m\u001b[0m\u001b[0m\n\u001b[1;32m     72\u001b[0m             \u001b[0;32mdel\u001b[0m \u001b[0mfiltered_tb\u001b[0m\u001b[0;34m\u001b[0m\u001b[0;34m\u001b[0m\u001b[0m\n",
            "\u001b[0;32m/usr/local/lib/python3.9/dist-packages/keras/engine/data_adapter.py\u001b[0m in \u001b[0;36m_check_data_cardinality\u001b[0;34m(data)\u001b[0m\n\u001b[1;32m   1850\u001b[0m             )\n\u001b[1;32m   1851\u001b[0m         \u001b[0mmsg\u001b[0m \u001b[0;34m+=\u001b[0m \u001b[0;34m\"Make sure all arrays contain the same number of samples.\"\u001b[0m\u001b[0;34m\u001b[0m\u001b[0;34m\u001b[0m\u001b[0m\n\u001b[0;32m-> 1852\u001b[0;31m         \u001b[0;32mraise\u001b[0m \u001b[0mValueError\u001b[0m\u001b[0;34m(\u001b[0m\u001b[0mmsg\u001b[0m\u001b[0;34m)\u001b[0m\u001b[0;34m\u001b[0m\u001b[0;34m\u001b[0m\u001b[0m\n\u001b[0m\u001b[1;32m   1853\u001b[0m \u001b[0;34m\u001b[0m\u001b[0m\n\u001b[1;32m   1854\u001b[0m \u001b[0;34m\u001b[0m\u001b[0m\n",
            "\u001b[0;31mValueError\u001b[0m: Data cardinality is ambiguous:\n  x sizes: 72\n  y sizes: 71\nMake sure all arrays contain the same number of samples."
          ]
        }
      ]
    },
    {
      "cell_type": "code",
      "source": [
        "#import dataset\n",
        "rel = pd.read_csv('drive/Shareddrives/519/dataset/RELIANCE.csv')"
      ],
      "metadata": {
        "id": "t-MMR1zWYWsJ"
      },
      "execution_count": null,
      "outputs": []
    },
    {
      "cell_type": "markdown",
      "metadata": {
        "id": "jfspTVHsefEV"
      },
      "source": [
        "# FORECAST"
      ]
    },
    {
      "cell_type": "code",
      "source": [
        "import yfinance as yf\n",
        "import pandas as pd\n",
        "import numpy as np\n",
        "\n",
        "# Define the stock symbol and the date range for which you want to download the data\n",
        "symbol = 'TCS.NS'\n",
        "start_date = '2020-08-19'\n",
        "end_date = '2021-08-18'\n",
        "\n",
        "# Download the historical stock prices\n",
        "TATA_stock = yf.download(symbol, start=start_date, end=end_date)\n",
        "\n",
        "# Check if there are any zero values in the DataFrame\n",
        "if (TATA_stock == 0).any().any():\n",
        "    print(\"There are zero values in the DataFrame.\")\n",
        "else:\n",
        "    print(\"There are no zero values in the DataFrame.\")"
      ],
      "metadata": {
        "id": "e-B97KpV5foW"
      },
      "execution_count": null,
      "outputs": []
    },
    {
      "cell_type": "code",
      "source": [
        "tata_df = stock_sent_df.copy()"
      ],
      "metadata": {
        "id": "N9tPr7iT6ZGC"
      },
      "execution_count": null,
      "outputs": []
    },
    {
      "cell_type": "code",
      "source": [
        "tata_df = tata_df.reset_index(drop=True)\n",
        "TATA_stock = TATA_stock.reset_index(drop=True)\n",
        "tata_df['close'] = TATA_stock['Close']"
      ],
      "metadata": {
        "id": "VgL3bRcW6iPs"
      },
      "execution_count": null,
      "outputs": []
    },
    {
      "cell_type": "code",
      "source": [
        "tata_scaler=MinMaxScaler(feature_range=(0,1))\n",
        "tata_close=tata_scaler.fit_transform(np.array(TATA_stock['Close']).reshape(-1,1))"
      ],
      "metadata": {
        "id": "moY2VB1NYj7h"
      },
      "execution_count": null,
      "outputs": []
    },
    {
      "cell_type": "code",
      "source": [
        "X_tata, y_tata = create_dataset(tata_df, time_step)"
      ],
      "metadata": {
        "id": "aefhLQjp9YJ2"
      },
      "execution_count": null,
      "outputs": []
    },
    {
      "cell_type": "code",
      "source": [
        "### Lets Do the prediction and check performance metrics\n",
        "tata_predict=LSmodel.predict(X_tata)"
      ],
      "metadata": {
        "id": "xSa3AHD38vrN"
      },
      "execution_count": null,
      "outputs": []
    },
    {
      "cell_type": "code",
      "source": [
        "tata_predict = tata_scaler.inverse_transform(tata_predict)\n",
        "original_ytata = tata_scaler.inverse_transform(y_tata.reshape(-1,1)) "
      ],
      "metadata": {
        "id": "qrqzLxL1-2Ka"
      },
      "execution_count": null,
      "outputs": []
    },
    {
      "cell_type": "code",
      "source": [
        "# Plot the training and validation loss\n",
        "plt.figure(figsize=(10, 6))\n",
        "plt.plot(y_tata, label='Actual')\n",
        "plt.plot(tata_predict, label='Predicted')\n",
        "\n",
        "# Customize the chart\n",
        "plt.title('LSTM+sentiment score')\n",
        "plt.xlabel('Date')\n",
        "plt.ylabel('Price')\n",
        "plt.legend(loc='best')\n",
        "plt.grid()\n",
        "\n",
        "# Display the chart\n",
        "plt.show()"
      ],
      "metadata": {
        "id": "EGJWoUtt848C"
      },
      "execution_count": null,
      "outputs": []
    },
    {
      "cell_type": "markdown",
      "metadata": {
        "id": "v_EYM5ulfc6K"
      },
      "source": [
        "## Construct Dataframe"
      ]
    },
    {
      "cell_type": "markdown",
      "metadata": {
        "id": "6Koa-LGYfhMw"
      },
      "source": [
        "## Prediction"
      ]
    },
    {
      "cell_type": "markdown",
      "metadata": {
        "id": "EYoSvkIFep_a"
      },
      "source": [
        "# CONCLUSION"
      ]
    }
  ],
  "metadata": {
    "accelerator": "GPU",
    "colab": {
      "provenance": [],
      "collapsed_sections": [
        "aTe4bpfsm98k"
      ],
      "toc_visible": true
    },
    "gpuClass": "standard",
    "kernelspec": {
      "display_name": "Python 3",
      "name": "python3"
    },
    "language_info": {
      "name": "python"
    },
    "widgets": {
      "application/vnd.jupyter.widget-state+json": {
        "9fb2df405f3047b39f1bb75152b34fd2": {
          "model_module": "@jupyter-widgets/controls",
          "model_name": "HBoxModel",
          "model_module_version": "1.5.0",
          "state": {
            "_dom_classes": [],
            "_model_module": "@jupyter-widgets/controls",
            "_model_module_version": "1.5.0",
            "_model_name": "HBoxModel",
            "_view_count": null,
            "_view_module": "@jupyter-widgets/controls",
            "_view_module_version": "1.5.0",
            "_view_name": "HBoxView",
            "box_style": "",
            "children": [
              "IPY_MODEL_1f4ebfa845634a66bd6de70f614cbfab",
              "IPY_MODEL_0ef7ff75973947f4be3550575bce3d57",
              "IPY_MODEL_51eee707d4ef49129141e37cfd6360b2"
            ],
            "layout": "IPY_MODEL_6d2bc2089ae749b38795434b8f9a3ea3"
          }
        },
        "1f4ebfa845634a66bd6de70f614cbfab": {
          "model_module": "@jupyter-widgets/controls",
          "model_name": "HTMLModel",
          "model_module_version": "1.5.0",
          "state": {
            "_dom_classes": [],
            "_model_module": "@jupyter-widgets/controls",
            "_model_module_version": "1.5.0",
            "_model_name": "HTMLModel",
            "_view_count": null,
            "_view_module": "@jupyter-widgets/controls",
            "_view_module_version": "1.5.0",
            "_view_name": "HTMLView",
            "description": "",
            "description_tooltip": null,
            "layout": "IPY_MODEL_bc6721be85554f268ac7f8d0085e9f55",
            "placeholder": "​",
            "style": "IPY_MODEL_1c6b4e482f7445df8cf439222e90c694",
            "value": "Downloading (…)lve/main/config.json: 100%"
          }
        },
        "0ef7ff75973947f4be3550575bce3d57": {
          "model_module": "@jupyter-widgets/controls",
          "model_name": "FloatProgressModel",
          "model_module_version": "1.5.0",
          "state": {
            "_dom_classes": [],
            "_model_module": "@jupyter-widgets/controls",
            "_model_module_version": "1.5.0",
            "_model_name": "FloatProgressModel",
            "_view_count": null,
            "_view_module": "@jupyter-widgets/controls",
            "_view_module_version": "1.5.0",
            "_view_name": "ProgressView",
            "bar_style": "success",
            "description": "",
            "description_tooltip": null,
            "layout": "IPY_MODEL_e5fc1041e45b475fb603e82b5f53b717",
            "max": 758,
            "min": 0,
            "orientation": "horizontal",
            "style": "IPY_MODEL_8f129c6dc2994eb288cc50dfb5fd7e05",
            "value": 758
          }
        },
        "51eee707d4ef49129141e37cfd6360b2": {
          "model_module": "@jupyter-widgets/controls",
          "model_name": "HTMLModel",
          "model_module_version": "1.5.0",
          "state": {
            "_dom_classes": [],
            "_model_module": "@jupyter-widgets/controls",
            "_model_module_version": "1.5.0",
            "_model_name": "HTMLModel",
            "_view_count": null,
            "_view_module": "@jupyter-widgets/controls",
            "_view_module_version": "1.5.0",
            "_view_name": "HTMLView",
            "description": "",
            "description_tooltip": null,
            "layout": "IPY_MODEL_78b39e8f148b402f94ff2caa3ce7c782",
            "placeholder": "​",
            "style": "IPY_MODEL_a12553c877af453180850cdea346c949",
            "value": " 758/758 [00:00&lt;00:00, 17.8kB/s]"
          }
        },
        "6d2bc2089ae749b38795434b8f9a3ea3": {
          "model_module": "@jupyter-widgets/base",
          "model_name": "LayoutModel",
          "model_module_version": "1.2.0",
          "state": {
            "_model_module": "@jupyter-widgets/base",
            "_model_module_version": "1.2.0",
            "_model_name": "LayoutModel",
            "_view_count": null,
            "_view_module": "@jupyter-widgets/base",
            "_view_module_version": "1.2.0",
            "_view_name": "LayoutView",
            "align_content": null,
            "align_items": null,
            "align_self": null,
            "border": null,
            "bottom": null,
            "display": null,
            "flex": null,
            "flex_flow": null,
            "grid_area": null,
            "grid_auto_columns": null,
            "grid_auto_flow": null,
            "grid_auto_rows": null,
            "grid_column": null,
            "grid_gap": null,
            "grid_row": null,
            "grid_template_areas": null,
            "grid_template_columns": null,
            "grid_template_rows": null,
            "height": null,
            "justify_content": null,
            "justify_items": null,
            "left": null,
            "margin": null,
            "max_height": null,
            "max_width": null,
            "min_height": null,
            "min_width": null,
            "object_fit": null,
            "object_position": null,
            "order": null,
            "overflow": null,
            "overflow_x": null,
            "overflow_y": null,
            "padding": null,
            "right": null,
            "top": null,
            "visibility": null,
            "width": null
          }
        },
        "bc6721be85554f268ac7f8d0085e9f55": {
          "model_module": "@jupyter-widgets/base",
          "model_name": "LayoutModel",
          "model_module_version": "1.2.0",
          "state": {
            "_model_module": "@jupyter-widgets/base",
            "_model_module_version": "1.2.0",
            "_model_name": "LayoutModel",
            "_view_count": null,
            "_view_module": "@jupyter-widgets/base",
            "_view_module_version": "1.2.0",
            "_view_name": "LayoutView",
            "align_content": null,
            "align_items": null,
            "align_self": null,
            "border": null,
            "bottom": null,
            "display": null,
            "flex": null,
            "flex_flow": null,
            "grid_area": null,
            "grid_auto_columns": null,
            "grid_auto_flow": null,
            "grid_auto_rows": null,
            "grid_column": null,
            "grid_gap": null,
            "grid_row": null,
            "grid_template_areas": null,
            "grid_template_columns": null,
            "grid_template_rows": null,
            "height": null,
            "justify_content": null,
            "justify_items": null,
            "left": null,
            "margin": null,
            "max_height": null,
            "max_width": null,
            "min_height": null,
            "min_width": null,
            "object_fit": null,
            "object_position": null,
            "order": null,
            "overflow": null,
            "overflow_x": null,
            "overflow_y": null,
            "padding": null,
            "right": null,
            "top": null,
            "visibility": null,
            "width": null
          }
        },
        "1c6b4e482f7445df8cf439222e90c694": {
          "model_module": "@jupyter-widgets/controls",
          "model_name": "DescriptionStyleModel",
          "model_module_version": "1.5.0",
          "state": {
            "_model_module": "@jupyter-widgets/controls",
            "_model_module_version": "1.5.0",
            "_model_name": "DescriptionStyleModel",
            "_view_count": null,
            "_view_module": "@jupyter-widgets/base",
            "_view_module_version": "1.2.0",
            "_view_name": "StyleView",
            "description_width": ""
          }
        },
        "e5fc1041e45b475fb603e82b5f53b717": {
          "model_module": "@jupyter-widgets/base",
          "model_name": "LayoutModel",
          "model_module_version": "1.2.0",
          "state": {
            "_model_module": "@jupyter-widgets/base",
            "_model_module_version": "1.2.0",
            "_model_name": "LayoutModel",
            "_view_count": null,
            "_view_module": "@jupyter-widgets/base",
            "_view_module_version": "1.2.0",
            "_view_name": "LayoutView",
            "align_content": null,
            "align_items": null,
            "align_self": null,
            "border": null,
            "bottom": null,
            "display": null,
            "flex": null,
            "flex_flow": null,
            "grid_area": null,
            "grid_auto_columns": null,
            "grid_auto_flow": null,
            "grid_auto_rows": null,
            "grid_column": null,
            "grid_gap": null,
            "grid_row": null,
            "grid_template_areas": null,
            "grid_template_columns": null,
            "grid_template_rows": null,
            "height": null,
            "justify_content": null,
            "justify_items": null,
            "left": null,
            "margin": null,
            "max_height": null,
            "max_width": null,
            "min_height": null,
            "min_width": null,
            "object_fit": null,
            "object_position": null,
            "order": null,
            "overflow": null,
            "overflow_x": null,
            "overflow_y": null,
            "padding": null,
            "right": null,
            "top": null,
            "visibility": null,
            "width": null
          }
        },
        "8f129c6dc2994eb288cc50dfb5fd7e05": {
          "model_module": "@jupyter-widgets/controls",
          "model_name": "ProgressStyleModel",
          "model_module_version": "1.5.0",
          "state": {
            "_model_module": "@jupyter-widgets/controls",
            "_model_module_version": "1.5.0",
            "_model_name": "ProgressStyleModel",
            "_view_count": null,
            "_view_module": "@jupyter-widgets/base",
            "_view_module_version": "1.2.0",
            "_view_name": "StyleView",
            "bar_color": null,
            "description_width": ""
          }
        },
        "78b39e8f148b402f94ff2caa3ce7c782": {
          "model_module": "@jupyter-widgets/base",
          "model_name": "LayoutModel",
          "model_module_version": "1.2.0",
          "state": {
            "_model_module": "@jupyter-widgets/base",
            "_model_module_version": "1.2.0",
            "_model_name": "LayoutModel",
            "_view_count": null,
            "_view_module": "@jupyter-widgets/base",
            "_view_module_version": "1.2.0",
            "_view_name": "LayoutView",
            "align_content": null,
            "align_items": null,
            "align_self": null,
            "border": null,
            "bottom": null,
            "display": null,
            "flex": null,
            "flex_flow": null,
            "grid_area": null,
            "grid_auto_columns": null,
            "grid_auto_flow": null,
            "grid_auto_rows": null,
            "grid_column": null,
            "grid_gap": null,
            "grid_row": null,
            "grid_template_areas": null,
            "grid_template_columns": null,
            "grid_template_rows": null,
            "height": null,
            "justify_content": null,
            "justify_items": null,
            "left": null,
            "margin": null,
            "max_height": null,
            "max_width": null,
            "min_height": null,
            "min_width": null,
            "object_fit": null,
            "object_position": null,
            "order": null,
            "overflow": null,
            "overflow_x": null,
            "overflow_y": null,
            "padding": null,
            "right": null,
            "top": null,
            "visibility": null,
            "width": null
          }
        },
        "a12553c877af453180850cdea346c949": {
          "model_module": "@jupyter-widgets/controls",
          "model_name": "DescriptionStyleModel",
          "model_module_version": "1.5.0",
          "state": {
            "_model_module": "@jupyter-widgets/controls",
            "_model_module_version": "1.5.0",
            "_model_name": "DescriptionStyleModel",
            "_view_count": null,
            "_view_module": "@jupyter-widgets/base",
            "_view_module_version": "1.2.0",
            "_view_name": "StyleView",
            "description_width": ""
          }
        },
        "ddf835d5e9c845879ee692e06295c5fc": {
          "model_module": "@jupyter-widgets/controls",
          "model_name": "HBoxModel",
          "model_module_version": "1.5.0",
          "state": {
            "_dom_classes": [],
            "_model_module": "@jupyter-widgets/controls",
            "_model_module_version": "1.5.0",
            "_model_name": "HBoxModel",
            "_view_count": null,
            "_view_module": "@jupyter-widgets/controls",
            "_view_module_version": "1.5.0",
            "_view_name": "HBoxView",
            "box_style": "",
            "children": [
              "IPY_MODEL_b97ffa68639347cc8976c22645a002d9",
              "IPY_MODEL_6b2195eee0904da0bf7877806aa54924",
              "IPY_MODEL_d48627f43b19432988d81f343d7012ed"
            ],
            "layout": "IPY_MODEL_b9c5e0b5b662440e8b3dabc09ac56941"
          }
        },
        "b97ffa68639347cc8976c22645a002d9": {
          "model_module": "@jupyter-widgets/controls",
          "model_name": "HTMLModel",
          "model_module_version": "1.5.0",
          "state": {
            "_dom_classes": [],
            "_model_module": "@jupyter-widgets/controls",
            "_model_module_version": "1.5.0",
            "_model_name": "HTMLModel",
            "_view_count": null,
            "_view_module": "@jupyter-widgets/controls",
            "_view_module_version": "1.5.0",
            "_view_name": "HTMLView",
            "description": "",
            "description_tooltip": null,
            "layout": "IPY_MODEL_775d09c4ce5546139ef65adf902b1864",
            "placeholder": "​",
            "style": "IPY_MODEL_39b4d0e6dd924290a3fc79a251c5d84f",
            "value": "Downloading pytorch_model.bin: 100%"
          }
        },
        "6b2195eee0904da0bf7877806aa54924": {
          "model_module": "@jupyter-widgets/controls",
          "model_name": "FloatProgressModel",
          "model_module_version": "1.5.0",
          "state": {
            "_dom_classes": [],
            "_model_module": "@jupyter-widgets/controls",
            "_model_module_version": "1.5.0",
            "_model_name": "FloatProgressModel",
            "_view_count": null,
            "_view_module": "@jupyter-widgets/controls",
            "_view_module_version": "1.5.0",
            "_view_name": "ProgressView",
            "bar_style": "success",
            "description": "",
            "description_tooltip": null,
            "layout": "IPY_MODEL_f76c1540d12a4135b8ed23ec5bd914ee",
            "max": 437992753,
            "min": 0,
            "orientation": "horizontal",
            "style": "IPY_MODEL_a71d20f421514fed88af1ce6c15dd443",
            "value": 437992753
          }
        },
        "d48627f43b19432988d81f343d7012ed": {
          "model_module": "@jupyter-widgets/controls",
          "model_name": "HTMLModel",
          "model_module_version": "1.5.0",
          "state": {
            "_dom_classes": [],
            "_model_module": "@jupyter-widgets/controls",
            "_model_module_version": "1.5.0",
            "_model_name": "HTMLModel",
            "_view_count": null,
            "_view_module": "@jupyter-widgets/controls",
            "_view_module_version": "1.5.0",
            "_view_name": "HTMLView",
            "description": "",
            "description_tooltip": null,
            "layout": "IPY_MODEL_60269e2c28654c9ab9488ecd1655a682",
            "placeholder": "​",
            "style": "IPY_MODEL_a87cf498d7ac437c9d78942a41ed7018",
            "value": " 438M/438M [00:03&lt;00:00, 163MB/s]"
          }
        },
        "b9c5e0b5b662440e8b3dabc09ac56941": {
          "model_module": "@jupyter-widgets/base",
          "model_name": "LayoutModel",
          "model_module_version": "1.2.0",
          "state": {
            "_model_module": "@jupyter-widgets/base",
            "_model_module_version": "1.2.0",
            "_model_name": "LayoutModel",
            "_view_count": null,
            "_view_module": "@jupyter-widgets/base",
            "_view_module_version": "1.2.0",
            "_view_name": "LayoutView",
            "align_content": null,
            "align_items": null,
            "align_self": null,
            "border": null,
            "bottom": null,
            "display": null,
            "flex": null,
            "flex_flow": null,
            "grid_area": null,
            "grid_auto_columns": null,
            "grid_auto_flow": null,
            "grid_auto_rows": null,
            "grid_column": null,
            "grid_gap": null,
            "grid_row": null,
            "grid_template_areas": null,
            "grid_template_columns": null,
            "grid_template_rows": null,
            "height": null,
            "justify_content": null,
            "justify_items": null,
            "left": null,
            "margin": null,
            "max_height": null,
            "max_width": null,
            "min_height": null,
            "min_width": null,
            "object_fit": null,
            "object_position": null,
            "order": null,
            "overflow": null,
            "overflow_x": null,
            "overflow_y": null,
            "padding": null,
            "right": null,
            "top": null,
            "visibility": null,
            "width": null
          }
        },
        "775d09c4ce5546139ef65adf902b1864": {
          "model_module": "@jupyter-widgets/base",
          "model_name": "LayoutModel",
          "model_module_version": "1.2.0",
          "state": {
            "_model_module": "@jupyter-widgets/base",
            "_model_module_version": "1.2.0",
            "_model_name": "LayoutModel",
            "_view_count": null,
            "_view_module": "@jupyter-widgets/base",
            "_view_module_version": "1.2.0",
            "_view_name": "LayoutView",
            "align_content": null,
            "align_items": null,
            "align_self": null,
            "border": null,
            "bottom": null,
            "display": null,
            "flex": null,
            "flex_flow": null,
            "grid_area": null,
            "grid_auto_columns": null,
            "grid_auto_flow": null,
            "grid_auto_rows": null,
            "grid_column": null,
            "grid_gap": null,
            "grid_row": null,
            "grid_template_areas": null,
            "grid_template_columns": null,
            "grid_template_rows": null,
            "height": null,
            "justify_content": null,
            "justify_items": null,
            "left": null,
            "margin": null,
            "max_height": null,
            "max_width": null,
            "min_height": null,
            "min_width": null,
            "object_fit": null,
            "object_position": null,
            "order": null,
            "overflow": null,
            "overflow_x": null,
            "overflow_y": null,
            "padding": null,
            "right": null,
            "top": null,
            "visibility": null,
            "width": null
          }
        },
        "39b4d0e6dd924290a3fc79a251c5d84f": {
          "model_module": "@jupyter-widgets/controls",
          "model_name": "DescriptionStyleModel",
          "model_module_version": "1.5.0",
          "state": {
            "_model_module": "@jupyter-widgets/controls",
            "_model_module_version": "1.5.0",
            "_model_name": "DescriptionStyleModel",
            "_view_count": null,
            "_view_module": "@jupyter-widgets/base",
            "_view_module_version": "1.2.0",
            "_view_name": "StyleView",
            "description_width": ""
          }
        },
        "f76c1540d12a4135b8ed23ec5bd914ee": {
          "model_module": "@jupyter-widgets/base",
          "model_name": "LayoutModel",
          "model_module_version": "1.2.0",
          "state": {
            "_model_module": "@jupyter-widgets/base",
            "_model_module_version": "1.2.0",
            "_model_name": "LayoutModel",
            "_view_count": null,
            "_view_module": "@jupyter-widgets/base",
            "_view_module_version": "1.2.0",
            "_view_name": "LayoutView",
            "align_content": null,
            "align_items": null,
            "align_self": null,
            "border": null,
            "bottom": null,
            "display": null,
            "flex": null,
            "flex_flow": null,
            "grid_area": null,
            "grid_auto_columns": null,
            "grid_auto_flow": null,
            "grid_auto_rows": null,
            "grid_column": null,
            "grid_gap": null,
            "grid_row": null,
            "grid_template_areas": null,
            "grid_template_columns": null,
            "grid_template_rows": null,
            "height": null,
            "justify_content": null,
            "justify_items": null,
            "left": null,
            "margin": null,
            "max_height": null,
            "max_width": null,
            "min_height": null,
            "min_width": null,
            "object_fit": null,
            "object_position": null,
            "order": null,
            "overflow": null,
            "overflow_x": null,
            "overflow_y": null,
            "padding": null,
            "right": null,
            "top": null,
            "visibility": null,
            "width": null
          }
        },
        "a71d20f421514fed88af1ce6c15dd443": {
          "model_module": "@jupyter-widgets/controls",
          "model_name": "ProgressStyleModel",
          "model_module_version": "1.5.0",
          "state": {
            "_model_module": "@jupyter-widgets/controls",
            "_model_module_version": "1.5.0",
            "_model_name": "ProgressStyleModel",
            "_view_count": null,
            "_view_module": "@jupyter-widgets/base",
            "_view_module_version": "1.2.0",
            "_view_name": "StyleView",
            "bar_color": null,
            "description_width": ""
          }
        },
        "60269e2c28654c9ab9488ecd1655a682": {
          "model_module": "@jupyter-widgets/base",
          "model_name": "LayoutModel",
          "model_module_version": "1.2.0",
          "state": {
            "_model_module": "@jupyter-widgets/base",
            "_model_module_version": "1.2.0",
            "_model_name": "LayoutModel",
            "_view_count": null,
            "_view_module": "@jupyter-widgets/base",
            "_view_module_version": "1.2.0",
            "_view_name": "LayoutView",
            "align_content": null,
            "align_items": null,
            "align_self": null,
            "border": null,
            "bottom": null,
            "display": null,
            "flex": null,
            "flex_flow": null,
            "grid_area": null,
            "grid_auto_columns": null,
            "grid_auto_flow": null,
            "grid_auto_rows": null,
            "grid_column": null,
            "grid_gap": null,
            "grid_row": null,
            "grid_template_areas": null,
            "grid_template_columns": null,
            "grid_template_rows": null,
            "height": null,
            "justify_content": null,
            "justify_items": null,
            "left": null,
            "margin": null,
            "max_height": null,
            "max_width": null,
            "min_height": null,
            "min_width": null,
            "object_fit": null,
            "object_position": null,
            "order": null,
            "overflow": null,
            "overflow_x": null,
            "overflow_y": null,
            "padding": null,
            "right": null,
            "top": null,
            "visibility": null,
            "width": null
          }
        },
        "a87cf498d7ac437c9d78942a41ed7018": {
          "model_module": "@jupyter-widgets/controls",
          "model_name": "DescriptionStyleModel",
          "model_module_version": "1.5.0",
          "state": {
            "_model_module": "@jupyter-widgets/controls",
            "_model_module_version": "1.5.0",
            "_model_name": "DescriptionStyleModel",
            "_view_count": null,
            "_view_module": "@jupyter-widgets/base",
            "_view_module_version": "1.2.0",
            "_view_name": "StyleView",
            "description_width": ""
          }
        },
        "d48a6f65661f44e1846b1a089b0040b4": {
          "model_module": "@jupyter-widgets/controls",
          "model_name": "HBoxModel",
          "model_module_version": "1.5.0",
          "state": {
            "_dom_classes": [],
            "_model_module": "@jupyter-widgets/controls",
            "_model_module_version": "1.5.0",
            "_model_name": "HBoxModel",
            "_view_count": null,
            "_view_module": "@jupyter-widgets/controls",
            "_view_module_version": "1.5.0",
            "_view_name": "HBoxView",
            "box_style": "",
            "children": [
              "IPY_MODEL_4a7ce3fcfb234b07bb5c1900bef65105",
              "IPY_MODEL_56fb72d818fb444981399952033a91f9",
              "IPY_MODEL_61b46361bd4f441399cdfe42bc4b3b04"
            ],
            "layout": "IPY_MODEL_cc9f6715bc7e4f068b6d678372ecfd2b"
          }
        },
        "4a7ce3fcfb234b07bb5c1900bef65105": {
          "model_module": "@jupyter-widgets/controls",
          "model_name": "HTMLModel",
          "model_module_version": "1.5.0",
          "state": {
            "_dom_classes": [],
            "_model_module": "@jupyter-widgets/controls",
            "_model_module_version": "1.5.0",
            "_model_name": "HTMLModel",
            "_view_count": null,
            "_view_module": "@jupyter-widgets/controls",
            "_view_module_version": "1.5.0",
            "_view_name": "HTMLView",
            "description": "",
            "description_tooltip": null,
            "layout": "IPY_MODEL_95cf77a38005492797b9651bc1a42102",
            "placeholder": "​",
            "style": "IPY_MODEL_09572a96554f435d9ef87c4c0fec5e9b",
            "value": "Downloading (…)okenizer_config.json: 100%"
          }
        },
        "56fb72d818fb444981399952033a91f9": {
          "model_module": "@jupyter-widgets/controls",
          "model_name": "FloatProgressModel",
          "model_module_version": "1.5.0",
          "state": {
            "_dom_classes": [],
            "_model_module": "@jupyter-widgets/controls",
            "_model_module_version": "1.5.0",
            "_model_name": "FloatProgressModel",
            "_view_count": null,
            "_view_module": "@jupyter-widgets/controls",
            "_view_module_version": "1.5.0",
            "_view_name": "ProgressView",
            "bar_style": "success",
            "description": "",
            "description_tooltip": null,
            "layout": "IPY_MODEL_5a194d1cc317497cbd8ca95666e61727",
            "max": 252,
            "min": 0,
            "orientation": "horizontal",
            "style": "IPY_MODEL_f836bbe5e7e3442ebea31998e38c1670",
            "value": 252
          }
        },
        "61b46361bd4f441399cdfe42bc4b3b04": {
          "model_module": "@jupyter-widgets/controls",
          "model_name": "HTMLModel",
          "model_module_version": "1.5.0",
          "state": {
            "_dom_classes": [],
            "_model_module": "@jupyter-widgets/controls",
            "_model_module_version": "1.5.0",
            "_model_name": "HTMLModel",
            "_view_count": null,
            "_view_module": "@jupyter-widgets/controls",
            "_view_module_version": "1.5.0",
            "_view_name": "HTMLView",
            "description": "",
            "description_tooltip": null,
            "layout": "IPY_MODEL_5fb4595d52134deaae76eabcd8bcca48",
            "placeholder": "​",
            "style": "IPY_MODEL_016c6282782449feb05da512df28daec",
            "value": " 252/252 [00:00&lt;00:00, 6.04kB/s]"
          }
        },
        "cc9f6715bc7e4f068b6d678372ecfd2b": {
          "model_module": "@jupyter-widgets/base",
          "model_name": "LayoutModel",
          "model_module_version": "1.2.0",
          "state": {
            "_model_module": "@jupyter-widgets/base",
            "_model_module_version": "1.2.0",
            "_model_name": "LayoutModel",
            "_view_count": null,
            "_view_module": "@jupyter-widgets/base",
            "_view_module_version": "1.2.0",
            "_view_name": "LayoutView",
            "align_content": null,
            "align_items": null,
            "align_self": null,
            "border": null,
            "bottom": null,
            "display": null,
            "flex": null,
            "flex_flow": null,
            "grid_area": null,
            "grid_auto_columns": null,
            "grid_auto_flow": null,
            "grid_auto_rows": null,
            "grid_column": null,
            "grid_gap": null,
            "grid_row": null,
            "grid_template_areas": null,
            "grid_template_columns": null,
            "grid_template_rows": null,
            "height": null,
            "justify_content": null,
            "justify_items": null,
            "left": null,
            "margin": null,
            "max_height": null,
            "max_width": null,
            "min_height": null,
            "min_width": null,
            "object_fit": null,
            "object_position": null,
            "order": null,
            "overflow": null,
            "overflow_x": null,
            "overflow_y": null,
            "padding": null,
            "right": null,
            "top": null,
            "visibility": null,
            "width": null
          }
        },
        "95cf77a38005492797b9651bc1a42102": {
          "model_module": "@jupyter-widgets/base",
          "model_name": "LayoutModel",
          "model_module_version": "1.2.0",
          "state": {
            "_model_module": "@jupyter-widgets/base",
            "_model_module_version": "1.2.0",
            "_model_name": "LayoutModel",
            "_view_count": null,
            "_view_module": "@jupyter-widgets/base",
            "_view_module_version": "1.2.0",
            "_view_name": "LayoutView",
            "align_content": null,
            "align_items": null,
            "align_self": null,
            "border": null,
            "bottom": null,
            "display": null,
            "flex": null,
            "flex_flow": null,
            "grid_area": null,
            "grid_auto_columns": null,
            "grid_auto_flow": null,
            "grid_auto_rows": null,
            "grid_column": null,
            "grid_gap": null,
            "grid_row": null,
            "grid_template_areas": null,
            "grid_template_columns": null,
            "grid_template_rows": null,
            "height": null,
            "justify_content": null,
            "justify_items": null,
            "left": null,
            "margin": null,
            "max_height": null,
            "max_width": null,
            "min_height": null,
            "min_width": null,
            "object_fit": null,
            "object_position": null,
            "order": null,
            "overflow": null,
            "overflow_x": null,
            "overflow_y": null,
            "padding": null,
            "right": null,
            "top": null,
            "visibility": null,
            "width": null
          }
        },
        "09572a96554f435d9ef87c4c0fec5e9b": {
          "model_module": "@jupyter-widgets/controls",
          "model_name": "DescriptionStyleModel",
          "model_module_version": "1.5.0",
          "state": {
            "_model_module": "@jupyter-widgets/controls",
            "_model_module_version": "1.5.0",
            "_model_name": "DescriptionStyleModel",
            "_view_count": null,
            "_view_module": "@jupyter-widgets/base",
            "_view_module_version": "1.2.0",
            "_view_name": "StyleView",
            "description_width": ""
          }
        },
        "5a194d1cc317497cbd8ca95666e61727": {
          "model_module": "@jupyter-widgets/base",
          "model_name": "LayoutModel",
          "model_module_version": "1.2.0",
          "state": {
            "_model_module": "@jupyter-widgets/base",
            "_model_module_version": "1.2.0",
            "_model_name": "LayoutModel",
            "_view_count": null,
            "_view_module": "@jupyter-widgets/base",
            "_view_module_version": "1.2.0",
            "_view_name": "LayoutView",
            "align_content": null,
            "align_items": null,
            "align_self": null,
            "border": null,
            "bottom": null,
            "display": null,
            "flex": null,
            "flex_flow": null,
            "grid_area": null,
            "grid_auto_columns": null,
            "grid_auto_flow": null,
            "grid_auto_rows": null,
            "grid_column": null,
            "grid_gap": null,
            "grid_row": null,
            "grid_template_areas": null,
            "grid_template_columns": null,
            "grid_template_rows": null,
            "height": null,
            "justify_content": null,
            "justify_items": null,
            "left": null,
            "margin": null,
            "max_height": null,
            "max_width": null,
            "min_height": null,
            "min_width": null,
            "object_fit": null,
            "object_position": null,
            "order": null,
            "overflow": null,
            "overflow_x": null,
            "overflow_y": null,
            "padding": null,
            "right": null,
            "top": null,
            "visibility": null,
            "width": null
          }
        },
        "f836bbe5e7e3442ebea31998e38c1670": {
          "model_module": "@jupyter-widgets/controls",
          "model_name": "ProgressStyleModel",
          "model_module_version": "1.5.0",
          "state": {
            "_model_module": "@jupyter-widgets/controls",
            "_model_module_version": "1.5.0",
            "_model_name": "ProgressStyleModel",
            "_view_count": null,
            "_view_module": "@jupyter-widgets/base",
            "_view_module_version": "1.2.0",
            "_view_name": "StyleView",
            "bar_color": null,
            "description_width": ""
          }
        },
        "5fb4595d52134deaae76eabcd8bcca48": {
          "model_module": "@jupyter-widgets/base",
          "model_name": "LayoutModel",
          "model_module_version": "1.2.0",
          "state": {
            "_model_module": "@jupyter-widgets/base",
            "_model_module_version": "1.2.0",
            "_model_name": "LayoutModel",
            "_view_count": null,
            "_view_module": "@jupyter-widgets/base",
            "_view_module_version": "1.2.0",
            "_view_name": "LayoutView",
            "align_content": null,
            "align_items": null,
            "align_self": null,
            "border": null,
            "bottom": null,
            "display": null,
            "flex": null,
            "flex_flow": null,
            "grid_area": null,
            "grid_auto_columns": null,
            "grid_auto_flow": null,
            "grid_auto_rows": null,
            "grid_column": null,
            "grid_gap": null,
            "grid_row": null,
            "grid_template_areas": null,
            "grid_template_columns": null,
            "grid_template_rows": null,
            "height": null,
            "justify_content": null,
            "justify_items": null,
            "left": null,
            "margin": null,
            "max_height": null,
            "max_width": null,
            "min_height": null,
            "min_width": null,
            "object_fit": null,
            "object_position": null,
            "order": null,
            "overflow": null,
            "overflow_x": null,
            "overflow_y": null,
            "padding": null,
            "right": null,
            "top": null,
            "visibility": null,
            "width": null
          }
        },
        "016c6282782449feb05da512df28daec": {
          "model_module": "@jupyter-widgets/controls",
          "model_name": "DescriptionStyleModel",
          "model_module_version": "1.5.0",
          "state": {
            "_model_module": "@jupyter-widgets/controls",
            "_model_module_version": "1.5.0",
            "_model_name": "DescriptionStyleModel",
            "_view_count": null,
            "_view_module": "@jupyter-widgets/base",
            "_view_module_version": "1.2.0",
            "_view_name": "StyleView",
            "description_width": ""
          }
        },
        "aefb8f4027db48a7a11029517568b7b7": {
          "model_module": "@jupyter-widgets/controls",
          "model_name": "HBoxModel",
          "model_module_version": "1.5.0",
          "state": {
            "_dom_classes": [],
            "_model_module": "@jupyter-widgets/controls",
            "_model_module_version": "1.5.0",
            "_model_name": "HBoxModel",
            "_view_count": null,
            "_view_module": "@jupyter-widgets/controls",
            "_view_module_version": "1.5.0",
            "_view_name": "HBoxView",
            "box_style": "",
            "children": [
              "IPY_MODEL_8cdc553483944b99b65880ba871f7dd9",
              "IPY_MODEL_33674361366242c39f02fa6cc4c10e9c",
              "IPY_MODEL_cceca5156dfa4b66843ad4308e44ed64"
            ],
            "layout": "IPY_MODEL_bd433f5b674a4ecca53291fe64b071ab"
          }
        },
        "8cdc553483944b99b65880ba871f7dd9": {
          "model_module": "@jupyter-widgets/controls",
          "model_name": "HTMLModel",
          "model_module_version": "1.5.0",
          "state": {
            "_dom_classes": [],
            "_model_module": "@jupyter-widgets/controls",
            "_model_module_version": "1.5.0",
            "_model_name": "HTMLModel",
            "_view_count": null,
            "_view_module": "@jupyter-widgets/controls",
            "_view_module_version": "1.5.0",
            "_view_name": "HTMLView",
            "description": "",
            "description_tooltip": null,
            "layout": "IPY_MODEL_254241ad83814c71900459dc984f34f1",
            "placeholder": "​",
            "style": "IPY_MODEL_ae972e6a4cb94896826c7638c52b8b4e",
            "value": "Downloading (…)solve/main/vocab.txt: 100%"
          }
        },
        "33674361366242c39f02fa6cc4c10e9c": {
          "model_module": "@jupyter-widgets/controls",
          "model_name": "FloatProgressModel",
          "model_module_version": "1.5.0",
          "state": {
            "_dom_classes": [],
            "_model_module": "@jupyter-widgets/controls",
            "_model_module_version": "1.5.0",
            "_model_name": "FloatProgressModel",
            "_view_count": null,
            "_view_module": "@jupyter-widgets/controls",
            "_view_module_version": "1.5.0",
            "_view_name": "ProgressView",
            "bar_style": "success",
            "description": "",
            "description_tooltip": null,
            "layout": "IPY_MODEL_5b4640fb24c64992a2f2c0d6e66e5756",
            "max": 231508,
            "min": 0,
            "orientation": "horizontal",
            "style": "IPY_MODEL_2df3aea819d34fd6ae320af2ae2e02c3",
            "value": 231508
          }
        },
        "cceca5156dfa4b66843ad4308e44ed64": {
          "model_module": "@jupyter-widgets/controls",
          "model_name": "HTMLModel",
          "model_module_version": "1.5.0",
          "state": {
            "_dom_classes": [],
            "_model_module": "@jupyter-widgets/controls",
            "_model_module_version": "1.5.0",
            "_model_name": "HTMLModel",
            "_view_count": null,
            "_view_module": "@jupyter-widgets/controls",
            "_view_module_version": "1.5.0",
            "_view_name": "HTMLView",
            "description": "",
            "description_tooltip": null,
            "layout": "IPY_MODEL_11308e52a2c04dcb8ce6ed5d941a5b4c",
            "placeholder": "​",
            "style": "IPY_MODEL_74a694e04e5b483d944cc696d7ce3b52",
            "value": " 232k/232k [00:00&lt;00:00, 1.80MB/s]"
          }
        },
        "bd433f5b674a4ecca53291fe64b071ab": {
          "model_module": "@jupyter-widgets/base",
          "model_name": "LayoutModel",
          "model_module_version": "1.2.0",
          "state": {
            "_model_module": "@jupyter-widgets/base",
            "_model_module_version": "1.2.0",
            "_model_name": "LayoutModel",
            "_view_count": null,
            "_view_module": "@jupyter-widgets/base",
            "_view_module_version": "1.2.0",
            "_view_name": "LayoutView",
            "align_content": null,
            "align_items": null,
            "align_self": null,
            "border": null,
            "bottom": null,
            "display": null,
            "flex": null,
            "flex_flow": null,
            "grid_area": null,
            "grid_auto_columns": null,
            "grid_auto_flow": null,
            "grid_auto_rows": null,
            "grid_column": null,
            "grid_gap": null,
            "grid_row": null,
            "grid_template_areas": null,
            "grid_template_columns": null,
            "grid_template_rows": null,
            "height": null,
            "justify_content": null,
            "justify_items": null,
            "left": null,
            "margin": null,
            "max_height": null,
            "max_width": null,
            "min_height": null,
            "min_width": null,
            "object_fit": null,
            "object_position": null,
            "order": null,
            "overflow": null,
            "overflow_x": null,
            "overflow_y": null,
            "padding": null,
            "right": null,
            "top": null,
            "visibility": null,
            "width": null
          }
        },
        "254241ad83814c71900459dc984f34f1": {
          "model_module": "@jupyter-widgets/base",
          "model_name": "LayoutModel",
          "model_module_version": "1.2.0",
          "state": {
            "_model_module": "@jupyter-widgets/base",
            "_model_module_version": "1.2.0",
            "_model_name": "LayoutModel",
            "_view_count": null,
            "_view_module": "@jupyter-widgets/base",
            "_view_module_version": "1.2.0",
            "_view_name": "LayoutView",
            "align_content": null,
            "align_items": null,
            "align_self": null,
            "border": null,
            "bottom": null,
            "display": null,
            "flex": null,
            "flex_flow": null,
            "grid_area": null,
            "grid_auto_columns": null,
            "grid_auto_flow": null,
            "grid_auto_rows": null,
            "grid_column": null,
            "grid_gap": null,
            "grid_row": null,
            "grid_template_areas": null,
            "grid_template_columns": null,
            "grid_template_rows": null,
            "height": null,
            "justify_content": null,
            "justify_items": null,
            "left": null,
            "margin": null,
            "max_height": null,
            "max_width": null,
            "min_height": null,
            "min_width": null,
            "object_fit": null,
            "object_position": null,
            "order": null,
            "overflow": null,
            "overflow_x": null,
            "overflow_y": null,
            "padding": null,
            "right": null,
            "top": null,
            "visibility": null,
            "width": null
          }
        },
        "ae972e6a4cb94896826c7638c52b8b4e": {
          "model_module": "@jupyter-widgets/controls",
          "model_name": "DescriptionStyleModel",
          "model_module_version": "1.5.0",
          "state": {
            "_model_module": "@jupyter-widgets/controls",
            "_model_module_version": "1.5.0",
            "_model_name": "DescriptionStyleModel",
            "_view_count": null,
            "_view_module": "@jupyter-widgets/base",
            "_view_module_version": "1.2.0",
            "_view_name": "StyleView",
            "description_width": ""
          }
        },
        "5b4640fb24c64992a2f2c0d6e66e5756": {
          "model_module": "@jupyter-widgets/base",
          "model_name": "LayoutModel",
          "model_module_version": "1.2.0",
          "state": {
            "_model_module": "@jupyter-widgets/base",
            "_model_module_version": "1.2.0",
            "_model_name": "LayoutModel",
            "_view_count": null,
            "_view_module": "@jupyter-widgets/base",
            "_view_module_version": "1.2.0",
            "_view_name": "LayoutView",
            "align_content": null,
            "align_items": null,
            "align_self": null,
            "border": null,
            "bottom": null,
            "display": null,
            "flex": null,
            "flex_flow": null,
            "grid_area": null,
            "grid_auto_columns": null,
            "grid_auto_flow": null,
            "grid_auto_rows": null,
            "grid_column": null,
            "grid_gap": null,
            "grid_row": null,
            "grid_template_areas": null,
            "grid_template_columns": null,
            "grid_template_rows": null,
            "height": null,
            "justify_content": null,
            "justify_items": null,
            "left": null,
            "margin": null,
            "max_height": null,
            "max_width": null,
            "min_height": null,
            "min_width": null,
            "object_fit": null,
            "object_position": null,
            "order": null,
            "overflow": null,
            "overflow_x": null,
            "overflow_y": null,
            "padding": null,
            "right": null,
            "top": null,
            "visibility": null,
            "width": null
          }
        },
        "2df3aea819d34fd6ae320af2ae2e02c3": {
          "model_module": "@jupyter-widgets/controls",
          "model_name": "ProgressStyleModel",
          "model_module_version": "1.5.0",
          "state": {
            "_model_module": "@jupyter-widgets/controls",
            "_model_module_version": "1.5.0",
            "_model_name": "ProgressStyleModel",
            "_view_count": null,
            "_view_module": "@jupyter-widgets/base",
            "_view_module_version": "1.2.0",
            "_view_name": "StyleView",
            "bar_color": null,
            "description_width": ""
          }
        },
        "11308e52a2c04dcb8ce6ed5d941a5b4c": {
          "model_module": "@jupyter-widgets/base",
          "model_name": "LayoutModel",
          "model_module_version": "1.2.0",
          "state": {
            "_model_module": "@jupyter-widgets/base",
            "_model_module_version": "1.2.0",
            "_model_name": "LayoutModel",
            "_view_count": null,
            "_view_module": "@jupyter-widgets/base",
            "_view_module_version": "1.2.0",
            "_view_name": "LayoutView",
            "align_content": null,
            "align_items": null,
            "align_self": null,
            "border": null,
            "bottom": null,
            "display": null,
            "flex": null,
            "flex_flow": null,
            "grid_area": null,
            "grid_auto_columns": null,
            "grid_auto_flow": null,
            "grid_auto_rows": null,
            "grid_column": null,
            "grid_gap": null,
            "grid_row": null,
            "grid_template_areas": null,
            "grid_template_columns": null,
            "grid_template_rows": null,
            "height": null,
            "justify_content": null,
            "justify_items": null,
            "left": null,
            "margin": null,
            "max_height": null,
            "max_width": null,
            "min_height": null,
            "min_width": null,
            "object_fit": null,
            "object_position": null,
            "order": null,
            "overflow": null,
            "overflow_x": null,
            "overflow_y": null,
            "padding": null,
            "right": null,
            "top": null,
            "visibility": null,
            "width": null
          }
        },
        "74a694e04e5b483d944cc696d7ce3b52": {
          "model_module": "@jupyter-widgets/controls",
          "model_name": "DescriptionStyleModel",
          "model_module_version": "1.5.0",
          "state": {
            "_model_module": "@jupyter-widgets/controls",
            "_model_module_version": "1.5.0",
            "_model_name": "DescriptionStyleModel",
            "_view_count": null,
            "_view_module": "@jupyter-widgets/base",
            "_view_module_version": "1.2.0",
            "_view_name": "StyleView",
            "description_width": ""
          }
        },
        "a3f591b4db3746bda8951f1a61067921": {
          "model_module": "@jupyter-widgets/controls",
          "model_name": "HBoxModel",
          "model_module_version": "1.5.0",
          "state": {
            "_dom_classes": [],
            "_model_module": "@jupyter-widgets/controls",
            "_model_module_version": "1.5.0",
            "_model_name": "HBoxModel",
            "_view_count": null,
            "_view_module": "@jupyter-widgets/controls",
            "_view_module_version": "1.5.0",
            "_view_name": "HBoxView",
            "box_style": "",
            "children": [
              "IPY_MODEL_434fb611c2364d2895e3d3515d446277",
              "IPY_MODEL_900c87750d8142f1b1d48e15950dc0eb",
              "IPY_MODEL_129a4e2f8cb04d53b1379779325d4711"
            ],
            "layout": "IPY_MODEL_88d76dafc2d04110bac82f4daaf20a2a"
          }
        },
        "434fb611c2364d2895e3d3515d446277": {
          "model_module": "@jupyter-widgets/controls",
          "model_name": "HTMLModel",
          "model_module_version": "1.5.0",
          "state": {
            "_dom_classes": [],
            "_model_module": "@jupyter-widgets/controls",
            "_model_module_version": "1.5.0",
            "_model_name": "HTMLModel",
            "_view_count": null,
            "_view_module": "@jupyter-widgets/controls",
            "_view_module_version": "1.5.0",
            "_view_name": "HTMLView",
            "description": "",
            "description_tooltip": null,
            "layout": "IPY_MODEL_87bcdadcc32a437ea38c3aaea73f3f5d",
            "placeholder": "​",
            "style": "IPY_MODEL_980213dda4e1482bbb5193d1671dc09a",
            "value": "Downloading (…)cial_tokens_map.json: 100%"
          }
        },
        "900c87750d8142f1b1d48e15950dc0eb": {
          "model_module": "@jupyter-widgets/controls",
          "model_name": "FloatProgressModel",
          "model_module_version": "1.5.0",
          "state": {
            "_dom_classes": [],
            "_model_module": "@jupyter-widgets/controls",
            "_model_module_version": "1.5.0",
            "_model_name": "FloatProgressModel",
            "_view_count": null,
            "_view_module": "@jupyter-widgets/controls",
            "_view_module_version": "1.5.0",
            "_view_name": "ProgressView",
            "bar_style": "success",
            "description": "",
            "description_tooltip": null,
            "layout": "IPY_MODEL_7ba6457bcf1e431e9b4be34df2c48c2f",
            "max": 112,
            "min": 0,
            "orientation": "horizontal",
            "style": "IPY_MODEL_2b3f27b8a23c46e7a92d717875cda5b0",
            "value": 112
          }
        },
        "129a4e2f8cb04d53b1379779325d4711": {
          "model_module": "@jupyter-widgets/controls",
          "model_name": "HTMLModel",
          "model_module_version": "1.5.0",
          "state": {
            "_dom_classes": [],
            "_model_module": "@jupyter-widgets/controls",
            "_model_module_version": "1.5.0",
            "_model_name": "HTMLModel",
            "_view_count": null,
            "_view_module": "@jupyter-widgets/controls",
            "_view_module_version": "1.5.0",
            "_view_name": "HTMLView",
            "description": "",
            "description_tooltip": null,
            "layout": "IPY_MODEL_57caf91ddbf84c0caefc96e747e51bc0",
            "placeholder": "​",
            "style": "IPY_MODEL_3ebb4649eec4496997c64f8c79c489ac",
            "value": " 112/112 [00:00&lt;00:00, 2.29kB/s]"
          }
        },
        "88d76dafc2d04110bac82f4daaf20a2a": {
          "model_module": "@jupyter-widgets/base",
          "model_name": "LayoutModel",
          "model_module_version": "1.2.0",
          "state": {
            "_model_module": "@jupyter-widgets/base",
            "_model_module_version": "1.2.0",
            "_model_name": "LayoutModel",
            "_view_count": null,
            "_view_module": "@jupyter-widgets/base",
            "_view_module_version": "1.2.0",
            "_view_name": "LayoutView",
            "align_content": null,
            "align_items": null,
            "align_self": null,
            "border": null,
            "bottom": null,
            "display": null,
            "flex": null,
            "flex_flow": null,
            "grid_area": null,
            "grid_auto_columns": null,
            "grid_auto_flow": null,
            "grid_auto_rows": null,
            "grid_column": null,
            "grid_gap": null,
            "grid_row": null,
            "grid_template_areas": null,
            "grid_template_columns": null,
            "grid_template_rows": null,
            "height": null,
            "justify_content": null,
            "justify_items": null,
            "left": null,
            "margin": null,
            "max_height": null,
            "max_width": null,
            "min_height": null,
            "min_width": null,
            "object_fit": null,
            "object_position": null,
            "order": null,
            "overflow": null,
            "overflow_x": null,
            "overflow_y": null,
            "padding": null,
            "right": null,
            "top": null,
            "visibility": null,
            "width": null
          }
        },
        "87bcdadcc32a437ea38c3aaea73f3f5d": {
          "model_module": "@jupyter-widgets/base",
          "model_name": "LayoutModel",
          "model_module_version": "1.2.0",
          "state": {
            "_model_module": "@jupyter-widgets/base",
            "_model_module_version": "1.2.0",
            "_model_name": "LayoutModel",
            "_view_count": null,
            "_view_module": "@jupyter-widgets/base",
            "_view_module_version": "1.2.0",
            "_view_name": "LayoutView",
            "align_content": null,
            "align_items": null,
            "align_self": null,
            "border": null,
            "bottom": null,
            "display": null,
            "flex": null,
            "flex_flow": null,
            "grid_area": null,
            "grid_auto_columns": null,
            "grid_auto_flow": null,
            "grid_auto_rows": null,
            "grid_column": null,
            "grid_gap": null,
            "grid_row": null,
            "grid_template_areas": null,
            "grid_template_columns": null,
            "grid_template_rows": null,
            "height": null,
            "justify_content": null,
            "justify_items": null,
            "left": null,
            "margin": null,
            "max_height": null,
            "max_width": null,
            "min_height": null,
            "min_width": null,
            "object_fit": null,
            "object_position": null,
            "order": null,
            "overflow": null,
            "overflow_x": null,
            "overflow_y": null,
            "padding": null,
            "right": null,
            "top": null,
            "visibility": null,
            "width": null
          }
        },
        "980213dda4e1482bbb5193d1671dc09a": {
          "model_module": "@jupyter-widgets/controls",
          "model_name": "DescriptionStyleModel",
          "model_module_version": "1.5.0",
          "state": {
            "_model_module": "@jupyter-widgets/controls",
            "_model_module_version": "1.5.0",
            "_model_name": "DescriptionStyleModel",
            "_view_count": null,
            "_view_module": "@jupyter-widgets/base",
            "_view_module_version": "1.2.0",
            "_view_name": "StyleView",
            "description_width": ""
          }
        },
        "7ba6457bcf1e431e9b4be34df2c48c2f": {
          "model_module": "@jupyter-widgets/base",
          "model_name": "LayoutModel",
          "model_module_version": "1.2.0",
          "state": {
            "_model_module": "@jupyter-widgets/base",
            "_model_module_version": "1.2.0",
            "_model_name": "LayoutModel",
            "_view_count": null,
            "_view_module": "@jupyter-widgets/base",
            "_view_module_version": "1.2.0",
            "_view_name": "LayoutView",
            "align_content": null,
            "align_items": null,
            "align_self": null,
            "border": null,
            "bottom": null,
            "display": null,
            "flex": null,
            "flex_flow": null,
            "grid_area": null,
            "grid_auto_columns": null,
            "grid_auto_flow": null,
            "grid_auto_rows": null,
            "grid_column": null,
            "grid_gap": null,
            "grid_row": null,
            "grid_template_areas": null,
            "grid_template_columns": null,
            "grid_template_rows": null,
            "height": null,
            "justify_content": null,
            "justify_items": null,
            "left": null,
            "margin": null,
            "max_height": null,
            "max_width": null,
            "min_height": null,
            "min_width": null,
            "object_fit": null,
            "object_position": null,
            "order": null,
            "overflow": null,
            "overflow_x": null,
            "overflow_y": null,
            "padding": null,
            "right": null,
            "top": null,
            "visibility": null,
            "width": null
          }
        },
        "2b3f27b8a23c46e7a92d717875cda5b0": {
          "model_module": "@jupyter-widgets/controls",
          "model_name": "ProgressStyleModel",
          "model_module_version": "1.5.0",
          "state": {
            "_model_module": "@jupyter-widgets/controls",
            "_model_module_version": "1.5.0",
            "_model_name": "ProgressStyleModel",
            "_view_count": null,
            "_view_module": "@jupyter-widgets/base",
            "_view_module_version": "1.2.0",
            "_view_name": "StyleView",
            "bar_color": null,
            "description_width": ""
          }
        },
        "57caf91ddbf84c0caefc96e747e51bc0": {
          "model_module": "@jupyter-widgets/base",
          "model_name": "LayoutModel",
          "model_module_version": "1.2.0",
          "state": {
            "_model_module": "@jupyter-widgets/base",
            "_model_module_version": "1.2.0",
            "_model_name": "LayoutModel",
            "_view_count": null,
            "_view_module": "@jupyter-widgets/base",
            "_view_module_version": "1.2.0",
            "_view_name": "LayoutView",
            "align_content": null,
            "align_items": null,
            "align_self": null,
            "border": null,
            "bottom": null,
            "display": null,
            "flex": null,
            "flex_flow": null,
            "grid_area": null,
            "grid_auto_columns": null,
            "grid_auto_flow": null,
            "grid_auto_rows": null,
            "grid_column": null,
            "grid_gap": null,
            "grid_row": null,
            "grid_template_areas": null,
            "grid_template_columns": null,
            "grid_template_rows": null,
            "height": null,
            "justify_content": null,
            "justify_items": null,
            "left": null,
            "margin": null,
            "max_height": null,
            "max_width": null,
            "min_height": null,
            "min_width": null,
            "object_fit": null,
            "object_position": null,
            "order": null,
            "overflow": null,
            "overflow_x": null,
            "overflow_y": null,
            "padding": null,
            "right": null,
            "top": null,
            "visibility": null,
            "width": null
          }
        },
        "3ebb4649eec4496997c64f8c79c489ac": {
          "model_module": "@jupyter-widgets/controls",
          "model_name": "DescriptionStyleModel",
          "model_module_version": "1.5.0",
          "state": {
            "_model_module": "@jupyter-widgets/controls",
            "_model_module_version": "1.5.0",
            "_model_name": "DescriptionStyleModel",
            "_view_count": null,
            "_view_module": "@jupyter-widgets/base",
            "_view_module_version": "1.2.0",
            "_view_name": "StyleView",
            "description_width": ""
          }
        }
      }
    }
  },
  "nbformat": 4,
  "nbformat_minor": 0
}